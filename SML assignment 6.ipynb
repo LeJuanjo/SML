{
 "cells": [
  {
   "cell_type": "code",
   "execution_count": null,
   "id": "1f883c4d",
   "metadata": {},
   "outputs": [],
   "source": [
    "# 3. In this problem, you will perform K-means clustering manually, with\n",
    "# K = 2, on a small example with n = 6 observations and p = 2\n",
    "# features. The observations are as follows.\n",
    "# Obs. X1 X2\n",
    "# 1 1 4\n",
    "# 2 1 3\n",
    "# 3 0 4\n",
    "# 4 5 1\n",
    "# 5 6 2\n",
    "# 6 4 0\n",
    "# (a) Plot the observations."
   ]
  },
  {
   "cell_type": "code",
   "execution_count": 1,
   "id": "b98131c5",
   "metadata": {},
   "outputs": [
    {
     "data": {
      "text/html": [
       "<table class=\"dataframe\">\n",
       "<caption>A matrix: 6 × 2 of type dbl</caption>\n",
       "<thead>\n",
       "\t<tr><th scope=col>x1</th><th scope=col>x2</th></tr>\n",
       "</thead>\n",
       "<tbody>\n",
       "\t<tr><td>1</td><td>4</td></tr>\n",
       "\t<tr><td>1</td><td>3</td></tr>\n",
       "\t<tr><td>0</td><td>4</td></tr>\n",
       "\t<tr><td>5</td><td>1</td></tr>\n",
       "\t<tr><td>6</td><td>2</td></tr>\n",
       "\t<tr><td>4</td><td>0</td></tr>\n",
       "</tbody>\n",
       "</table>\n"
      ],
      "text/latex": [
       "A matrix: 6 × 2 of type dbl\n",
       "\\begin{tabular}{ll}\n",
       " x1 & x2\\\\\n",
       "\\hline\n",
       "\t 1 & 4\\\\\n",
       "\t 1 & 3\\\\\n",
       "\t 0 & 4\\\\\n",
       "\t 5 & 1\\\\\n",
       "\t 6 & 2\\\\\n",
       "\t 4 & 0\\\\\n",
       "\\end{tabular}\n"
      ],
      "text/markdown": [
       "\n",
       "A matrix: 6 × 2 of type dbl\n",
       "\n",
       "| x1 | x2 |\n",
       "|---|---|\n",
       "| 1 | 4 |\n",
       "| 1 | 3 |\n",
       "| 0 | 4 |\n",
       "| 5 | 1 |\n",
       "| 6 | 2 |\n",
       "| 4 | 0 |\n",
       "\n"
      ],
      "text/plain": [
       "     x1 x2\n",
       "[1,] 1  4 \n",
       "[2,] 1  3 \n",
       "[3,] 0  4 \n",
       "[4,] 5  1 \n",
       "[5,] 6  2 \n",
       "[6,] 4  0 "
      ]
     },
     "metadata": {},
     "output_type": "display_data"
    }
   ],
   "source": [
    "x1 = c(1,1,0,5,6,4)\n",
    "x2 = c(4,3,4,1,2,0)\n",
    "X= cbind(x1,x2)\n",
    "X"
   ]
  },
  {
   "cell_type": "code",
   "execution_count": 6,
   "id": "858f1523",
   "metadata": {},
   "outputs": [
    {
     "data": {
      "image/png": "[encoded data removed]",
      "text/plain": [
       "plot without title"
      ]
     },
     "metadata": {
      "image/png": {
       "height": 420,
       "width": 420
      }
     },
     "output_type": "display_data"
    }
   ],
   "source": [
    "plot(x1,x2)"
   ]
  },
  {
   "cell_type": "code",
   "execution_count": null,
   "id": "03b36924",
   "metadata": {},
   "outputs": [],
   "source": [
    "# (b) Randomly assign a cluster label to each observation. You can\n",
    "# use the sample() command in R to do this. Report the cluster\n",
    "# labels for each observation."
   ]
  },
  {
   "cell_type": "code",
   "execution_count": 13,
   "id": "98e4dfd5",
   "metadata": {},
   "outputs": [
    {
     "data": {
      "text/html": [
       "<style>\n",
       ".list-inline {list-style: none; margin:0; padding: 0}\n",
       ".list-inline>li {display: inline-block}\n",
       ".list-inline>li:not(:last-child)::after {content: \"\\00b7\"; padding: 0 .5ex}\n",
       "</style>\n",
       "<ol class=list-inline><li>2</li><li>1</li><li>2</li><li>1</li><li>1</li><li>2</li></ol>\n"
      ],
      "text/latex": [
       "\\begin{enumerate*}\n",
       "\\item 2\n",
       "\\item 1\n",
       "\\item 2\n",
       "\\item 1\n",
       "\\item 1\n",
       "\\item 2\n",
       "\\end{enumerate*}\n"
      ],
      "text/markdown": [
       "1. 2\n",
       "2. 1\n",
       "3. 2\n",
       "4. 1\n",
       "5. 1\n",
       "6. 2\n",
       "\n",
       "\n"
      ],
      "text/plain": [
       "[1] 2 1 2 1 1 2"
      ]
     },
     "metadata": {},
     "output_type": "display_data"
    }
   ],
   "source": [
    "cluster = sample(2,6,replace=TRUE)\n",
    "cluster"
   ]
  },
  {
   "cell_type": "code",
   "execution_count": null,
   "id": "8cee237d",
   "metadata": {},
   "outputs": [],
   "source": [
    "# (c) Compute the centroid for each cluster."
   ]
  },
  {
   "cell_type": "code",
   "execution_count": 17,
   "id": "bcf4ec27",
   "metadata": {},
   "outputs": [
    {
     "name": "stdout",
     "output_type": "stream",
     "text": [
      "[1] 4 2\n",
      "[1] 4 2\n"
     ]
    }
   ],
   "source": [
    "metroid1= c(mean(X[cluster==1,1]),mean(X[cluster==1,2]))\n",
    "metroid2= c(mean(X[cluster==2,1]),mean(X[cluster==2,2]))\n",
    "print(metroid1)\n",
    "print(metroid1)"
   ]
  },
  {
   "cell_type": "code",
   "execution_count": null,
   "id": "14a6d39e",
   "metadata": {},
   "outputs": [],
   "source": [
    "# (d) Assign each observation to the centroid to which it is closest, in\n",
    "# terms of Euclidean distance. Report the cluster labels for each\n",
    "# observation."
   ]
  },
  {
   "cell_type": "code",
   "execution_count": null,
   "id": "3183a9d9",
   "metadata": {},
   "outputs": [],
   "source": [
    "Euc_distance <- function (x, y){\n",
    "  return(sqrt((x[1] - y[1])^2 + (x[2] - y[2])^2))\n",
    "}\n",
    "\n",
    "#https://www.guru99.com/r-k-means-clustering.html"
   ]
  },
  {
   "cell_type": "code",
   "execution_count": null,
   "id": "9ad53107",
   "metadata": {},
   "outputs": [],
   "source": [
    "# 8. In Section 10.2.3, a formula for calculating PVE was given in Equation\n",
    "# 10.8.We also saw that the PVE can be obtained using the sdev\n",
    "# output of the prcomp() function.\n",
    "# On the USArrests data, calculate PVE in two ways:\n",
    "# (a) Using the sdev output of the prcomp() function, as was done in\n",
    "# Section 10.2.3."
   ]
  },
  {
   "cell_type": "code",
   "execution_count": 21,
   "id": "d5c5e417",
   "metadata": {},
   "outputs": [
    {
     "data": {
      "text/html": [
       "<style>\n",
       ".list-inline {list-style: none; margin:0; padding: 0}\n",
       ".list-inline>li {display: inline-block}\n",
       ".list-inline>li:not(:last-child)::after {content: \"\\00b7\"; padding: 0 .5ex}\n",
       "</style>\n",
       "<ol class=list-inline><li>0.620060394787374</li><li>0.24744128813496</li><li>0.0891407951452074</li><li>0.0433575219324588</li></ol>\n"
      ],
      "text/latex": [
       "\\begin{enumerate*}\n",
       "\\item 0.620060394787374\n",
       "\\item 0.24744128813496\n",
       "\\item 0.0891407951452074\n",
       "\\item 0.0433575219324588\n",
       "\\end{enumerate*}\n"
      ],
      "text/markdown": [
       "1. 0.620060394787374\n",
       "2. 0.24744128813496\n",
       "3. 0.0891407951452074\n",
       "4. 0.0433575219324588\n",
       "\n",
       "\n"
      ],
      "text/plain": [
       "[1] 0.62006039 0.24744129 0.08914080 0.04335752"
      ]
     },
     "metadata": {},
     "output_type": "display_data"
    }
   ],
   "source": [
    "library(ISLR)\n",
    "pr.out = prcomp(USArrests, center=TRUE, scale=TRUE)\n",
    "pr.var = pr.out$sdev^2\n",
    "pve = pr.var / sum(pr.var)\n",
    "pve"
   ]
  },
  {
   "cell_type": "code",
   "execution_count": null,
   "id": "d35e00e6",
   "metadata": {},
   "outputs": [],
   "source": [
    "# (b) By applying Equation 10.8 directly. That is, use the prcomp()\n",
    "# function to compute the principal component loadings. Then,\n",
    "# use those loadings in Equation 10.8 to obtain the PVE.\n"
   ]
  },
  {
   "cell_type": "code",
   "execution_count": 22,
   "id": "c0b2c75b",
   "metadata": {},
   "outputs": [
    {
     "data": {
      "text/html": [
       "<style>\n",
       ".dl-inline {width: auto; margin:0; padding: 0}\n",
       ".dl-inline>dt, .dl-inline>dd {float: none; width: auto; display: inline-block}\n",
       ".dl-inline>dt::after {content: \":\\0020\"; padding-right: .5ex}\n",
       ".dl-inline>dt:not(:first-of-type) {padding-left: .5ex}\n",
       "</style><dl class=dl-inline><dt>PC1</dt><dd>0.620060394787374</dd><dt>PC2</dt><dd>0.24744128813496</dd><dt>PC3</dt><dd>0.0891407951452075</dd><dt>PC4</dt><dd>0.0433575219324588</dd></dl>\n"
      ],
      "text/latex": [
       "\\begin{description*}\n",
       "\\item[PC1] 0.620060394787374\n",
       "\\item[PC2] 0.24744128813496\n",
       "\\item[PC3] 0.0891407951452075\n",
       "\\item[PC4] 0.0433575219324588\n",
       "\\end{description*}\n"
      ],
      "text/markdown": [
       "PC1\n",
       ":   0.620060394787374PC2\n",
       ":   0.24744128813496PC3\n",
       ":   0.0891407951452075PC4\n",
       ":   0.0433575219324588\n",
       "\n"
      ],
      "text/plain": [
       "       PC1        PC2        PC3        PC4 \n",
       "0.62006039 0.24744129 0.08914080 0.04335752 "
      ]
     },
     "metadata": {},
     "output_type": "display_data"
    }
   ],
   "source": [
    "loadings <- pr.out$rotation\n",
    "USArrests2 <- scale(USArrests)\n",
    "sumvar <- sum(apply(as.matrix(USArrests2)^2, 2, sum))\n",
    "apply((as.matrix(USArrests2) %*% loadings)^2, 2, sum) / sumvar\n",
    "\n",
    "#https://rstudio-pubs-static.s3.amazonaws.com/344683_ffdcd5cb801c4170a25f6cf1e72e300d.html"
   ]
  },
  {
   "cell_type": "code",
   "execution_count": null,
   "id": "e3597eb4",
   "metadata": {},
   "outputs": [],
   "source": [
    "# 9. Consider the USArrests data. We will now perform hierarchical clustering\n",
    "# on the states.\n",
    "# (a) Using hierarchical clustering with complete linkage and\n",
    "# Euclidean distance, cluster the states."
   ]
  },
  {
   "cell_type": "code",
   "execution_count": 23,
   "id": "0bb0be10",
   "metadata": {},
   "outputs": [
    {
     "data": {
      "image/png": "[encoded data removed]",
      "text/plain": [
       "Plot with title \"Cluster Dendrogram\""
      ]
     },
     "metadata": {
      "image/png": {
       "height": 420,
       "width": 420
      }
     },
     "output_type": "display_data"
    }
   ],
   "source": [
    "hc.complete = hclust(dist(USArrests), method=\"complete\")\n",
    "plot(hc.complete)"
   ]
  },
  {
   "cell_type": "code",
   "execution_count": null,
   "id": "dff1ffef",
   "metadata": {},
   "outputs": [],
   "source": [
    "# (b) Cut the dendrogram at a height that results in three distinct\n",
    "# clusters. Which states belong to which clusters?"
   ]
  },
  {
   "cell_type": "code",
   "execution_count": 24,
   "id": "dbea6b3f",
   "metadata": {},
   "outputs": [
    {
     "data": {
      "text/html": [
       "<style>\n",
       ".dl-inline {width: auto; margin:0; padding: 0}\n",
       ".dl-inline>dt, .dl-inline>dd {float: none; width: auto; display: inline-block}\n",
       ".dl-inline>dt::after {content: \":\\0020\"; padding-right: .5ex}\n",
       ".dl-inline>dt:not(:first-of-type) {padding-left: .5ex}\n",
       "</style><dl class=dl-inline><dt>Alabama</dt><dd>1</dd><dt>Alaska</dt><dd>1</dd><dt>Arizona</dt><dd>1</dd><dt>Arkansas</dt><dd>2</dd><dt>California</dt><dd>1</dd><dt>Colorado</dt><dd>2</dd><dt>Connecticut</dt><dd>3</dd><dt>Delaware</dt><dd>1</dd><dt>Florida</dt><dd>1</dd><dt>Georgia</dt><dd>2</dd><dt>Hawaii</dt><dd>3</dd><dt>Idaho</dt><dd>3</dd><dt>Illinois</dt><dd>1</dd><dt>Indiana</dt><dd>3</dd><dt>Iowa</dt><dd>3</dd><dt>Kansas</dt><dd>3</dd><dt>Kentucky</dt><dd>3</dd><dt>Louisiana</dt><dd>1</dd><dt>Maine</dt><dd>3</dd><dt>Maryland</dt><dd>1</dd><dt>Massachusetts</dt><dd>2</dd><dt>Michigan</dt><dd>1</dd><dt>Minnesota</dt><dd>3</dd><dt>Mississippi</dt><dd>1</dd><dt>Missouri</dt><dd>2</dd><dt>Montana</dt><dd>3</dd><dt>Nebraska</dt><dd>3</dd><dt>Nevada</dt><dd>1</dd><dt>New Hampshire</dt><dd>3</dd><dt>New Jersey</dt><dd>2</dd><dt>New Mexico</dt><dd>1</dd><dt>New York</dt><dd>1</dd><dt>North Carolina</dt><dd>1</dd><dt>North Dakota</dt><dd>3</dd><dt>Ohio</dt><dd>3</dd><dt>Oklahoma</dt><dd>2</dd><dt>Oregon</dt><dd>2</dd><dt>Pennsylvania</dt><dd>3</dd><dt>Rhode Island</dt><dd>2</dd><dt>South Carolina</dt><dd>1</dd><dt>South Dakota</dt><dd>3</dd><dt>Tennessee</dt><dd>2</dd><dt>Texas</dt><dd>2</dd><dt>Utah</dt><dd>3</dd><dt>Vermont</dt><dd>3</dd><dt>Virginia</dt><dd>2</dd><dt>Washington</dt><dd>2</dd><dt>West Virginia</dt><dd>3</dd><dt>Wisconsin</dt><dd>3</dd><dt>Wyoming</dt><dd>2</dd></dl>\n"
      ],
      "text/latex": [
       "\\begin{description*}\n",
       "\\item[Alabama] 1\n",
       "\\item[Alaska] 1\n",
       "\\item[Arizona] 1\n",
       "\\item[Arkansas] 2\n",
       "\\item[California] 1\n",
       "\\item[Colorado] 2\n",
       "\\item[Connecticut] 3\n",
       "\\item[Delaware] 1\n",
       "\\item[Florida] 1\n",
       "\\item[Georgia] 2\n",
       "\\item[Hawaii] 3\n",
       "\\item[Idaho] 3\n",
       "\\item[Illinois] 1\n",
       "\\item[Indiana] 3\n",
       "\\item[Iowa] 3\n",
       "\\item[Kansas] 3\n",
       "\\item[Kentucky] 3\n",
       "\\item[Louisiana] 1\n",
       "\\item[Maine] 3\n",
       "\\item[Maryland] 1\n",
       "\\item[Massachusetts] 2\n",
       "\\item[Michigan] 1\n",
       "\\item[Minnesota] 3\n",
       "\\item[Mississippi] 1\n",
       "\\item[Missouri] 2\n",
       "\\item[Montana] 3\n",
       "\\item[Nebraska] 3\n",
       "\\item[Nevada] 1\n",
       "\\item[New Hampshire] 3\n",
       "\\item[New Jersey] 2\n",
       "\\item[New Mexico] 1\n",
       "\\item[New York] 1\n",
       "\\item[North Carolina] 1\n",
       "\\item[North Dakota] 3\n",
       "\\item[Ohio] 3\n",
       "\\item[Oklahoma] 2\n",
       "\\item[Oregon] 2\n",
       "\\item[Pennsylvania] 3\n",
       "\\item[Rhode Island] 2\n",
       "\\item[South Carolina] 1\n",
       "\\item[South Dakota] 3\n",
       "\\item[Tennessee] 2\n",
       "\\item[Texas] 2\n",
       "\\item[Utah] 3\n",
       "\\item[Vermont] 3\n",
       "\\item[Virginia] 2\n",
       "\\item[Washington] 2\n",
       "\\item[West Virginia] 3\n",
       "\\item[Wisconsin] 3\n",
       "\\item[Wyoming] 2\n",
       "\\end{description*}\n"
      ],
      "text/markdown": [
       "Alabama\n",
       ":   1Alaska\n",
       ":   1Arizona\n",
       ":   1Arkansas\n",
       ":   2California\n",
       ":   1Colorado\n",
       ":   2Connecticut\n",
       ":   3Delaware\n",
       ":   1Florida\n",
       ":   1Georgia\n",
       ":   2Hawaii\n",
       ":   3Idaho\n",
       ":   3Illinois\n",
       ":   1Indiana\n",
       ":   3Iowa\n",
       ":   3Kansas\n",
       ":   3Kentucky\n",
       ":   3Louisiana\n",
       ":   1Maine\n",
       ":   3Maryland\n",
       ":   1Massachusetts\n",
       ":   2Michigan\n",
       ":   1Minnesota\n",
       ":   3Mississippi\n",
       ":   1Missouri\n",
       ":   2Montana\n",
       ":   3Nebraska\n",
       ":   3Nevada\n",
       ":   1New Hampshire\n",
       ":   3New Jersey\n",
       ":   2New Mexico\n",
       ":   1New York\n",
       ":   1North Carolina\n",
       ":   1North Dakota\n",
       ":   3Ohio\n",
       ":   3Oklahoma\n",
       ":   2Oregon\n",
       ":   2Pennsylvania\n",
       ":   3Rhode Island\n",
       ":   2South Carolina\n",
       ":   1South Dakota\n",
       ":   3Tennessee\n",
       ":   2Texas\n",
       ":   2Utah\n",
       ":   3Vermont\n",
       ":   3Virginia\n",
       ":   2Washington\n",
       ":   2West Virginia\n",
       ":   3Wisconsin\n",
       ":   3Wyoming\n",
       ":   2\n",
       "\n"
      ],
      "text/plain": [
       "       Alabama         Alaska        Arizona       Arkansas     California \n",
       "             1              1              1              2              1 \n",
       "      Colorado    Connecticut       Delaware        Florida        Georgia \n",
       "             2              3              1              1              2 \n",
       "        Hawaii          Idaho       Illinois        Indiana           Iowa \n",
       "             3              3              1              3              3 \n",
       "        Kansas       Kentucky      Louisiana          Maine       Maryland \n",
       "             3              3              1              3              1 \n",
       " Massachusetts       Michigan      Minnesota    Mississippi       Missouri \n",
       "             2              1              3              1              2 \n",
       "       Montana       Nebraska         Nevada  New Hampshire     New Jersey \n",
       "             3              3              1              3              2 \n",
       "    New Mexico       New York North Carolina   North Dakota           Ohio \n",
       "             1              1              1              3              3 \n",
       "      Oklahoma         Oregon   Pennsylvania   Rhode Island South Carolina \n",
       "             2              2              3              2              1 \n",
       "  South Dakota      Tennessee          Texas           Utah        Vermont \n",
       "             3              2              2              3              3 \n",
       "      Virginia     Washington  West Virginia      Wisconsin        Wyoming \n",
       "             2              2              3              3              2 "
      ]
     },
     "metadata": {},
     "output_type": "display_data"
    }
   ],
   "source": [
    "cutree(hc.complete, 3)"
   ]
  },
  {
   "cell_type": "code",
   "execution_count": null,
   "id": "398cb626",
   "metadata": {},
   "outputs": [],
   "source": [
    "# (c) Hierarchically cluster the states using complete linkage and Euclidean\n",
    "# distance, after scaling the variables to have standard deviation\n",
    "# one\n"
   ]
  },
  {
   "cell_type": "code",
   "execution_count": 25,
   "id": "5bbd3324",
   "metadata": {},
   "outputs": [
    {
     "data": {
      "image/png": "[encoded data removed]",
      "text/plain": [
       "Plot with title \"Cluster Dendrogram\""
      ]
     },
     "metadata": {
      "image/png": {
       "height": 420,
       "width": 420
      }
     },
     "output_type": "display_data"
    }
   ],
   "source": [
    "sd.data <- scale(USArrests)\n",
    "hc.complete.sd <- hclust(dist(sd.data), method = \"complete\")\n",
    "plot(hc.complete.sd)"
   ]
  },
  {
   "cell_type": "code",
   "execution_count": null,
   "id": "0a248348",
   "metadata": {},
   "outputs": [],
   "source": [
    "# (d) What effect does scaling the variables have on the hierarchical\n",
    "# clustering obtained? In your opinion, should the variables be\n",
    "# scaled before the inter-observation dissimilarities are computed?\n",
    "# Provide a justification for your answer."
   ]
  },
  {
   "cell_type": "code",
   "execution_count": 26,
   "id": "6f27e95e",
   "metadata": {},
   "outputs": [
    {
     "data": {
      "text/html": [
       "<style>\n",
       ".dl-inline {width: auto; margin:0; padding: 0}\n",
       ".dl-inline>dt, .dl-inline>dd {float: none; width: auto; display: inline-block}\n",
       ".dl-inline>dt::after {content: \":\\0020\"; padding-right: .5ex}\n",
       ".dl-inline>dt:not(:first-of-type) {padding-left: .5ex}\n",
       "</style><dl class=dl-inline><dt>Alabama</dt><dd>1</dd><dt>Alaska</dt><dd>1</dd><dt>Arizona</dt><dd>2</dd><dt>Arkansas</dt><dd>3</dd><dt>California</dt><dd>2</dd><dt>Colorado</dt><dd>2</dd><dt>Connecticut</dt><dd>3</dd><dt>Delaware</dt><dd>3</dd><dt>Florida</dt><dd>2</dd><dt>Georgia</dt><dd>1</dd><dt>Hawaii</dt><dd>3</dd><dt>Idaho</dt><dd>3</dd><dt>Illinois</dt><dd>2</dd><dt>Indiana</dt><dd>3</dd><dt>Iowa</dt><dd>3</dd><dt>Kansas</dt><dd>3</dd><dt>Kentucky</dt><dd>3</dd><dt>Louisiana</dt><dd>1</dd><dt>Maine</dt><dd>3</dd><dt>Maryland</dt><dd>2</dd><dt>Massachusetts</dt><dd>3</dd><dt>Michigan</dt><dd>2</dd><dt>Minnesota</dt><dd>3</dd><dt>Mississippi</dt><dd>1</dd><dt>Missouri</dt><dd>3</dd><dt>Montana</dt><dd>3</dd><dt>Nebraska</dt><dd>3</dd><dt>Nevada</dt><dd>2</dd><dt>New Hampshire</dt><dd>3</dd><dt>New Jersey</dt><dd>3</dd><dt>New Mexico</dt><dd>2</dd><dt>New York</dt><dd>2</dd><dt>North Carolina</dt><dd>1</dd><dt>North Dakota</dt><dd>3</dd><dt>Ohio</dt><dd>3</dd><dt>Oklahoma</dt><dd>3</dd><dt>Oregon</dt><dd>3</dd><dt>Pennsylvania</dt><dd>3</dd><dt>Rhode Island</dt><dd>3</dd><dt>South Carolina</dt><dd>1</dd><dt>South Dakota</dt><dd>3</dd><dt>Tennessee</dt><dd>1</dd><dt>Texas</dt><dd>2</dd><dt>Utah</dt><dd>3</dd><dt>Vermont</dt><dd>3</dd><dt>Virginia</dt><dd>3</dd><dt>Washington</dt><dd>3</dd><dt>West Virginia</dt><dd>3</dd><dt>Wisconsin</dt><dd>3</dd><dt>Wyoming</dt><dd>3</dd></dl>\n"
      ],
      "text/latex": [
       "\\begin{description*}\n",
       "\\item[Alabama] 1\n",
       "\\item[Alaska] 1\n",
       "\\item[Arizona] 2\n",
       "\\item[Arkansas] 3\n",
       "\\item[California] 2\n",
       "\\item[Colorado] 2\n",
       "\\item[Connecticut] 3\n",
       "\\item[Delaware] 3\n",
       "\\item[Florida] 2\n",
       "\\item[Georgia] 1\n",
       "\\item[Hawaii] 3\n",
       "\\item[Idaho] 3\n",
       "\\item[Illinois] 2\n",
       "\\item[Indiana] 3\n",
       "\\item[Iowa] 3\n",
       "\\item[Kansas] 3\n",
       "\\item[Kentucky] 3\n",
       "\\item[Louisiana] 1\n",
       "\\item[Maine] 3\n",
       "\\item[Maryland] 2\n",
       "\\item[Massachusetts] 3\n",
       "\\item[Michigan] 2\n",
       "\\item[Minnesota] 3\n",
       "\\item[Mississippi] 1\n",
       "\\item[Missouri] 3\n",
       "\\item[Montana] 3\n",
       "\\item[Nebraska] 3\n",
       "\\item[Nevada] 2\n",
       "\\item[New Hampshire] 3\n",
       "\\item[New Jersey] 3\n",
       "\\item[New Mexico] 2\n",
       "\\item[New York] 2\n",
       "\\item[North Carolina] 1\n",
       "\\item[North Dakota] 3\n",
       "\\item[Ohio] 3\n",
       "\\item[Oklahoma] 3\n",
       "\\item[Oregon] 3\n",
       "\\item[Pennsylvania] 3\n",
       "\\item[Rhode Island] 3\n",
       "\\item[South Carolina] 1\n",
       "\\item[South Dakota] 3\n",
       "\\item[Tennessee] 1\n",
       "\\item[Texas] 2\n",
       "\\item[Utah] 3\n",
       "\\item[Vermont] 3\n",
       "\\item[Virginia] 3\n",
       "\\item[Washington] 3\n",
       "\\item[West Virginia] 3\n",
       "\\item[Wisconsin] 3\n",
       "\\item[Wyoming] 3\n",
       "\\end{description*}\n"
      ],
      "text/markdown": [
       "Alabama\n",
       ":   1Alaska\n",
       ":   1Arizona\n",
       ":   2Arkansas\n",
       ":   3California\n",
       ":   2Colorado\n",
       ":   2Connecticut\n",
       ":   3Delaware\n",
       ":   3Florida\n",
       ":   2Georgia\n",
       ":   1Hawaii\n",
       ":   3Idaho\n",
       ":   3Illinois\n",
       ":   2Indiana\n",
       ":   3Iowa\n",
       ":   3Kansas\n",
       ":   3Kentucky\n",
       ":   3Louisiana\n",
       ":   1Maine\n",
       ":   3Maryland\n",
       ":   2Massachusetts\n",
       ":   3Michigan\n",
       ":   2Minnesota\n",
       ":   3Mississippi\n",
       ":   1Missouri\n",
       ":   3Montana\n",
       ":   3Nebraska\n",
       ":   3Nevada\n",
       ":   2New Hampshire\n",
       ":   3New Jersey\n",
       ":   3New Mexico\n",
       ":   2New York\n",
       ":   2North Carolina\n",
       ":   1North Dakota\n",
       ":   3Ohio\n",
       ":   3Oklahoma\n",
       ":   3Oregon\n",
       ":   3Pennsylvania\n",
       ":   3Rhode Island\n",
       ":   3South Carolina\n",
       ":   1South Dakota\n",
       ":   3Tennessee\n",
       ":   1Texas\n",
       ":   2Utah\n",
       ":   3Vermont\n",
       ":   3Virginia\n",
       ":   3Washington\n",
       ":   3West Virginia\n",
       ":   3Wisconsin\n",
       ":   3Wyoming\n",
       ":   3\n",
       "\n"
      ],
      "text/plain": [
       "       Alabama         Alaska        Arizona       Arkansas     California \n",
       "             1              1              2              3              2 \n",
       "      Colorado    Connecticut       Delaware        Florida        Georgia \n",
       "             2              3              3              2              1 \n",
       "        Hawaii          Idaho       Illinois        Indiana           Iowa \n",
       "             3              3              2              3              3 \n",
       "        Kansas       Kentucky      Louisiana          Maine       Maryland \n",
       "             3              3              1              3              2 \n",
       " Massachusetts       Michigan      Minnesota    Mississippi       Missouri \n",
       "             3              2              3              1              3 \n",
       "       Montana       Nebraska         Nevada  New Hampshire     New Jersey \n",
       "             3              3              2              3              3 \n",
       "    New Mexico       New York North Carolina   North Dakota           Ohio \n",
       "             2              2              1              3              3 \n",
       "      Oklahoma         Oregon   Pennsylvania   Rhode Island South Carolina \n",
       "             3              3              3              3              1 \n",
       "  South Dakota      Tennessee          Texas           Utah        Vermont \n",
       "             3              1              2              3              3 \n",
       "      Virginia     Washington  West Virginia      Wisconsin        Wyoming \n",
       "             3              3              3              3              3 "
      ]
     },
     "metadata": {},
     "output_type": "display_data"
    }
   ],
   "source": [
    "cutree(hc.complete.sd, 3)\n",
    "#The difference when you scaled the variable are minimal, there is not enough evidence to support that we should apply it to increase the performance"
   ]
  },
  {
   "cell_type": "code",
   "execution_count": null,
   "id": "8359a358",
   "metadata": {},
   "outputs": [],
   "source": [
    "# 10. In this problem, you will generate simulated data, and then perform\n",
    "# PCA and K-means clustering on the data.\n",
    "# (a) Generate a simulated data set with 20 observations in each of\n",
    "# three classes (i.e. 60 observations total), and 50 variables.\n",
    "# Hint: There are a number of functions in R that you can use to\n",
    "# generate data. One example is the rnorm() function; runif() is\n",
    "# another option. Be sure to add a mean shift to the observations\n",
    "# in each class so that there are three distinct classes."
   ]
  },
  {
   "cell_type": "code",
   "execution_count": 1,
   "id": "33b1a1aa",
   "metadata": {},
   "outputs": [],
   "source": [
    "set.seed(123)\n",
    "x = matrix(rnorm(20*3*50, mean=0, sd=0.001), ncol=50)\n",
    "x[1:20, 2] = 0\n",
    "x[21:40, 1] = 1\n",
    "x[21:40, 2] = 0\n",
    "x[41:60, 1] = 1"
   ]
  },
  {
   "cell_type": "code",
   "execution_count": 3,
   "id": "45bf01d8",
   "metadata": {},
   "outputs": [],
   "source": [
    "# Perform PCA on the 60 observations and plot the first two principal\n",
    "# component score vectors. Use a different color to indicate\n",
    "# the observations in each of the three classes. If the three classes\n",
    "# appear separated in this plot, then continue on to part (c). If\n",
    "# not, then return to part (a) and modify the simulation so that\n",
    "# there is greater separation between the three classes. Do not\n",
    "# continue to part (c) until the three classes show at least some\n",
    "# separation in the first two principal component score vectors."
   ]
  },
  {
   "cell_type": "code",
   "execution_count": 8,
   "id": "07487435",
   "metadata": {},
   "outputs": [
    {
     "data": {
      "text/html": [
       "<table class=\"dataframe\">\n",
       "<caption>A matrix: 60 × 2 of type dbl</caption>\n",
       "<thead>\n",
       "\t<tr><th scope=col>PC1</th><th scope=col>PC2</th></tr>\n",
       "</thead>\n",
       "<tbody>\n",
       "\t<tr><td>-0.6672754</td><td>-1.219306e-03</td></tr>\n",
       "\t<tr><td>-0.6669441</td><td>-2.718822e-03</td></tr>\n",
       "\t<tr><td>-0.6651565</td><td>-1.430487e-03</td></tr>\n",
       "\t<tr><td>-0.6666441</td><td> 9.643270e-04</td></tr>\n",
       "\t<tr><td>-0.6665848</td><td>-1.887955e-03</td></tr>\n",
       "\t<tr><td>-0.6649970</td><td> 1.372638e-03</td></tr>\n",
       "\t<tr><td>-0.6662544</td><td> 8.255212e-04</td></tr>\n",
       "\t<tr><td>-0.6679810</td><td> 1.466243e-04</td></tr>\n",
       "\t<tr><td>-0.6674034</td><td> 1.092005e-03</td></tr>\n",
       "\t<tr><td>-0.6671598</td><td> 2.360976e-03</td></tr>\n",
       "\t<tr><td>-0.6654928</td><td>-5.171973e-04</td></tr>\n",
       "\t<tr><td>-0.6663557</td><td> 3.497071e-03</td></tr>\n",
       "\t<tr><td>-0.6663142</td><td>-3.494479e-03</td></tr>\n",
       "\t<tr><td>-0.6666051</td><td>-1.591024e-03</td></tr>\n",
       "\t<tr><td>-0.6672706</td><td>-2.293112e-03</td></tr>\n",
       "\t<tr><td>-0.6649278</td><td> 1.814751e-03</td></tr>\n",
       "\t<tr><td>-0.6662171</td><td> 2.491914e-03</td></tr>\n",
       "\t<tr><td>-0.6686801</td><td>-2.405476e-03</td></tr>\n",
       "\t<tr><td>-0.6660134</td><td> 1.768332e-03</td></tr>\n",
       "\t<tr><td>-0.6671882</td><td> 1.233473e-03</td></tr>\n",
       "\t<tr><td> 0.3332894</td><td>-1.328768e-03</td></tr>\n",
       "\t<tr><td> 0.3332863</td><td>-6.068727e-04</td></tr>\n",
       "\t<tr><td> 0.3332830</td><td> 9.873500e-04</td></tr>\n",
       "\t<tr><td> 0.3332860</td><td> 1.137601e-03</td></tr>\n",
       "\t<tr><td> 0.3332880</td><td>-3.934823e-04</td></tr>\n",
       "\t<tr><td> 0.3332860</td><td>-1.057967e-03</td></tr>\n",
       "\t<tr><td> 0.3332872</td><td> 1.515016e-03</td></tr>\n",
       "\t<tr><td> 0.3332863</td><td>-8.514219e-04</td></tr>\n",
       "\t<tr><td> 0.3332856</td><td> 2.980330e-03</td></tr>\n",
       "\t<tr><td> 0.3332897</td><td>-2.948078e-03</td></tr>\n",
       "\t<tr><td> 0.3332861</td><td> 2.307887e-03</td></tr>\n",
       "\t<tr><td> 0.3332885</td><td>-3.907269e-05</td></tr>\n",
       "\t<tr><td> 0.3332862</td><td> 8.804841e-04</td></tr>\n",
       "\t<tr><td> 0.3332858</td><td> 7.129800e-04</td></tr>\n",
       "\t<tr><td> 0.3332866</td><td> 6.140852e-04</td></tr>\n",
       "\t<tr><td> 0.3332870</td><td>-2.837219e-03</td></tr>\n",
       "\t<tr><td> 0.3332881</td><td>-6.953789e-04</td></tr>\n",
       "\t<tr><td> 0.3332876</td><td>-9.837503e-04</td></tr>\n",
       "\t<tr><td> 0.3332864</td><td>-3.738496e-04</td></tr>\n",
       "\t<tr><td> 0.3332841</td><td> 3.082591e-03</td></tr>\n",
       "\t<tr><td> 0.3332823</td><td> 1.614530e-03</td></tr>\n",
       "\t<tr><td> 0.3332873</td><td> 2.189227e-03</td></tr>\n",
       "\t<tr><td> 0.3332854</td><td> 9.849948e-04</td></tr>\n",
       "\t<tr><td> 0.3332871</td><td> 2.273292e-04</td></tr>\n",
       "\t<tr><td> 0.3332827</td><td> 3.092293e-04</td></tr>\n",
       "\t<tr><td> 0.3332890</td><td>-3.562653e-03</td></tr>\n",
       "\t<tr><td> 0.3332884</td><td> 6.463316e-04</td></tr>\n",
       "\t<tr><td> 0.3332853</td><td> 9.428552e-04</td></tr>\n",
       "\t<tr><td> 0.3332890</td><td>-1.889341e-03</td></tr>\n",
       "\t<tr><td> 0.3332866</td><td> 2.047544e-03</td></tr>\n",
       "\t<tr><td> 0.3332863</td><td> 2.893863e-03</td></tr>\n",
       "\t<tr><td> 0.3332887</td><td>-4.698398e-03</td></tr>\n",
       "\t<tr><td> 0.3332872</td><td>-1.599094e-03</td></tr>\n",
       "\t<tr><td> 0.3332882</td><td>-1.088151e-03</td></tr>\n",
       "\t<tr><td> 0.3332859</td><td>-6.849834e-04</td></tr>\n",
       "\t<tr><td> 0.3332854</td><td> 1.280237e-03</td></tr>\n",
       "\t<tr><td> 0.3332879</td><td> 7.553255e-04</td></tr>\n",
       "\t<tr><td> 0.3332868</td><td>-1.136185e-03</td></tr>\n",
       "\t<tr><td> 0.3332860</td><td>-2.242826e-03</td></tr>\n",
       "\t<tr><td> 0.3332861</td><td> 8.979227e-04</td></tr>\n",
       "</tbody>\n",
       "</table>\n"
      ],
      "text/latex": [
       "A matrix: 60 × 2 of type dbl\n",
       "\\begin{tabular}{ll}\n",
       " PC1 & PC2\\\\\n",
       "\\hline\n",
       "\t -0.6672754 & -1.219306e-03\\\\\n",
       "\t -0.6669441 & -2.718822e-03\\\\\n",
       "\t -0.6651565 & -1.430487e-03\\\\\n",
       "\t -0.6666441 &  9.643270e-04\\\\\n",
       "\t -0.6665848 & -1.887955e-03\\\\\n",
       "\t -0.6649970 &  1.372638e-03\\\\\n",
       "\t -0.6662544 &  8.255212e-04\\\\\n",
       "\t -0.6679810 &  1.466243e-04\\\\\n",
       "\t -0.6674034 &  1.092005e-03\\\\\n",
       "\t -0.6671598 &  2.360976e-03\\\\\n",
       "\t -0.6654928 & -5.171973e-04\\\\\n",
       "\t -0.6663557 &  3.497071e-03\\\\\n",
       "\t -0.6663142 & -3.494479e-03\\\\\n",
       "\t -0.6666051 & -1.591024e-03\\\\\n",
       "\t -0.6672706 & -2.293112e-03\\\\\n",
       "\t -0.6649278 &  1.814751e-03\\\\\n",
       "\t -0.6662171 &  2.491914e-03\\\\\n",
       "\t -0.6686801 & -2.405476e-03\\\\\n",
       "\t -0.6660134 &  1.768332e-03\\\\\n",
       "\t -0.6671882 &  1.233473e-03\\\\\n",
       "\t  0.3332894 & -1.328768e-03\\\\\n",
       "\t  0.3332863 & -6.068727e-04\\\\\n",
       "\t  0.3332830 &  9.873500e-04\\\\\n",
       "\t  0.3332860 &  1.137601e-03\\\\\n",
       "\t  0.3332880 & -3.934823e-04\\\\\n",
       "\t  0.3332860 & -1.057967e-03\\\\\n",
       "\t  0.3332872 &  1.515016e-03\\\\\n",
       "\t  0.3332863 & -8.514219e-04\\\\\n",
       "\t  0.3332856 &  2.980330e-03\\\\\n",
       "\t  0.3332897 & -2.948078e-03\\\\\n",
       "\t  0.3332861 &  2.307887e-03\\\\\n",
       "\t  0.3332885 & -3.907269e-05\\\\\n",
       "\t  0.3332862 &  8.804841e-04\\\\\n",
       "\t  0.3332858 &  7.129800e-04\\\\\n",
       "\t  0.3332866 &  6.140852e-04\\\\\n",
       "\t  0.3332870 & -2.837219e-03\\\\\n",
       "\t  0.3332881 & -6.953789e-04\\\\\n",
       "\t  0.3332876 & -9.837503e-04\\\\\n",
       "\t  0.3332864 & -3.738496e-04\\\\\n",
       "\t  0.3332841 &  3.082591e-03\\\\\n",
       "\t  0.3332823 &  1.614530e-03\\\\\n",
       "\t  0.3332873 &  2.189227e-03\\\\\n",
       "\t  0.3332854 &  9.849948e-04\\\\\n",
       "\t  0.3332871 &  2.273292e-04\\\\\n",
       "\t  0.3332827 &  3.092293e-04\\\\\n",
       "\t  0.3332890 & -3.562653e-03\\\\\n",
       "\t  0.3332884 &  6.463316e-04\\\\\n",
       "\t  0.3332853 &  9.428552e-04\\\\\n",
       "\t  0.3332890 & -1.889341e-03\\\\\n",
       "\t  0.3332866 &  2.047544e-03\\\\\n",
       "\t  0.3332863 &  2.893863e-03\\\\\n",
       "\t  0.3332887 & -4.698398e-03\\\\\n",
       "\t  0.3332872 & -1.599094e-03\\\\\n",
       "\t  0.3332882 & -1.088151e-03\\\\\n",
       "\t  0.3332859 & -6.849834e-04\\\\\n",
       "\t  0.3332854 &  1.280237e-03\\\\\n",
       "\t  0.3332879 &  7.553255e-04\\\\\n",
       "\t  0.3332868 & -1.136185e-03\\\\\n",
       "\t  0.3332860 & -2.242826e-03\\\\\n",
       "\t  0.3332861 &  8.979227e-04\\\\\n",
       "\\end{tabular}\n"
      ],
      "text/markdown": [
       "\n",
       "A matrix: 60 × 2 of type dbl\n",
       "\n",
       "| PC1 | PC2 |\n",
       "|---|---|\n",
       "| -0.6672754 | -1.219306e-03 |\n",
       "| -0.6669441 | -2.718822e-03 |\n",
       "| -0.6651565 | -1.430487e-03 |\n",
       "| -0.6666441 |  9.643270e-04 |\n",
       "| -0.6665848 | -1.887955e-03 |\n",
       "| -0.6649970 |  1.372638e-03 |\n",
       "| -0.6662544 |  8.255212e-04 |\n",
       "| -0.6679810 |  1.466243e-04 |\n",
       "| -0.6674034 |  1.092005e-03 |\n",
       "| -0.6671598 |  2.360976e-03 |\n",
       "| -0.6654928 | -5.171973e-04 |\n",
       "| -0.6663557 |  3.497071e-03 |\n",
       "| -0.6663142 | -3.494479e-03 |\n",
       "| -0.6666051 | -1.591024e-03 |\n",
       "| -0.6672706 | -2.293112e-03 |\n",
       "| -0.6649278 |  1.814751e-03 |\n",
       "| -0.6662171 |  2.491914e-03 |\n",
       "| -0.6686801 | -2.405476e-03 |\n",
       "| -0.6660134 |  1.768332e-03 |\n",
       "| -0.6671882 |  1.233473e-03 |\n",
       "|  0.3332894 | -1.328768e-03 |\n",
       "|  0.3332863 | -6.068727e-04 |\n",
       "|  0.3332830 |  9.873500e-04 |\n",
       "|  0.3332860 |  1.137601e-03 |\n",
       "|  0.3332880 | -3.934823e-04 |\n",
       "|  0.3332860 | -1.057967e-03 |\n",
       "|  0.3332872 |  1.515016e-03 |\n",
       "|  0.3332863 | -8.514219e-04 |\n",
       "|  0.3332856 |  2.980330e-03 |\n",
       "|  0.3332897 | -2.948078e-03 |\n",
       "|  0.3332861 |  2.307887e-03 |\n",
       "|  0.3332885 | -3.907269e-05 |\n",
       "|  0.3332862 |  8.804841e-04 |\n",
       "|  0.3332858 |  7.129800e-04 |\n",
       "|  0.3332866 |  6.140852e-04 |\n",
       "|  0.3332870 | -2.837219e-03 |\n",
       "|  0.3332881 | -6.953789e-04 |\n",
       "|  0.3332876 | -9.837503e-04 |\n",
       "|  0.3332864 | -3.738496e-04 |\n",
       "|  0.3332841 |  3.082591e-03 |\n",
       "|  0.3332823 |  1.614530e-03 |\n",
       "|  0.3332873 |  2.189227e-03 |\n",
       "|  0.3332854 |  9.849948e-04 |\n",
       "|  0.3332871 |  2.273292e-04 |\n",
       "|  0.3332827 |  3.092293e-04 |\n",
       "|  0.3332890 | -3.562653e-03 |\n",
       "|  0.3332884 |  6.463316e-04 |\n",
       "|  0.3332853 |  9.428552e-04 |\n",
       "|  0.3332890 | -1.889341e-03 |\n",
       "|  0.3332866 |  2.047544e-03 |\n",
       "|  0.3332863 |  2.893863e-03 |\n",
       "|  0.3332887 | -4.698398e-03 |\n",
       "|  0.3332872 | -1.599094e-03 |\n",
       "|  0.3332882 | -1.088151e-03 |\n",
       "|  0.3332859 | -6.849834e-04 |\n",
       "|  0.3332854 |  1.280237e-03 |\n",
       "|  0.3332879 |  7.553255e-04 |\n",
       "|  0.3332868 | -1.136185e-03 |\n",
       "|  0.3332860 | -2.242826e-03 |\n",
       "|  0.3332861 |  8.979227e-04 |\n",
       "\n"
      ],
      "text/plain": [
       "      PC1        PC2          \n",
       " [1,] -0.6672754 -1.219306e-03\n",
       " [2,] -0.6669441 -2.718822e-03\n",
       " [3,] -0.6651565 -1.430487e-03\n",
       " [4,] -0.6666441  9.643270e-04\n",
       " [5,] -0.6665848 -1.887955e-03\n",
       " [6,] -0.6649970  1.372638e-03\n",
       " [7,] -0.6662544  8.255212e-04\n",
       " [8,] -0.6679810  1.466243e-04\n",
       " [9,] -0.6674034  1.092005e-03\n",
       "[10,] -0.6671598  2.360976e-03\n",
       "[11,] -0.6654928 -5.171973e-04\n",
       "[12,] -0.6663557  3.497071e-03\n",
       "[13,] -0.6663142 -3.494479e-03\n",
       "[14,] -0.6666051 -1.591024e-03\n",
       "[15,] -0.6672706 -2.293112e-03\n",
       "[16,] -0.6649278  1.814751e-03\n",
       "[17,] -0.6662171  2.491914e-03\n",
       "[18,] -0.6686801 -2.405476e-03\n",
       "[19,] -0.6660134  1.768332e-03\n",
       "[20,] -0.6671882  1.233473e-03\n",
       "[21,]  0.3332894 -1.328768e-03\n",
       "[22,]  0.3332863 -6.068727e-04\n",
       "[23,]  0.3332830  9.873500e-04\n",
       "[24,]  0.3332860  1.137601e-03\n",
       "[25,]  0.3332880 -3.934823e-04\n",
       "[26,]  0.3332860 -1.057967e-03\n",
       "[27,]  0.3332872  1.515016e-03\n",
       "[28,]  0.3332863 -8.514219e-04\n",
       "[29,]  0.3332856  2.980330e-03\n",
       "[30,]  0.3332897 -2.948078e-03\n",
       "[31,]  0.3332861  2.307887e-03\n",
       "[32,]  0.3332885 -3.907269e-05\n",
       "[33,]  0.3332862  8.804841e-04\n",
       "[34,]  0.3332858  7.129800e-04\n",
       "[35,]  0.3332866  6.140852e-04\n",
       "[36,]  0.3332870 -2.837219e-03\n",
       "[37,]  0.3332881 -6.953789e-04\n",
       "[38,]  0.3332876 -9.837503e-04\n",
       "[39,]  0.3332864 -3.738496e-04\n",
       "[40,]  0.3332841  3.082591e-03\n",
       "[41,]  0.3332823  1.614530e-03\n",
       "[42,]  0.3332873  2.189227e-03\n",
       "[43,]  0.3332854  9.849948e-04\n",
       "[44,]  0.3332871  2.273292e-04\n",
       "[45,]  0.3332827  3.092293e-04\n",
       "[46,]  0.3332890 -3.562653e-03\n",
       "[47,]  0.3332884  6.463316e-04\n",
       "[48,]  0.3332853  9.428552e-04\n",
       "[49,]  0.3332890 -1.889341e-03\n",
       "[50,]  0.3332866  2.047544e-03\n",
       "[51,]  0.3332863  2.893863e-03\n",
       "[52,]  0.3332887 -4.698398e-03\n",
       "[53,]  0.3332872 -1.599094e-03\n",
       "[54,]  0.3332882 -1.088151e-03\n",
       "[55,]  0.3332859 -6.849834e-04\n",
       "[56,]  0.3332854  1.280237e-03\n",
       "[57,]  0.3332879  7.553255e-04\n",
       "[58,]  0.3332868 -1.136185e-03\n",
       "[59,]  0.3332860 -2.242826e-03\n",
       "[60,]  0.3332861  8.979227e-04"
      ]
     },
     "metadata": {},
     "output_type": "display_data"
    }
   ],
   "source": [
    "pca.model = prcomp(x)\n",
    "pca.model$x[,1:2]"
   ]
  },
  {
   "cell_type": "code",
   "execution_count": 12,
   "id": "442aa9a7",
   "metadata": {},
   "outputs": [
    {
     "data": {
      "image/png": "[encoded data removed]",
      "text/plain": [
       "plot without title"
      ]
     },
     "metadata": {
      "image/png": {
       "height": 420,
       "width": 420
      }
     },
     "output_type": "display_data"
    }
   ],
   "source": [
    "plot(pca.model$x[,1:2], col=1:2, xlab=\"PC1\", ylab=\"PC2\") "
   ]
  },
  {
   "cell_type": "code",
   "execution_count": null,
   "id": "f9d5e5f0",
   "metadata": {},
   "outputs": [],
   "source": []
  },
  {
   "cell_type": "code",
   "execution_count": 13,
   "id": "b68c8d25",
   "metadata": {},
   "outputs": [
    {
     "ename": "ERROR",
     "evalue": "Error in parse(text = x, srcfile = src): <text>:1:5: unexpected symbol\n1: (c) Perform\n        ^\n",
     "output_type": "error",
     "traceback": [
      "Error in parse(text = x, srcfile = src): <text>:1:5: unexpected symbol\n1: (c) Perform\n        ^\nTraceback:\n"
     ]
    }
   ],
   "source": [
    "# (c) Perform K-means clustering of the observations with K = 3.\n",
    "# How well do the clusters that you obtained in K-means clustering\n",
    "# compare to the true class labels?\n",
    "# Hint: You can use the table() function in R to compare the true\n",
    "# class labels to the class labels obtained by clustering. Be careful\n",
    "# how you interpret the results: K-means clustering will arbitrarily\n",
    "# number the clusters, so you cannot simply check whether the true\n",
    "# class labels and clustering labels are the same.\n"
   ]
  },
  {
   "cell_type": "code",
   "execution_count": 14,
   "id": "020da6ba",
   "metadata": {},
   "outputs": [
    {
     "data": {
      "text/plain": [
       "   \n",
       "     1  2  3\n",
       "  1  0 11  8\n",
       "  2 20  0  0\n",
       "  3  0  9 12"
      ]
     },
     "metadata": {},
     "output_type": "display_data"
    }
   ],
   "source": [
    "km.model = kmeans(x, 3, nstart=10)\n",
    "table(km.model$cluster, c(rep(1,20), rep(2,20), rep(3,20)))\n",
    "#we got no good predictions on 1 and 2 variables, on third we gor less than half of the predictions"
   ]
  },
  {
   "cell_type": "code",
   "execution_count": null,
   "id": "a7094078",
   "metadata": {},
   "outputs": [],
   "source": [
    "# (d) Perform K-means clustering with K = 2. Describe your results."
   ]
  },
  {
   "cell_type": "code",
   "execution_count": 15,
   "id": "86defe73",
   "metadata": {},
   "outputs": [
    {
     "data": {
      "text/plain": [
       "   \n",
       "     1  2  3\n",
       "  1 20  0  0\n",
       "  2  0 20 20"
      ]
     },
     "metadata": {},
     "output_type": "display_data"
    }
   ],
   "source": [
    "km.model = kmeans(x, 2, nstart=10)\n",
    "table(km.model$cluster, c(rep(1,20), rep(2,20), rep(3,20)))\n",
    "#With k2 our predictions for 1 and 2 are a perfect match byt we got no predicions for variable 3"
   ]
  },
  {
   "cell_type": "code",
   "execution_count": null,
   "id": "1cc42f21",
   "metadata": {},
   "outputs": [],
   "source": [
    "# (e) Now perform K-means clustering with K = 4, and describe your\n",
    "# results."
   ]
  },
  {
   "cell_type": "code",
   "execution_count": 16,
   "id": "baafd1f5",
   "metadata": {},
   "outputs": [
    {
     "data": {
      "text/plain": [
       "   \n",
       "     1  2  3\n",
       "  1 20  0  0\n",
       "  2  0  5 11\n",
       "  3  0 11  3\n",
       "  4  0  4  6"
      ]
     },
     "metadata": {},
     "output_type": "display_data"
    }
   ],
   "source": [
    "km.model = kmeans(x, 4, nstart=10)\n",
    "table(km.model$cluster, c(rep(1,20), rep(2,20), rep(3,20)))"
   ]
  },
  {
   "cell_type": "code",
   "execution_count": null,
   "id": "708f7c6a",
   "metadata": {},
   "outputs": [],
   "source": [
    "# (f) Now perform K-means clustering with K = 3 on the first two\n",
    "# principal component score vectors, rather than on the raw data.\n",
    "# That is, perform K-means clustering on the 60 × 2 matrix of\n",
    "# which the first column is the first principal component score\n",
    "# vector, and the second column is the second principal component\n",
    "# score vector. Comment on the results."
   ]
  },
  {
   "cell_type": "code",
   "execution_count": 18,
   "id": "47df3f1f",
   "metadata": {},
   "outputs": [
    {
     "data": {
      "text/plain": [
       "   \n",
       "     1  2  3\n",
       "  1  8  0  0\n",
       "  2 12  0  0\n",
       "  3  0 20 20"
      ]
     },
     "metadata": {},
     "output_type": "display_data"
    }
   ],
   "source": [
    "km.model = kmeans(x[,1:2], 3, nstart=10)\n",
    "table(km.model$cluster, c(rep(1,20), rep(2,20), rep(3,20)))\n",
    "#we got only accurate predictions for var 3 and 60% of var 1"
   ]
  },
  {
   "cell_type": "code",
   "execution_count": null,
   "id": "0e896b82",
   "metadata": {},
   "outputs": [],
   "source": [
    "# (g) Using the scale() function, perform K-means clustering with\n",
    "# K = 3 on the data after scaling each variable to have standard\n",
    "# deviation one. How do these results compare to those obtained\n",
    "# in (b)? Explain."
   ]
  },
  {
   "cell_type": "code",
   "execution_count": 19,
   "id": "f61e628a",
   "metadata": {},
   "outputs": [
    {
     "data": {
      "text/plain": [
       "   \n",
       "    1 2 3\n",
       "  1 7 8 9\n",
       "  2 9 5 5\n",
       "  3 4 7 6"
      ]
     },
     "metadata": {},
     "output_type": "display_data"
    }
   ],
   "source": [
    "km.model = kmeans(scale(x), 3, nstart=10)\n",
    "table(km.model$cluster, c(rep(1,20), rep(2,20), rep(3,20)))"
   ]
  },
  {
   "cell_type": "code",
   "execution_count": null,
   "id": "73ed5676",
   "metadata": {},
   "outputs": [],
   "source": []
  },
  {
   "cell_type": "code",
   "execution_count": null,
   "id": "01072267",
   "metadata": {},
   "outputs": [],
   "source": []
  }
 ],
 "metadata": {
  "kernelspec": {
   "display_name": "R",
   "language": "R",
   "name": "ir"
  },
  "language_info": {
   "codemirror_mode": "r",
   "file_extension": ".r",
   "mimetype": "text/x-r-source",
   "name": "R",
   "pygments_lexer": "r",
   "version": "4.0.5"
  }
 },
 "nbformat": 4,
 "nbformat_minor": 5
}
