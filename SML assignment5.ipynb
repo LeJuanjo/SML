{
 "cells": [
  {
   "cell_type": "code",
   "execution_count": 9,
   "id": "2bb6ae3c",
   "metadata": {},
   "outputs": [],
   "source": [
    "# 1. This problem involves hyperplanes in two dimensions.\n",
    "# (a) Sketch the hyperplane 1 + 3X1 − X2 = 0. Indicate the set of\n",
    "# points for which 1 + 3X1 − X2 > 0, as well as the set of points\n",
    "# for which 1 + 3X1 − X2 < 0.\n",
    "# (b) On the same plot, sketch the hyperplane −2 + X1 + 2X2 = 0.\n",
    "# Indicate the set of points for which −2+ X1 +2X2 > 0, as well\n",
    "# as the set of points for which −2+ X1 + 2X2 < 0.\n"
   ]
  },
  {
   "cell_type": "code",
   "execution_count": 10,
   "id": "108b7aa0",
   "metadata": {},
   "outputs": [
    {
     "data": {
      "image/png": "[encoded data removed]",
      "text/plain": [
       "plot without title"
      ]
     },
     "metadata": {
      "image/png": {
       "height": 420,
       "width": 420
      }
     },
     "output_type": "display_data"
    }
   ],
   "source": [
    "x1= -20:20\n",
    "x2 = 1+3*x1\n",
    "plot(x1,x2, type=\"l\")\n",
    "lines(x1, 1 - x1/2)\n",
    "points(-4,-20,col=\"blue\",pch=19)\n",
    "points(10,10,col=\"green\",pch=19)\n",
    "#Green one >0, blue <0"
   ]
  },
  {
   "cell_type": "code",
   "execution_count": 11,
   "id": "77664c56",
   "metadata": {},
   "outputs": [],
   "source": [
    "# 2. We have seen that in p = 2 dimensions, a linear decision boundary\n",
    "# takes the form β0+β1X1+β2X2 = 0.We now investigate a non-linear\n",
    "# decision boundary.\n",
    "# (a) Sketch the curve\n",
    "# (1 + X1)2 + (2 − X2)2 = 4."
   ]
  },
  {
   "cell_type": "code",
   "execution_count": 12,
   "id": "5f324d55",
   "metadata": {},
   "outputs": [
    {
     "data": {
      "image/png": "[encoded data removed]",
      "text/plain": [
       "plot without title"
      ]
     },
     "metadata": {
      "image/png": {
       "height": 420,
       "width": 420
      }
     },
     "output_type": "display_data"
    }
   ],
   "source": [
    "x1= -20:20\n",
    "x2 = (1+x1)^2\n",
    "plot(x1,x2, type=\"l\")\n"
   ]
  },
  {
   "cell_type": "code",
   "execution_count": 13,
   "id": "aab6077c",
   "metadata": {},
   "outputs": [],
   "source": [
    "# 4. Generate a simulated two-class data set with 100 observations and\n",
    "# two features in which there is a visible but non-linear separation between\n",
    "# the two classes. Show that in this setting, a support vector\n",
    "# machine with a polynomial kernel (with degree greater than 1) or a\n",
    "# radial kernel will outperform a support vector classifier on the training\n",
    "# data. Which technique performs best on the test data? Make\n",
    "# plots and report training and test error rates in order to back up\n",
    "# your assertions."
   ]
  },
  {
   "cell_type": "code",
   "execution_count": 14,
   "id": "87f6d14a",
   "metadata": {},
   "outputs": [],
   "source": [
    "x=matrix(rnorm(100*2), ncol=2)\n",
    "y=c(rep(0,70), rep(1,30))\n",
    "x[1:30,]=x[1:30,]+4\n",
    "x[31:70,]=x[31:70,]-4\n",
    "df=data.frame(x=x, y=as.factor(y))"
   ]
  },
  {
   "cell_type": "code",
   "execution_count": 15,
   "id": "668da42f",
   "metadata": {},
   "outputs": [
    {
     "data": {
      "image/png": "[encoded data removed]",
      "text/plain": [
       "plot without title"
      ]
     },
     "metadata": {
      "image/png": {
       "height": 420,
       "width": 420
      }
     },
     "output_type": "display_data"
    }
   ],
   "source": [
    "plot(x)"
   ]
  },
  {
   "cell_type": "code",
   "execution_count": 17,
   "id": "75d5840c",
   "metadata": {},
   "outputs": [],
   "source": [
    "library(\"caTools\")\n",
    "sample = sample.split(df$x.1, SplitRatio = 0.6)\n",
    "train = subset(df, sample==TRUE)\n",
    "test = subset(df, sample==FALSE)"
   ]
  },
  {
   "cell_type": "code",
   "execution_count": 18,
   "id": "652e7efa",
   "metadata": {},
   "outputs": [
    {
     "data": {
      "text/html": [
       "<table class=\"dataframe\">\n",
       "<caption>A data.frame: 60 × 3</caption>\n",
       "<thead>\n",
       "\t<tr><th></th><th scope=col>x.1</th><th scope=col>x.2</th><th scope=col>y</th></tr>\n",
       "\t<tr><th></th><th scope=col>&lt;dbl&gt;</th><th scope=col>&lt;dbl&gt;</th><th scope=col>&lt;fct&gt;</th></tr>\n",
       "</thead>\n",
       "<tbody>\n",
       "\t<tr><th scope=row>1</th><td> 4.57449830</td><td> 5.09833067</td><td>0</td></tr>\n",
       "\t<tr><th scope=row>2</th><td> 3.85204828</td><td> 4.19612368</td><td>0</td></tr>\n",
       "\t<tr><th scope=row>3</th><td> 5.58055360</td><td> 3.47615211</td><td>0</td></tr>\n",
       "\t<tr><th scope=row>5</th><td> 2.60319889</td><td> 4.42875483</td><td>0</td></tr>\n",
       "\t<tr><th scope=row>9</th><td> 3.83117226</td><td> 3.80065159</td><td>0</td></tr>\n",
       "\t<tr><th scope=row>12</th><td> 3.92828365</td><td> 4.23677068</td><td>0</td></tr>\n",
       "\t<tr><th scope=row>13</th><td> 4.22555003</td><td> 3.57394495</td><td>0</td></tr>\n",
       "\t<tr><th scope=row>14</th><td> 2.98211137</td><td> 1.95527998</td><td>0</td></tr>\n",
       "\t<tr><th scope=row>17</th><td> 3.40266266</td><td> 3.59597656</td><td>0</td></tr>\n",
       "\t<tr><th scope=row>19</th><td> 3.05313703</td><td> 4.47062311</td><td>0</td></tr>\n",
       "\t<tr><th scope=row>20</th><td> 4.68802585</td><td> 5.35229187</td><td>0</td></tr>\n",
       "\t<tr><th scope=row>21</th><td> 4.53218808</td><td> 4.07606710</td><td>0</td></tr>\n",
       "\t<tr><th scope=row>22</th><td> 5.54025765</td><td> 2.94536610</td><td>0</td></tr>\n",
       "\t<tr><th scope=row>23</th><td> 2.38216475</td><td> 2.99379813</td><td>0</td></tr>\n",
       "\t<tr><th scope=row>24</th><td> 3.15335562</td><td> 4.98236377</td><td>0</td></tr>\n",
       "\t<tr><th scope=row>25</th><td> 4.91029065</td><td> 6.08860565</td><td>0</td></tr>\n",
       "\t<tr><th scope=row>28</th><td> 2.73630110</td><td> 1.12490040</td><td>0</td></tr>\n",
       "\t<tr><th scope=row>29</th><td> 4.00194515</td><td> 3.41574803</td><td>0</td></tr>\n",
       "\t<tr><th scope=row>31</th><td>-3.30092073</td><td>-3.87737922</td><td>0</td></tr>\n",
       "\t<tr><th scope=row>32</th><td>-4.32491226</td><td>-5.01349781</td><td>0</td></tr>\n",
       "\t<tr><th scope=row>35</th><td>-2.26454264</td><td>-3.27336732</td><td>0</td></tr>\n",
       "\t<tr><th scope=row>36</th><td>-3.88691335</td><td>-5.25684631</td><td>0</td></tr>\n",
       "\t<tr><th scope=row>38</th><td>-3.43541486</td><td>-4.16966715</td><td>0</td></tr>\n",
       "\t<tr><th scope=row>39</th><td>-3.75275990</td><td>-6.10656684</td><td>0</td></tr>\n",
       "\t<tr><th scope=row>40</th><td>-3.30878535</td><td>-6.23442810</td><td>0</td></tr>\n",
       "\t<tr><th scope=row>41</th><td>-4.62641735</td><td>-3.33577676</td><td>0</td></tr>\n",
       "\t<tr><th scope=row>42</th><td>-2.60688693</td><td>-2.85094717</td><td>0</td></tr>\n",
       "\t<tr><th scope=row>43</th><td>-3.16914335</td><td>-6.09265263</td><td>0</td></tr>\n",
       "\t<tr><th scope=row>49</th><td>-3.84816848</td><td>-2.29141180</td><td>0</td></tr>\n",
       "\t<tr><th scope=row>51</th><td>-4.83445548</td><td>-5.28851083</td><td>0</td></tr>\n",
       "\t<tr><th scope=row>52</th><td>-4.67706558</td><td>-5.18530538</td><td>0</td></tr>\n",
       "\t<tr><th scope=row>53</th><td>-2.80534459</td><td>-2.78581499</td><td>0</td></tr>\n",
       "\t<tr><th scope=row>55</th><td>-2.84128559</td><td>-3.93515709</td><td>0</td></tr>\n",
       "\t<tr><th scope=row>56</th><td>-3.20881937</td><td>-2.38763251</td><td>0</td></tr>\n",
       "\t<tr><th scope=row>57</th><td>-4.03962608</td><td>-5.84856401</td><td>0</td></tr>\n",
       "\t<tr><th scope=row>58</th><td>-3.98424686</td><td>-3.88704840</td><td>0</td></tr>\n",
       "\t<tr><th scope=row>60</th><td>-2.28341165</td><td>-4.98513527</td><td>0</td></tr>\n",
       "\t<tr><th scope=row>61</th><td>-2.78002180</td><td>-3.50926454</td><td>0</td></tr>\n",
       "\t<tr><th scope=row>62</th><td>-2.99594023</td><td>-5.34815831</td><td>0</td></tr>\n",
       "\t<tr><th scope=row>63</th><td>-4.77759895</td><td>-4.09932874</td><td>0</td></tr>\n",
       "\t<tr><th scope=row>64</th><td>-4.96240084</td><td>-3.16933316</td><td>0</td></tr>\n",
       "\t<tr><th scope=row>68</th><td>-5.08378032</td><td>-4.16612041</td><td>0</td></tr>\n",
       "\t<tr><th scope=row>69</th><td>-4.04077222</td><td>-3.54763334</td><td>0</td></tr>\n",
       "\t<tr><th scope=row>70</th><td>-4.83763447</td><td>-2.55245595</td><td>0</td></tr>\n",
       "\t<tr><th scope=row>71</th><td> 0.16771307</td><td> 0.37905635</td><td>1</td></tr>\n",
       "\t<tr><th scope=row>72</th><td> 0.56750845</td><td> 2.60150053</td><td>1</td></tr>\n",
       "\t<tr><th scope=row>75</th><td>-0.44820318</td><td>-0.84724324</td><td>1</td></tr>\n",
       "\t<tr><th scope=row>79</th><td>-0.39798773</td><td>-0.06589107</td><td>1</td></tr>\n",
       "\t<tr><th scope=row>80</th><td> 0.97209859</td><td>-0.22827773</td><td>1</td></tr>\n",
       "\t<tr><th scope=row>81</th><td> 0.35876623</td><td>-0.50403807</td><td>1</td></tr>\n",
       "\t<tr><th scope=row>86</th><td> 0.06075696</td><td>-1.59239343</td><td>1</td></tr>\n",
       "\t<tr><th scope=row>87</th><td> 1.52022045</td><td> 0.41357155</td><td>1</td></tr>\n",
       "\t<tr><th scope=row>88</th><td> 0.66429712</td><td> 0.22531286</td><td>1</td></tr>\n",
       "\t<tr><th scope=row>91</th><td> 0.39590850</td><td> 0.50683887</td><td>1</td></tr>\n",
       "\t<tr><th scope=row>92</th><td>-1.46879699</td><td>-0.02591636</td><td>1</td></tr>\n",
       "\t<tr><th scope=row>93</th><td> 1.03455164</td><td>-0.81239206</td><td>1</td></tr>\n",
       "\t<tr><th scope=row>94</th><td>-0.21777740</td><td>-0.31481239</td><td>1</td></tr>\n",
       "\t<tr><th scope=row>96</th><td>-0.49576832</td><td> 0.85552704</td><td>1</td></tr>\n",
       "\t<tr><th scope=row>97</th><td>-0.04709888</td><td> 0.45941656</td><td>1</td></tr>\n",
       "\t<tr><th scope=row>99</th><td> 0.71288022</td><td> 1.20584963</td><td>1</td></tr>\n",
       "</tbody>\n",
       "</table>\n"
      ],
      "text/latex": [
       "A data.frame: 60 × 3\n",
       "\\begin{tabular}{r|lll}\n",
       "  & x.1 & x.2 & y\\\\\n",
       "  & <dbl> & <dbl> & <fct>\\\\\n",
       "\\hline\n",
       "\t1 &  4.57449830 &  5.09833067 & 0\\\\\n",
       "\t2 &  3.85204828 &  4.19612368 & 0\\\\\n",
       "\t3 &  5.58055360 &  3.47615211 & 0\\\\\n",
       "\t5 &  2.60319889 &  4.42875483 & 0\\\\\n",
       "\t9 &  3.83117226 &  3.80065159 & 0\\\\\n",
       "\t12 &  3.92828365 &  4.23677068 & 0\\\\\n",
       "\t13 &  4.22555003 &  3.57394495 & 0\\\\\n",
       "\t14 &  2.98211137 &  1.95527998 & 0\\\\\n",
       "\t17 &  3.40266266 &  3.59597656 & 0\\\\\n",
       "\t19 &  3.05313703 &  4.47062311 & 0\\\\\n",
       "\t20 &  4.68802585 &  5.35229187 & 0\\\\\n",
       "\t21 &  4.53218808 &  4.07606710 & 0\\\\\n",
       "\t22 &  5.54025765 &  2.94536610 & 0\\\\\n",
       "\t23 &  2.38216475 &  2.99379813 & 0\\\\\n",
       "\t24 &  3.15335562 &  4.98236377 & 0\\\\\n",
       "\t25 &  4.91029065 &  6.08860565 & 0\\\\\n",
       "\t28 &  2.73630110 &  1.12490040 & 0\\\\\n",
       "\t29 &  4.00194515 &  3.41574803 & 0\\\\\n",
       "\t31 & -3.30092073 & -3.87737922 & 0\\\\\n",
       "\t32 & -4.32491226 & -5.01349781 & 0\\\\\n",
       "\t35 & -2.26454264 & -3.27336732 & 0\\\\\n",
       "\t36 & -3.88691335 & -5.25684631 & 0\\\\\n",
       "\t38 & -3.43541486 & -4.16966715 & 0\\\\\n",
       "\t39 & -3.75275990 & -6.10656684 & 0\\\\\n",
       "\t40 & -3.30878535 & -6.23442810 & 0\\\\\n",
       "\t41 & -4.62641735 & -3.33577676 & 0\\\\\n",
       "\t42 & -2.60688693 & -2.85094717 & 0\\\\\n",
       "\t43 & -3.16914335 & -6.09265263 & 0\\\\\n",
       "\t49 & -3.84816848 & -2.29141180 & 0\\\\\n",
       "\t51 & -4.83445548 & -5.28851083 & 0\\\\\n",
       "\t52 & -4.67706558 & -5.18530538 & 0\\\\\n",
       "\t53 & -2.80534459 & -2.78581499 & 0\\\\\n",
       "\t55 & -2.84128559 & -3.93515709 & 0\\\\\n",
       "\t56 & -3.20881937 & -2.38763251 & 0\\\\\n",
       "\t57 & -4.03962608 & -5.84856401 & 0\\\\\n",
       "\t58 & -3.98424686 & -3.88704840 & 0\\\\\n",
       "\t60 & -2.28341165 & -4.98513527 & 0\\\\\n",
       "\t61 & -2.78002180 & -3.50926454 & 0\\\\\n",
       "\t62 & -2.99594023 & -5.34815831 & 0\\\\\n",
       "\t63 & -4.77759895 & -4.09932874 & 0\\\\\n",
       "\t64 & -4.96240084 & -3.16933316 & 0\\\\\n",
       "\t68 & -5.08378032 & -4.16612041 & 0\\\\\n",
       "\t69 & -4.04077222 & -3.54763334 & 0\\\\\n",
       "\t70 & -4.83763447 & -2.55245595 & 0\\\\\n",
       "\t71 &  0.16771307 &  0.37905635 & 1\\\\\n",
       "\t72 &  0.56750845 &  2.60150053 & 1\\\\\n",
       "\t75 & -0.44820318 & -0.84724324 & 1\\\\\n",
       "\t79 & -0.39798773 & -0.06589107 & 1\\\\\n",
       "\t80 &  0.97209859 & -0.22827773 & 1\\\\\n",
       "\t81 &  0.35876623 & -0.50403807 & 1\\\\\n",
       "\t86 &  0.06075696 & -1.59239343 & 1\\\\\n",
       "\t87 &  1.52022045 &  0.41357155 & 1\\\\\n",
       "\t88 &  0.66429712 &  0.22531286 & 1\\\\\n",
       "\t91 &  0.39590850 &  0.50683887 & 1\\\\\n",
       "\t92 & -1.46879699 & -0.02591636 & 1\\\\\n",
       "\t93 &  1.03455164 & -0.81239206 & 1\\\\\n",
       "\t94 & -0.21777740 & -0.31481239 & 1\\\\\n",
       "\t96 & -0.49576832 &  0.85552704 & 1\\\\\n",
       "\t97 & -0.04709888 &  0.45941656 & 1\\\\\n",
       "\t99 &  0.71288022 &  1.20584963 & 1\\\\\n",
       "\\end{tabular}\n"
      ],
      "text/markdown": [
       "\n",
       "A data.frame: 60 × 3\n",
       "\n",
       "| <!--/--> | x.1 &lt;dbl&gt; | x.2 &lt;dbl&gt; | y &lt;fct&gt; |\n",
       "|---|---|---|---|\n",
       "| 1 |  4.57449830 |  5.09833067 | 0 |\n",
       "| 2 |  3.85204828 |  4.19612368 | 0 |\n",
       "| 3 |  5.58055360 |  3.47615211 | 0 |\n",
       "| 5 |  2.60319889 |  4.42875483 | 0 |\n",
       "| 9 |  3.83117226 |  3.80065159 | 0 |\n",
       "| 12 |  3.92828365 |  4.23677068 | 0 |\n",
       "| 13 |  4.22555003 |  3.57394495 | 0 |\n",
       "| 14 |  2.98211137 |  1.95527998 | 0 |\n",
       "| 17 |  3.40266266 |  3.59597656 | 0 |\n",
       "| 19 |  3.05313703 |  4.47062311 | 0 |\n",
       "| 20 |  4.68802585 |  5.35229187 | 0 |\n",
       "| 21 |  4.53218808 |  4.07606710 | 0 |\n",
       "| 22 |  5.54025765 |  2.94536610 | 0 |\n",
       "| 23 |  2.38216475 |  2.99379813 | 0 |\n",
       "| 24 |  3.15335562 |  4.98236377 | 0 |\n",
       "| 25 |  4.91029065 |  6.08860565 | 0 |\n",
       "| 28 |  2.73630110 |  1.12490040 | 0 |\n",
       "| 29 |  4.00194515 |  3.41574803 | 0 |\n",
       "| 31 | -3.30092073 | -3.87737922 | 0 |\n",
       "| 32 | -4.32491226 | -5.01349781 | 0 |\n",
       "| 35 | -2.26454264 | -3.27336732 | 0 |\n",
       "| 36 | -3.88691335 | -5.25684631 | 0 |\n",
       "| 38 | -3.43541486 | -4.16966715 | 0 |\n",
       "| 39 | -3.75275990 | -6.10656684 | 0 |\n",
       "| 40 | -3.30878535 | -6.23442810 | 0 |\n",
       "| 41 | -4.62641735 | -3.33577676 | 0 |\n",
       "| 42 | -2.60688693 | -2.85094717 | 0 |\n",
       "| 43 | -3.16914335 | -6.09265263 | 0 |\n",
       "| 49 | -3.84816848 | -2.29141180 | 0 |\n",
       "| 51 | -4.83445548 | -5.28851083 | 0 |\n",
       "| 52 | -4.67706558 | -5.18530538 | 0 |\n",
       "| 53 | -2.80534459 | -2.78581499 | 0 |\n",
       "| 55 | -2.84128559 | -3.93515709 | 0 |\n",
       "| 56 | -3.20881937 | -2.38763251 | 0 |\n",
       "| 57 | -4.03962608 | -5.84856401 | 0 |\n",
       "| 58 | -3.98424686 | -3.88704840 | 0 |\n",
       "| 60 | -2.28341165 | -4.98513527 | 0 |\n",
       "| 61 | -2.78002180 | -3.50926454 | 0 |\n",
       "| 62 | -2.99594023 | -5.34815831 | 0 |\n",
       "| 63 | -4.77759895 | -4.09932874 | 0 |\n",
       "| 64 | -4.96240084 | -3.16933316 | 0 |\n",
       "| 68 | -5.08378032 | -4.16612041 | 0 |\n",
       "| 69 | -4.04077222 | -3.54763334 | 0 |\n",
       "| 70 | -4.83763447 | -2.55245595 | 0 |\n",
       "| 71 |  0.16771307 |  0.37905635 | 1 |\n",
       "| 72 |  0.56750845 |  2.60150053 | 1 |\n",
       "| 75 | -0.44820318 | -0.84724324 | 1 |\n",
       "| 79 | -0.39798773 | -0.06589107 | 1 |\n",
       "| 80 |  0.97209859 | -0.22827773 | 1 |\n",
       "| 81 |  0.35876623 | -0.50403807 | 1 |\n",
       "| 86 |  0.06075696 | -1.59239343 | 1 |\n",
       "| 87 |  1.52022045 |  0.41357155 | 1 |\n",
       "| 88 |  0.66429712 |  0.22531286 | 1 |\n",
       "| 91 |  0.39590850 |  0.50683887 | 1 |\n",
       "| 92 | -1.46879699 | -0.02591636 | 1 |\n",
       "| 93 |  1.03455164 | -0.81239206 | 1 |\n",
       "| 94 | -0.21777740 | -0.31481239 | 1 |\n",
       "| 96 | -0.49576832 |  0.85552704 | 1 |\n",
       "| 97 | -0.04709888 |  0.45941656 | 1 |\n",
       "| 99 |  0.71288022 |  1.20584963 | 1 |\n",
       "\n"
      ],
      "text/plain": [
       "   x.1         x.2         y\n",
       "1   4.57449830  5.09833067 0\n",
       "2   3.85204828  4.19612368 0\n",
       "3   5.58055360  3.47615211 0\n",
       "5   2.60319889  4.42875483 0\n",
       "9   3.83117226  3.80065159 0\n",
       "12  3.92828365  4.23677068 0\n",
       "13  4.22555003  3.57394495 0\n",
       "14  2.98211137  1.95527998 0\n",
       "17  3.40266266  3.59597656 0\n",
       "19  3.05313703  4.47062311 0\n",
       "20  4.68802585  5.35229187 0\n",
       "21  4.53218808  4.07606710 0\n",
       "22  5.54025765  2.94536610 0\n",
       "23  2.38216475  2.99379813 0\n",
       "24  3.15335562  4.98236377 0\n",
       "25  4.91029065  6.08860565 0\n",
       "28  2.73630110  1.12490040 0\n",
       "29  4.00194515  3.41574803 0\n",
       "31 -3.30092073 -3.87737922 0\n",
       "32 -4.32491226 -5.01349781 0\n",
       "35 -2.26454264 -3.27336732 0\n",
       "36 -3.88691335 -5.25684631 0\n",
       "38 -3.43541486 -4.16966715 0\n",
       "39 -3.75275990 -6.10656684 0\n",
       "40 -3.30878535 -6.23442810 0\n",
       "41 -4.62641735 -3.33577676 0\n",
       "42 -2.60688693 -2.85094717 0\n",
       "43 -3.16914335 -6.09265263 0\n",
       "49 -3.84816848 -2.29141180 0\n",
       "51 -4.83445548 -5.28851083 0\n",
       "52 -4.67706558 -5.18530538 0\n",
       "53 -2.80534459 -2.78581499 0\n",
       "55 -2.84128559 -3.93515709 0\n",
       "56 -3.20881937 -2.38763251 0\n",
       "57 -4.03962608 -5.84856401 0\n",
       "58 -3.98424686 -3.88704840 0\n",
       "60 -2.28341165 -4.98513527 0\n",
       "61 -2.78002180 -3.50926454 0\n",
       "62 -2.99594023 -5.34815831 0\n",
       "63 -4.77759895 -4.09932874 0\n",
       "64 -4.96240084 -3.16933316 0\n",
       "68 -5.08378032 -4.16612041 0\n",
       "69 -4.04077222 -3.54763334 0\n",
       "70 -4.83763447 -2.55245595 0\n",
       "71  0.16771307  0.37905635 1\n",
       "72  0.56750845  2.60150053 1\n",
       "75 -0.44820318 -0.84724324 1\n",
       "79 -0.39798773 -0.06589107 1\n",
       "80  0.97209859 -0.22827773 1\n",
       "81  0.35876623 -0.50403807 1\n",
       "86  0.06075696 -1.59239343 1\n",
       "87  1.52022045  0.41357155 1\n",
       "88  0.66429712  0.22531286 1\n",
       "91  0.39590850  0.50683887 1\n",
       "92 -1.46879699 -0.02591636 1\n",
       "93  1.03455164 -0.81239206 1\n",
       "94 -0.21777740 -0.31481239 1\n",
       "96 -0.49576832  0.85552704 1\n",
       "97 -0.04709888  0.45941656 1\n",
       "99  0.71288022  1.20584963 1"
      ]
     },
     "metadata": {},
     "output_type": "display_data"
    }
   ],
   "source": [
    "train"
   ]
  },
  {
   "cell_type": "code",
   "execution_count": 19,
   "id": "7102bb97",
   "metadata": {},
   "outputs": [
    {
     "data": {
      "image/png": "[encoded data removed]",
      "text/plain": [
       "Plot with title \"SVM classification plot\""
      ]
     },
     "metadata": {
      "image/png": {
       "height": 420,
       "width": 420
      }
     },
     "output_type": "display_data"
    }
   ],
   "source": [
    "library(\"e1071\")\n",
    "svm_l = svm(y~., data=train, kernel=\"radial\", cost=5)\n",
    "plot(svm_l, train)"
   ]
  },
  {
   "cell_type": "code",
   "execution_count": 20,
   "id": "d5c9d6e8",
   "metadata": {},
   "outputs": [
    {
     "data": {
      "image/png": "[encoded data removed]",
      "text/plain": [
       "Plot with title \"SVM classification plot\""
      ]
     },
     "metadata": {
      "image/png": {
       "height": 420,
       "width": 420
      }
     },
     "output_type": "display_data"
    }
   ],
   "source": [
    "svm_l = svm(y~., data=train, kernel=\"linear\", cost=5)\n",
    "plot(svm_l, train)\n",
    "#for the shape and distribution of our information the linear model can classify it, we rather use the radial model"
   ]
  },
  {
   "cell_type": "code",
   "execution_count": null,
   "id": "691d834d",
   "metadata": {},
   "outputs": [],
   "source": [
    "# 7. In this problem, you will use support vector approaches in order to\n",
    "# predict whether a given car gets high or low gas mileage based on the\n",
    "# Auto data set.\n",
    "# (a) Create a binary variable that takes on a 1 for cars with gas\n",
    "# mileage above the median, and a 0 for cars with gas mileage\n",
    "# below the median.\n"
   ]
  },
  {
   "cell_type": "code",
   "execution_count": 21,
   "id": "950e0855",
   "metadata": {},
   "outputs": [
    {
     "data": {
      "text/html": [
       "<table class=\"dataframe\">\n",
       "<caption>A data.frame: 392 × 10</caption>\n",
       "<thead>\n",
       "\t<tr><th></th><th scope=col>mpg</th><th scope=col>cylinders</th><th scope=col>displacement</th><th scope=col>horsepower</th><th scope=col>weight</th><th scope=col>acceleration</th><th scope=col>year</th><th scope=col>origin</th><th scope=col>name</th><th scope=col>new_var</th></tr>\n",
       "\t<tr><th></th><th scope=col>&lt;dbl&gt;</th><th scope=col>&lt;dbl&gt;</th><th scope=col>&lt;dbl&gt;</th><th scope=col>&lt;dbl&gt;</th><th scope=col>&lt;dbl&gt;</th><th scope=col>&lt;dbl&gt;</th><th scope=col>&lt;dbl&gt;</th><th scope=col>&lt;dbl&gt;</th><th scope=col>&lt;fct&gt;</th><th scope=col>&lt;fct&gt;</th></tr>\n",
       "</thead>\n",
       "<tbody>\n",
       "\t<tr><th scope=row>1</th><td>18</td><td>8</td><td>307</td><td>130</td><td>3504</td><td>12.0</td><td>70</td><td>1</td><td>chevrolet chevelle malibu   </td><td>0</td></tr>\n",
       "\t<tr><th scope=row>2</th><td>15</td><td>8</td><td>350</td><td>165</td><td>3693</td><td>11.5</td><td>70</td><td>1</td><td>buick skylark 320           </td><td>0</td></tr>\n",
       "\t<tr><th scope=row>3</th><td>18</td><td>8</td><td>318</td><td>150</td><td>3436</td><td>11.0</td><td>70</td><td>1</td><td>plymouth satellite          </td><td>0</td></tr>\n",
       "\t<tr><th scope=row>4</th><td>16</td><td>8</td><td>304</td><td>150</td><td>3433</td><td>12.0</td><td>70</td><td>1</td><td>amc rebel sst               </td><td>0</td></tr>\n",
       "\t<tr><th scope=row>5</th><td>17</td><td>8</td><td>302</td><td>140</td><td>3449</td><td>10.5</td><td>70</td><td>1</td><td>ford torino                 </td><td>0</td></tr>\n",
       "\t<tr><th scope=row>6</th><td>15</td><td>8</td><td>429</td><td>198</td><td>4341</td><td>10.0</td><td>70</td><td>1</td><td>ford galaxie 500            </td><td>0</td></tr>\n",
       "\t<tr><th scope=row>7</th><td>14</td><td>8</td><td>454</td><td>220</td><td>4354</td><td> 9.0</td><td>70</td><td>1</td><td>chevrolet impala            </td><td>0</td></tr>\n",
       "\t<tr><th scope=row>8</th><td>14</td><td>8</td><td>440</td><td>215</td><td>4312</td><td> 8.5</td><td>70</td><td>1</td><td>plymouth fury iii           </td><td>0</td></tr>\n",
       "\t<tr><th scope=row>9</th><td>14</td><td>8</td><td>455</td><td>225</td><td>4425</td><td>10.0</td><td>70</td><td>1</td><td>pontiac catalina            </td><td>0</td></tr>\n",
       "\t<tr><th scope=row>10</th><td>15</td><td>8</td><td>390</td><td>190</td><td>3850</td><td> 8.5</td><td>70</td><td>1</td><td>amc ambassador dpl          </td><td>0</td></tr>\n",
       "\t<tr><th scope=row>11</th><td>15</td><td>8</td><td>383</td><td>170</td><td>3563</td><td>10.0</td><td>70</td><td>1</td><td>dodge challenger se         </td><td>0</td></tr>\n",
       "\t<tr><th scope=row>12</th><td>14</td><td>8</td><td>340</td><td>160</td><td>3609</td><td> 8.0</td><td>70</td><td>1</td><td>plymouth 'cuda 340          </td><td>0</td></tr>\n",
       "\t<tr><th scope=row>13</th><td>15</td><td>8</td><td>400</td><td>150</td><td>3761</td><td> 9.5</td><td>70</td><td>1</td><td>chevrolet monte carlo       </td><td>0</td></tr>\n",
       "\t<tr><th scope=row>14</th><td>14</td><td>8</td><td>455</td><td>225</td><td>3086</td><td>10.0</td><td>70</td><td>1</td><td>buick estate wagon (sw)     </td><td>0</td></tr>\n",
       "\t<tr><th scope=row>15</th><td>24</td><td>4</td><td>113</td><td> 95</td><td>2372</td><td>15.0</td><td>70</td><td>3</td><td>toyota corona mark ii       </td><td>1</td></tr>\n",
       "\t<tr><th scope=row>16</th><td>22</td><td>6</td><td>198</td><td> 95</td><td>2833</td><td>15.5</td><td>70</td><td>1</td><td>plymouth duster             </td><td>0</td></tr>\n",
       "\t<tr><th scope=row>17</th><td>18</td><td>6</td><td>199</td><td> 97</td><td>2774</td><td>15.5</td><td>70</td><td>1</td><td>amc hornet                  </td><td>0</td></tr>\n",
       "\t<tr><th scope=row>18</th><td>21</td><td>6</td><td>200</td><td> 85</td><td>2587</td><td>16.0</td><td>70</td><td>1</td><td>ford maverick               </td><td>0</td></tr>\n",
       "\t<tr><th scope=row>19</th><td>27</td><td>4</td><td> 97</td><td> 88</td><td>2130</td><td>14.5</td><td>70</td><td>3</td><td>datsun pl510                </td><td>1</td></tr>\n",
       "\t<tr><th scope=row>20</th><td>26</td><td>4</td><td> 97</td><td> 46</td><td>1835</td><td>20.5</td><td>70</td><td>2</td><td>volkswagen 1131 deluxe sedan</td><td>1</td></tr>\n",
       "\t<tr><th scope=row>21</th><td>25</td><td>4</td><td>110</td><td> 87</td><td>2672</td><td>17.5</td><td>70</td><td>2</td><td>peugeot 504                 </td><td>1</td></tr>\n",
       "\t<tr><th scope=row>22</th><td>24</td><td>4</td><td>107</td><td> 90</td><td>2430</td><td>14.5</td><td>70</td><td>2</td><td>audi 100 ls                 </td><td>1</td></tr>\n",
       "\t<tr><th scope=row>23</th><td>25</td><td>4</td><td>104</td><td> 95</td><td>2375</td><td>17.5</td><td>70</td><td>2</td><td>saab 99e                    </td><td>1</td></tr>\n",
       "\t<tr><th scope=row>24</th><td>26</td><td>4</td><td>121</td><td>113</td><td>2234</td><td>12.5</td><td>70</td><td>2</td><td>bmw 2002                    </td><td>1</td></tr>\n",
       "\t<tr><th scope=row>25</th><td>21</td><td>6</td><td>199</td><td> 90</td><td>2648</td><td>15.0</td><td>70</td><td>1</td><td>amc gremlin                 </td><td>0</td></tr>\n",
       "\t<tr><th scope=row>26</th><td>10</td><td>8</td><td>360</td><td>215</td><td>4615</td><td>14.0</td><td>70</td><td>1</td><td>ford f250                   </td><td>0</td></tr>\n",
       "\t<tr><th scope=row>27</th><td>10</td><td>8</td><td>307</td><td>200</td><td>4376</td><td>15.0</td><td>70</td><td>1</td><td>chevy c20                   </td><td>0</td></tr>\n",
       "\t<tr><th scope=row>28</th><td>11</td><td>8</td><td>318</td><td>210</td><td>4382</td><td>13.5</td><td>70</td><td>1</td><td>dodge d200                  </td><td>0</td></tr>\n",
       "\t<tr><th scope=row>29</th><td> 9</td><td>8</td><td>304</td><td>193</td><td>4732</td><td>18.5</td><td>70</td><td>1</td><td>hi 1200d                    </td><td>0</td></tr>\n",
       "\t<tr><th scope=row>30</th><td>27</td><td>4</td><td> 97</td><td> 88</td><td>2130</td><td>14.5</td><td>71</td><td>3</td><td>datsun pl510                </td><td>1</td></tr>\n",
       "\t<tr><th scope=row>⋮</th><td>⋮</td><td>⋮</td><td>⋮</td><td>⋮</td><td>⋮</td><td>⋮</td><td>⋮</td><td>⋮</td><td>⋮</td><td>⋮</td></tr>\n",
       "\t<tr><th scope=row>368</th><td>28</td><td>4</td><td>112</td><td> 88</td><td>2605</td><td>19.6</td><td>82</td><td>1</td><td>chevrolet cavalier               </td><td>1</td></tr>\n",
       "\t<tr><th scope=row>369</th><td>27</td><td>4</td><td>112</td><td> 88</td><td>2640</td><td>18.6</td><td>82</td><td>1</td><td>chevrolet cavalier wagon         </td><td>1</td></tr>\n",
       "\t<tr><th scope=row>370</th><td>34</td><td>4</td><td>112</td><td> 88</td><td>2395</td><td>18.0</td><td>82</td><td>1</td><td>chevrolet cavalier 2-door        </td><td>1</td></tr>\n",
       "\t<tr><th scope=row>371</th><td>31</td><td>4</td><td>112</td><td> 85</td><td>2575</td><td>16.2</td><td>82</td><td>1</td><td>pontiac j2000 se hatchback       </td><td>1</td></tr>\n",
       "\t<tr><th scope=row>372</th><td>29</td><td>4</td><td>135</td><td> 84</td><td>2525</td><td>16.0</td><td>82</td><td>1</td><td>dodge aries se                   </td><td>1</td></tr>\n",
       "\t<tr><th scope=row>373</th><td>27</td><td>4</td><td>151</td><td> 90</td><td>2735</td><td>18.0</td><td>82</td><td>1</td><td>pontiac phoenix                  </td><td>1</td></tr>\n",
       "\t<tr><th scope=row>374</th><td>24</td><td>4</td><td>140</td><td> 92</td><td>2865</td><td>16.4</td><td>82</td><td>1</td><td>ford fairmont futura             </td><td>1</td></tr>\n",
       "\t<tr><th scope=row>375</th><td>36</td><td>4</td><td>105</td><td> 74</td><td>1980</td><td>15.3</td><td>82</td><td>2</td><td>volkswagen rabbit l              </td><td>1</td></tr>\n",
       "\t<tr><th scope=row>376</th><td>37</td><td>4</td><td> 91</td><td> 68</td><td>2025</td><td>18.2</td><td>82</td><td>3</td><td>mazda glc custom l               </td><td>1</td></tr>\n",
       "\t<tr><th scope=row>377</th><td>31</td><td>4</td><td> 91</td><td> 68</td><td>1970</td><td>17.6</td><td>82</td><td>3</td><td>mazda glc custom                 </td><td>1</td></tr>\n",
       "\t<tr><th scope=row>378</th><td>38</td><td>4</td><td>105</td><td> 63</td><td>2125</td><td>14.7</td><td>82</td><td>1</td><td>plymouth horizon miser           </td><td>1</td></tr>\n",
       "\t<tr><th scope=row>379</th><td>36</td><td>4</td><td> 98</td><td> 70</td><td>2125</td><td>17.3</td><td>82</td><td>1</td><td>mercury lynx l                   </td><td>1</td></tr>\n",
       "\t<tr><th scope=row>380</th><td>36</td><td>4</td><td>120</td><td> 88</td><td>2160</td><td>14.5</td><td>82</td><td>3</td><td>nissan stanza xe                 </td><td>1</td></tr>\n",
       "\t<tr><th scope=row>381</th><td>36</td><td>4</td><td>107</td><td> 75</td><td>2205</td><td>14.5</td><td>82</td><td>3</td><td>honda accord                     </td><td>1</td></tr>\n",
       "\t<tr><th scope=row>382</th><td>34</td><td>4</td><td>108</td><td> 70</td><td>2245</td><td>16.9</td><td>82</td><td>3</td><td>toyota corolla                   </td><td>1</td></tr>\n",
       "\t<tr><th scope=row>383</th><td>38</td><td>4</td><td> 91</td><td> 67</td><td>1965</td><td>15.0</td><td>82</td><td>3</td><td>honda civic                      </td><td>1</td></tr>\n",
       "\t<tr><th scope=row>384</th><td>32</td><td>4</td><td> 91</td><td> 67</td><td>1965</td><td>15.7</td><td>82</td><td>3</td><td>honda civic (auto)               </td><td>1</td></tr>\n",
       "\t<tr><th scope=row>385</th><td>38</td><td>4</td><td> 91</td><td> 67</td><td>1995</td><td>16.2</td><td>82</td><td>3</td><td>datsun 310 gx                    </td><td>1</td></tr>\n",
       "\t<tr><th scope=row>386</th><td>25</td><td>6</td><td>181</td><td>110</td><td>2945</td><td>16.4</td><td>82</td><td>1</td><td>buick century limited            </td><td>1</td></tr>\n",
       "\t<tr><th scope=row>387</th><td>38</td><td>6</td><td>262</td><td> 85</td><td>3015</td><td>17.0</td><td>82</td><td>1</td><td>oldsmobile cutlass ciera (diesel)</td><td>1</td></tr>\n",
       "\t<tr><th scope=row>388</th><td>26</td><td>4</td><td>156</td><td> 92</td><td>2585</td><td>14.5</td><td>82</td><td>1</td><td>chrysler lebaron medallion       </td><td>1</td></tr>\n",
       "\t<tr><th scope=row>389</th><td>22</td><td>6</td><td>232</td><td>112</td><td>2835</td><td>14.7</td><td>82</td><td>1</td><td>ford granada l                   </td><td>0</td></tr>\n",
       "\t<tr><th scope=row>390</th><td>32</td><td>4</td><td>144</td><td> 96</td><td>2665</td><td>13.9</td><td>82</td><td>3</td><td>toyota celica gt                 </td><td>1</td></tr>\n",
       "\t<tr><th scope=row>391</th><td>36</td><td>4</td><td>135</td><td> 84</td><td>2370</td><td>13.0</td><td>82</td><td>1</td><td>dodge charger 2.2                </td><td>1</td></tr>\n",
       "\t<tr><th scope=row>392</th><td>27</td><td>4</td><td>151</td><td> 90</td><td>2950</td><td>17.3</td><td>82</td><td>1</td><td>chevrolet camaro                 </td><td>1</td></tr>\n",
       "\t<tr><th scope=row>393</th><td>27</td><td>4</td><td>140</td><td> 86</td><td>2790</td><td>15.6</td><td>82</td><td>1</td><td>ford mustang gl                  </td><td>1</td></tr>\n",
       "\t<tr><th scope=row>394</th><td>44</td><td>4</td><td> 97</td><td> 52</td><td>2130</td><td>24.6</td><td>82</td><td>2</td><td>vw pickup                        </td><td>1</td></tr>\n",
       "\t<tr><th scope=row>395</th><td>32</td><td>4</td><td>135</td><td> 84</td><td>2295</td><td>11.6</td><td>82</td><td>1</td><td>dodge rampage                    </td><td>1</td></tr>\n",
       "\t<tr><th scope=row>396</th><td>28</td><td>4</td><td>120</td><td> 79</td><td>2625</td><td>18.6</td><td>82</td><td>1</td><td>ford ranger                      </td><td>1</td></tr>\n",
       "\t<tr><th scope=row>397</th><td>31</td><td>4</td><td>119</td><td> 82</td><td>2720</td><td>19.4</td><td>82</td><td>1</td><td>chevy s-10                       </td><td>1</td></tr>\n",
       "</tbody>\n",
       "</table>\n"
      ],
      "text/latex": [
       "A data.frame: 392 × 10\n",
       "\\begin{tabular}{r|llllllllll}\n",
       "  & mpg & cylinders & displacement & horsepower & weight & acceleration & year & origin & name & new\\_var\\\\\n",
       "  & <dbl> & <dbl> & <dbl> & <dbl> & <dbl> & <dbl> & <dbl> & <dbl> & <fct> & <fct>\\\\\n",
       "\\hline\n",
       "\t1 & 18 & 8 & 307 & 130 & 3504 & 12.0 & 70 & 1 & chevrolet chevelle malibu    & 0\\\\\n",
       "\t2 & 15 & 8 & 350 & 165 & 3693 & 11.5 & 70 & 1 & buick skylark 320            & 0\\\\\n",
       "\t3 & 18 & 8 & 318 & 150 & 3436 & 11.0 & 70 & 1 & plymouth satellite           & 0\\\\\n",
       "\t4 & 16 & 8 & 304 & 150 & 3433 & 12.0 & 70 & 1 & amc rebel sst                & 0\\\\\n",
       "\t5 & 17 & 8 & 302 & 140 & 3449 & 10.5 & 70 & 1 & ford torino                  & 0\\\\\n",
       "\t6 & 15 & 8 & 429 & 198 & 4341 & 10.0 & 70 & 1 & ford galaxie 500             & 0\\\\\n",
       "\t7 & 14 & 8 & 454 & 220 & 4354 &  9.0 & 70 & 1 & chevrolet impala             & 0\\\\\n",
       "\t8 & 14 & 8 & 440 & 215 & 4312 &  8.5 & 70 & 1 & plymouth fury iii            & 0\\\\\n",
       "\t9 & 14 & 8 & 455 & 225 & 4425 & 10.0 & 70 & 1 & pontiac catalina             & 0\\\\\n",
       "\t10 & 15 & 8 & 390 & 190 & 3850 &  8.5 & 70 & 1 & amc ambassador dpl           & 0\\\\\n",
       "\t11 & 15 & 8 & 383 & 170 & 3563 & 10.0 & 70 & 1 & dodge challenger se          & 0\\\\\n",
       "\t12 & 14 & 8 & 340 & 160 & 3609 &  8.0 & 70 & 1 & plymouth 'cuda 340           & 0\\\\\n",
       "\t13 & 15 & 8 & 400 & 150 & 3761 &  9.5 & 70 & 1 & chevrolet monte carlo        & 0\\\\\n",
       "\t14 & 14 & 8 & 455 & 225 & 3086 & 10.0 & 70 & 1 & buick estate wagon (sw)      & 0\\\\\n",
       "\t15 & 24 & 4 & 113 &  95 & 2372 & 15.0 & 70 & 3 & toyota corona mark ii        & 1\\\\\n",
       "\t16 & 22 & 6 & 198 &  95 & 2833 & 15.5 & 70 & 1 & plymouth duster              & 0\\\\\n",
       "\t17 & 18 & 6 & 199 &  97 & 2774 & 15.5 & 70 & 1 & amc hornet                   & 0\\\\\n",
       "\t18 & 21 & 6 & 200 &  85 & 2587 & 16.0 & 70 & 1 & ford maverick                & 0\\\\\n",
       "\t19 & 27 & 4 &  97 &  88 & 2130 & 14.5 & 70 & 3 & datsun pl510                 & 1\\\\\n",
       "\t20 & 26 & 4 &  97 &  46 & 1835 & 20.5 & 70 & 2 & volkswagen 1131 deluxe sedan & 1\\\\\n",
       "\t21 & 25 & 4 & 110 &  87 & 2672 & 17.5 & 70 & 2 & peugeot 504                  & 1\\\\\n",
       "\t22 & 24 & 4 & 107 &  90 & 2430 & 14.5 & 70 & 2 & audi 100 ls                  & 1\\\\\n",
       "\t23 & 25 & 4 & 104 &  95 & 2375 & 17.5 & 70 & 2 & saab 99e                     & 1\\\\\n",
       "\t24 & 26 & 4 & 121 & 113 & 2234 & 12.5 & 70 & 2 & bmw 2002                     & 1\\\\\n",
       "\t25 & 21 & 6 & 199 &  90 & 2648 & 15.0 & 70 & 1 & amc gremlin                  & 0\\\\\n",
       "\t26 & 10 & 8 & 360 & 215 & 4615 & 14.0 & 70 & 1 & ford f250                    & 0\\\\\n",
       "\t27 & 10 & 8 & 307 & 200 & 4376 & 15.0 & 70 & 1 & chevy c20                    & 0\\\\\n",
       "\t28 & 11 & 8 & 318 & 210 & 4382 & 13.5 & 70 & 1 & dodge d200                   & 0\\\\\n",
       "\t29 &  9 & 8 & 304 & 193 & 4732 & 18.5 & 70 & 1 & hi 1200d                     & 0\\\\\n",
       "\t30 & 27 & 4 &  97 &  88 & 2130 & 14.5 & 71 & 3 & datsun pl510                 & 1\\\\\n",
       "\t⋮ & ⋮ & ⋮ & ⋮ & ⋮ & ⋮ & ⋮ & ⋮ & ⋮ & ⋮ & ⋮\\\\\n",
       "\t368 & 28 & 4 & 112 &  88 & 2605 & 19.6 & 82 & 1 & chevrolet cavalier                & 1\\\\\n",
       "\t369 & 27 & 4 & 112 &  88 & 2640 & 18.6 & 82 & 1 & chevrolet cavalier wagon          & 1\\\\\n",
       "\t370 & 34 & 4 & 112 &  88 & 2395 & 18.0 & 82 & 1 & chevrolet cavalier 2-door         & 1\\\\\n",
       "\t371 & 31 & 4 & 112 &  85 & 2575 & 16.2 & 82 & 1 & pontiac j2000 se hatchback        & 1\\\\\n",
       "\t372 & 29 & 4 & 135 &  84 & 2525 & 16.0 & 82 & 1 & dodge aries se                    & 1\\\\\n",
       "\t373 & 27 & 4 & 151 &  90 & 2735 & 18.0 & 82 & 1 & pontiac phoenix                   & 1\\\\\n",
       "\t374 & 24 & 4 & 140 &  92 & 2865 & 16.4 & 82 & 1 & ford fairmont futura              & 1\\\\\n",
       "\t375 & 36 & 4 & 105 &  74 & 1980 & 15.3 & 82 & 2 & volkswagen rabbit l               & 1\\\\\n",
       "\t376 & 37 & 4 &  91 &  68 & 2025 & 18.2 & 82 & 3 & mazda glc custom l                & 1\\\\\n",
       "\t377 & 31 & 4 &  91 &  68 & 1970 & 17.6 & 82 & 3 & mazda glc custom                  & 1\\\\\n",
       "\t378 & 38 & 4 & 105 &  63 & 2125 & 14.7 & 82 & 1 & plymouth horizon miser            & 1\\\\\n",
       "\t379 & 36 & 4 &  98 &  70 & 2125 & 17.3 & 82 & 1 & mercury lynx l                    & 1\\\\\n",
       "\t380 & 36 & 4 & 120 &  88 & 2160 & 14.5 & 82 & 3 & nissan stanza xe                  & 1\\\\\n",
       "\t381 & 36 & 4 & 107 &  75 & 2205 & 14.5 & 82 & 3 & honda accord                      & 1\\\\\n",
       "\t382 & 34 & 4 & 108 &  70 & 2245 & 16.9 & 82 & 3 & toyota corolla                    & 1\\\\\n",
       "\t383 & 38 & 4 &  91 &  67 & 1965 & 15.0 & 82 & 3 & honda civic                       & 1\\\\\n",
       "\t384 & 32 & 4 &  91 &  67 & 1965 & 15.7 & 82 & 3 & honda civic (auto)                & 1\\\\\n",
       "\t385 & 38 & 4 &  91 &  67 & 1995 & 16.2 & 82 & 3 & datsun 310 gx                     & 1\\\\\n",
       "\t386 & 25 & 6 & 181 & 110 & 2945 & 16.4 & 82 & 1 & buick century limited             & 1\\\\\n",
       "\t387 & 38 & 6 & 262 &  85 & 3015 & 17.0 & 82 & 1 & oldsmobile cutlass ciera (diesel) & 1\\\\\n",
       "\t388 & 26 & 4 & 156 &  92 & 2585 & 14.5 & 82 & 1 & chrysler lebaron medallion        & 1\\\\\n",
       "\t389 & 22 & 6 & 232 & 112 & 2835 & 14.7 & 82 & 1 & ford granada l                    & 0\\\\\n",
       "\t390 & 32 & 4 & 144 &  96 & 2665 & 13.9 & 82 & 3 & toyota celica gt                  & 1\\\\\n",
       "\t391 & 36 & 4 & 135 &  84 & 2370 & 13.0 & 82 & 1 & dodge charger 2.2                 & 1\\\\\n",
       "\t392 & 27 & 4 & 151 &  90 & 2950 & 17.3 & 82 & 1 & chevrolet camaro                  & 1\\\\\n",
       "\t393 & 27 & 4 & 140 &  86 & 2790 & 15.6 & 82 & 1 & ford mustang gl                   & 1\\\\\n",
       "\t394 & 44 & 4 &  97 &  52 & 2130 & 24.6 & 82 & 2 & vw pickup                         & 1\\\\\n",
       "\t395 & 32 & 4 & 135 &  84 & 2295 & 11.6 & 82 & 1 & dodge rampage                     & 1\\\\\n",
       "\t396 & 28 & 4 & 120 &  79 & 2625 & 18.6 & 82 & 1 & ford ranger                       & 1\\\\\n",
       "\t397 & 31 & 4 & 119 &  82 & 2720 & 19.4 & 82 & 1 & chevy s-10                        & 1\\\\\n",
       "\\end{tabular}\n"
      ],
      "text/markdown": [
       "\n",
       "A data.frame: 392 × 10\n",
       "\n",
       "| <!--/--> | mpg &lt;dbl&gt; | cylinders &lt;dbl&gt; | displacement &lt;dbl&gt; | horsepower &lt;dbl&gt; | weight &lt;dbl&gt; | acceleration &lt;dbl&gt; | year &lt;dbl&gt; | origin &lt;dbl&gt; | name &lt;fct&gt; | new_var &lt;fct&gt; |\n",
       "|---|---|---|---|---|---|---|---|---|---|---|\n",
       "| 1 | 18 | 8 | 307 | 130 | 3504 | 12.0 | 70 | 1 | chevrolet chevelle malibu    | 0 |\n",
       "| 2 | 15 | 8 | 350 | 165 | 3693 | 11.5 | 70 | 1 | buick skylark 320            | 0 |\n",
       "| 3 | 18 | 8 | 318 | 150 | 3436 | 11.0 | 70 | 1 | plymouth satellite           | 0 |\n",
       "| 4 | 16 | 8 | 304 | 150 | 3433 | 12.0 | 70 | 1 | amc rebel sst                | 0 |\n",
       "| 5 | 17 | 8 | 302 | 140 | 3449 | 10.5 | 70 | 1 | ford torino                  | 0 |\n",
       "| 6 | 15 | 8 | 429 | 198 | 4341 | 10.0 | 70 | 1 | ford galaxie 500             | 0 |\n",
       "| 7 | 14 | 8 | 454 | 220 | 4354 |  9.0 | 70 | 1 | chevrolet impala             | 0 |\n",
       "| 8 | 14 | 8 | 440 | 215 | 4312 |  8.5 | 70 | 1 | plymouth fury iii            | 0 |\n",
       "| 9 | 14 | 8 | 455 | 225 | 4425 | 10.0 | 70 | 1 | pontiac catalina             | 0 |\n",
       "| 10 | 15 | 8 | 390 | 190 | 3850 |  8.5 | 70 | 1 | amc ambassador dpl           | 0 |\n",
       "| 11 | 15 | 8 | 383 | 170 | 3563 | 10.0 | 70 | 1 | dodge challenger se          | 0 |\n",
       "| 12 | 14 | 8 | 340 | 160 | 3609 |  8.0 | 70 | 1 | plymouth 'cuda 340           | 0 |\n",
       "| 13 | 15 | 8 | 400 | 150 | 3761 |  9.5 | 70 | 1 | chevrolet monte carlo        | 0 |\n",
       "| 14 | 14 | 8 | 455 | 225 | 3086 | 10.0 | 70 | 1 | buick estate wagon (sw)      | 0 |\n",
       "| 15 | 24 | 4 | 113 |  95 | 2372 | 15.0 | 70 | 3 | toyota corona mark ii        | 1 |\n",
       "| 16 | 22 | 6 | 198 |  95 | 2833 | 15.5 | 70 | 1 | plymouth duster              | 0 |\n",
       "| 17 | 18 | 6 | 199 |  97 | 2774 | 15.5 | 70 | 1 | amc hornet                   | 0 |\n",
       "| 18 | 21 | 6 | 200 |  85 | 2587 | 16.0 | 70 | 1 | ford maverick                | 0 |\n",
       "| 19 | 27 | 4 |  97 |  88 | 2130 | 14.5 | 70 | 3 | datsun pl510                 | 1 |\n",
       "| 20 | 26 | 4 |  97 |  46 | 1835 | 20.5 | 70 | 2 | volkswagen 1131 deluxe sedan | 1 |\n",
       "| 21 | 25 | 4 | 110 |  87 | 2672 | 17.5 | 70 | 2 | peugeot 504                  | 1 |\n",
       "| 22 | 24 | 4 | 107 |  90 | 2430 | 14.5 | 70 | 2 | audi 100 ls                  | 1 |\n",
       "| 23 | 25 | 4 | 104 |  95 | 2375 | 17.5 | 70 | 2 | saab 99e                     | 1 |\n",
       "| 24 | 26 | 4 | 121 | 113 | 2234 | 12.5 | 70 | 2 | bmw 2002                     | 1 |\n",
       "| 25 | 21 | 6 | 199 |  90 | 2648 | 15.0 | 70 | 1 | amc gremlin                  | 0 |\n",
       "| 26 | 10 | 8 | 360 | 215 | 4615 | 14.0 | 70 | 1 | ford f250                    | 0 |\n",
       "| 27 | 10 | 8 | 307 | 200 | 4376 | 15.0 | 70 | 1 | chevy c20                    | 0 |\n",
       "| 28 | 11 | 8 | 318 | 210 | 4382 | 13.5 | 70 | 1 | dodge d200                   | 0 |\n",
       "| 29 |  9 | 8 | 304 | 193 | 4732 | 18.5 | 70 | 1 | hi 1200d                     | 0 |\n",
       "| 30 | 27 | 4 |  97 |  88 | 2130 | 14.5 | 71 | 3 | datsun pl510                 | 1 |\n",
       "| ⋮ | ⋮ | ⋮ | ⋮ | ⋮ | ⋮ | ⋮ | ⋮ | ⋮ | ⋮ | ⋮ |\n",
       "| 368 | 28 | 4 | 112 |  88 | 2605 | 19.6 | 82 | 1 | chevrolet cavalier                | 1 |\n",
       "| 369 | 27 | 4 | 112 |  88 | 2640 | 18.6 | 82 | 1 | chevrolet cavalier wagon          | 1 |\n",
       "| 370 | 34 | 4 | 112 |  88 | 2395 | 18.0 | 82 | 1 | chevrolet cavalier 2-door         | 1 |\n",
       "| 371 | 31 | 4 | 112 |  85 | 2575 | 16.2 | 82 | 1 | pontiac j2000 se hatchback        | 1 |\n",
       "| 372 | 29 | 4 | 135 |  84 | 2525 | 16.0 | 82 | 1 | dodge aries se                    | 1 |\n",
       "| 373 | 27 | 4 | 151 |  90 | 2735 | 18.0 | 82 | 1 | pontiac phoenix                   | 1 |\n",
       "| 374 | 24 | 4 | 140 |  92 | 2865 | 16.4 | 82 | 1 | ford fairmont futura              | 1 |\n",
       "| 375 | 36 | 4 | 105 |  74 | 1980 | 15.3 | 82 | 2 | volkswagen rabbit l               | 1 |\n",
       "| 376 | 37 | 4 |  91 |  68 | 2025 | 18.2 | 82 | 3 | mazda glc custom l                | 1 |\n",
       "| 377 | 31 | 4 |  91 |  68 | 1970 | 17.6 | 82 | 3 | mazda glc custom                  | 1 |\n",
       "| 378 | 38 | 4 | 105 |  63 | 2125 | 14.7 | 82 | 1 | plymouth horizon miser            | 1 |\n",
       "| 379 | 36 | 4 |  98 |  70 | 2125 | 17.3 | 82 | 1 | mercury lynx l                    | 1 |\n",
       "| 380 | 36 | 4 | 120 |  88 | 2160 | 14.5 | 82 | 3 | nissan stanza xe                  | 1 |\n",
       "| 381 | 36 | 4 | 107 |  75 | 2205 | 14.5 | 82 | 3 | honda accord                      | 1 |\n",
       "| 382 | 34 | 4 | 108 |  70 | 2245 | 16.9 | 82 | 3 | toyota corolla                    | 1 |\n",
       "| 383 | 38 | 4 |  91 |  67 | 1965 | 15.0 | 82 | 3 | honda civic                       | 1 |\n",
       "| 384 | 32 | 4 |  91 |  67 | 1965 | 15.7 | 82 | 3 | honda civic (auto)                | 1 |\n",
       "| 385 | 38 | 4 |  91 |  67 | 1995 | 16.2 | 82 | 3 | datsun 310 gx                     | 1 |\n",
       "| 386 | 25 | 6 | 181 | 110 | 2945 | 16.4 | 82 | 1 | buick century limited             | 1 |\n",
       "| 387 | 38 | 6 | 262 |  85 | 3015 | 17.0 | 82 | 1 | oldsmobile cutlass ciera (diesel) | 1 |\n",
       "| 388 | 26 | 4 | 156 |  92 | 2585 | 14.5 | 82 | 1 | chrysler lebaron medallion        | 1 |\n",
       "| 389 | 22 | 6 | 232 | 112 | 2835 | 14.7 | 82 | 1 | ford granada l                    | 0 |\n",
       "| 390 | 32 | 4 | 144 |  96 | 2665 | 13.9 | 82 | 3 | toyota celica gt                  | 1 |\n",
       "| 391 | 36 | 4 | 135 |  84 | 2370 | 13.0 | 82 | 1 | dodge charger 2.2                 | 1 |\n",
       "| 392 | 27 | 4 | 151 |  90 | 2950 | 17.3 | 82 | 1 | chevrolet camaro                  | 1 |\n",
       "| 393 | 27 | 4 | 140 |  86 | 2790 | 15.6 | 82 | 1 | ford mustang gl                   | 1 |\n",
       "| 394 | 44 | 4 |  97 |  52 | 2130 | 24.6 | 82 | 2 | vw pickup                         | 1 |\n",
       "| 395 | 32 | 4 | 135 |  84 | 2295 | 11.6 | 82 | 1 | dodge rampage                     | 1 |\n",
       "| 396 | 28 | 4 | 120 |  79 | 2625 | 18.6 | 82 | 1 | ford ranger                       | 1 |\n",
       "| 397 | 31 | 4 | 119 |  82 | 2720 | 19.4 | 82 | 1 | chevy s-10                        | 1 |\n",
       "\n"
      ],
      "text/plain": [
       "    mpg cylinders displacement horsepower weight acceleration year origin\n",
       "1   18  8         307          130        3504   12.0         70   1     \n",
       "2   15  8         350          165        3693   11.5         70   1     \n",
       "3   18  8         318          150        3436   11.0         70   1     \n",
       "4   16  8         304          150        3433   12.0         70   1     \n",
       "5   17  8         302          140        3449   10.5         70   1     \n",
       "6   15  8         429          198        4341   10.0         70   1     \n",
       "7   14  8         454          220        4354    9.0         70   1     \n",
       "8   14  8         440          215        4312    8.5         70   1     \n",
       "9   14  8         455          225        4425   10.0         70   1     \n",
       "10  15  8         390          190        3850    8.5         70   1     \n",
       "11  15  8         383          170        3563   10.0         70   1     \n",
       "12  14  8         340          160        3609    8.0         70   1     \n",
       "13  15  8         400          150        3761    9.5         70   1     \n",
       "14  14  8         455          225        3086   10.0         70   1     \n",
       "15  24  4         113           95        2372   15.0         70   3     \n",
       "16  22  6         198           95        2833   15.5         70   1     \n",
       "17  18  6         199           97        2774   15.5         70   1     \n",
       "18  21  6         200           85        2587   16.0         70   1     \n",
       "19  27  4          97           88        2130   14.5         70   3     \n",
       "20  26  4          97           46        1835   20.5         70   2     \n",
       "21  25  4         110           87        2672   17.5         70   2     \n",
       "22  24  4         107           90        2430   14.5         70   2     \n",
       "23  25  4         104           95        2375   17.5         70   2     \n",
       "24  26  4         121          113        2234   12.5         70   2     \n",
       "25  21  6         199           90        2648   15.0         70   1     \n",
       "26  10  8         360          215        4615   14.0         70   1     \n",
       "27  10  8         307          200        4376   15.0         70   1     \n",
       "28  11  8         318          210        4382   13.5         70   1     \n",
       "29   9  8         304          193        4732   18.5         70   1     \n",
       "30  27  4          97           88        2130   14.5         71   3     \n",
       "<U+22EE>   <U+22EE> <U+22EE>  <U+22EE>     <U+22EE>   <U+22EE> <U+22EE>     <U+22EE> <U+22EE>\n",
       "368 28  4         112           88        2605   19.6         82   1     \n",
       "369 27  4         112           88        2640   18.6         82   1     \n",
       "370 34  4         112           88        2395   18.0         82   1     \n",
       "371 31  4         112           85        2575   16.2         82   1     \n",
       "372 29  4         135           84        2525   16.0         82   1     \n",
       "373 27  4         151           90        2735   18.0         82   1     \n",
       "374 24  4         140           92        2865   16.4         82   1     \n",
       "375 36  4         105           74        1980   15.3         82   2     \n",
       "376 37  4          91           68        2025   18.2         82   3     \n",
       "377 31  4          91           68        1970   17.6         82   3     \n",
       "378 38  4         105           63        2125   14.7         82   1     \n",
       "379 36  4          98           70        2125   17.3         82   1     \n",
       "380 36  4         120           88        2160   14.5         82   3     \n",
       "381 36  4         107           75        2205   14.5         82   3     \n",
       "382 34  4         108           70        2245   16.9         82   3     \n",
       "383 38  4          91           67        1965   15.0         82   3     \n",
       "384 32  4          91           67        1965   15.7         82   3     \n",
       "385 38  4          91           67        1995   16.2         82   3     \n",
       "386 25  6         181          110        2945   16.4         82   1     \n",
       "387 38  6         262           85        3015   17.0         82   1     \n",
       "388 26  4         156           92        2585   14.5         82   1     \n",
       "389 22  6         232          112        2835   14.7         82   1     \n",
       "390 32  4         144           96        2665   13.9         82   3     \n",
       "391 36  4         135           84        2370   13.0         82   1     \n",
       "392 27  4         151           90        2950   17.3         82   1     \n",
       "393 27  4         140           86        2790   15.6         82   1     \n",
       "394 44  4          97           52        2130   24.6         82   2     \n",
       "395 32  4         135           84        2295   11.6         82   1     \n",
       "396 28  4         120           79        2625   18.6         82   1     \n",
       "397 31  4         119           82        2720   19.4         82   1     \n",
       "    name                              new_var\n",
       "1   chevrolet chevelle malibu         0      \n",
       "2   buick skylark 320                 0      \n",
       "3   plymouth satellite                0      \n",
       "4   amc rebel sst                     0      \n",
       "5   ford torino                       0      \n",
       "6   ford galaxie 500                  0      \n",
       "7   chevrolet impala                  0      \n",
       "8   plymouth fury iii                 0      \n",
       "9   pontiac catalina                  0      \n",
       "10  amc ambassador dpl                0      \n",
       "11  dodge challenger se               0      \n",
       "12  plymouth 'cuda 340                0      \n",
       "13  chevrolet monte carlo             0      \n",
       "14  buick estate wagon (sw)           0      \n",
       "15  toyota corona mark ii             1      \n",
       "16  plymouth duster                   0      \n",
       "17  amc hornet                        0      \n",
       "18  ford maverick                     0      \n",
       "19  datsun pl510                      1      \n",
       "20  volkswagen 1131 deluxe sedan      1      \n",
       "21  peugeot 504                       1      \n",
       "22  audi 100 ls                       1      \n",
       "23  saab 99e                          1      \n",
       "24  bmw 2002                          1      \n",
       "25  amc gremlin                       0      \n",
       "26  ford f250                         0      \n",
       "27  chevy c20                         0      \n",
       "28  dodge d200                        0      \n",
       "29  hi 1200d                          0      \n",
       "30  datsun pl510                      1      \n",
       "<U+22EE>   <U+22EE>                          <U+22EE>\n",
       "368 chevrolet cavalier                1      \n",
       "369 chevrolet cavalier wagon          1      \n",
       "370 chevrolet cavalier 2-door         1      \n",
       "371 pontiac j2000 se hatchback        1      \n",
       "372 dodge aries se                    1      \n",
       "373 pontiac phoenix                   1      \n",
       "374 ford fairmont futura              1      \n",
       "375 volkswagen rabbit l               1      \n",
       "376 mazda glc custom l                1      \n",
       "377 mazda glc custom                  1      \n",
       "378 plymouth horizon miser            1      \n",
       "379 mercury lynx l                    1      \n",
       "380 nissan stanza xe                  1      \n",
       "381 honda accord                      1      \n",
       "382 toyota corolla                    1      \n",
       "383 honda civic                       1      \n",
       "384 honda civic (auto)                1      \n",
       "385 datsun 310 gx                     1      \n",
       "386 buick century limited             1      \n",
       "387 oldsmobile cutlass ciera (diesel) 1      \n",
       "388 chrysler lebaron medallion        1      \n",
       "389 ford granada l                    0      \n",
       "390 toyota celica gt                  1      \n",
       "391 dodge charger 2.2                 1      \n",
       "392 chevrolet camaro                  1      \n",
       "393 ford mustang gl                   1      \n",
       "394 vw pickup                         1      \n",
       "395 dodge rampage                     1      \n",
       "396 ford ranger                       1      \n",
       "397 chevy s-10                        1      "
      ]
     },
     "metadata": {},
     "output_type": "display_data"
    }
   ],
   "source": [
    "library(ISLR)\n",
    "bi_var <- ifelse(Auto$mpg >median(Auto$mpg),1,0)\n",
    "Auto$new_var = as.factor(bi_var)\n",
    "Auto"
   ]
  },
  {
   "cell_type": "code",
   "execution_count": null,
   "id": "82845986",
   "metadata": {},
   "outputs": [],
   "source": [
    "# (b) Fit a support vector classifier to the data with various values\n",
    "# of cost, in order to predict whether a car gets high or low gas\n",
    "# mileage. Report the cross-validation errors associated with different\n",
    "# values of this parameter. Comment on your results.\n"
   ]
  },
  {
   "cell_type": "code",
   "execution_count": 30,
   "id": "d2603e90",
   "metadata": {},
   "outputs": [
    {
     "data": {
      "text/plain": [
       "\n",
       "Parameter tuning of 'svm':\n",
       "\n",
       "- sampling method: 10-fold cross validation \n",
       "\n",
       "- best parameters:\n",
       " cost\n",
       "    1\n",
       "\n",
       "- best performance: 0.01269231 \n",
       "\n",
       "- Detailed performance results:\n",
       "   cost      error dispersion\n",
       "1 1e-03 0.09442308 0.02980145\n",
       "2 1e-02 0.07653846 0.03199026\n",
       "3 1e-01 0.05102564 0.03822721\n",
       "4 1e+00 0.01269231 0.02154160\n",
       "5 1e+01 0.01788462 0.01727588\n",
       "6 1e+02 0.03064103 0.02026380\n"
      ]
     },
     "metadata": {},
     "output_type": "display_data"
    }
   ],
   "source": [
    "tunes = tune(svm,new_var~., data=Auto, kernel= \"linear\", ranges= list(cost=c(0.001,0.01,0.1,1,10,100)) )\n",
    "summary(tunes)"
   ]
  },
  {
   "cell_type": "code",
   "execution_count": 31,
   "id": "a18ca860",
   "metadata": {},
   "outputs": [],
   "source": [
    "\n",
    "# c) Now repeat (b), this time using SVMs with radial and polynomial\n",
    "# basis kernels, with different values of gamma and degree and\n",
    "# cost. Comment on your results."
   ]
  },
  {
   "cell_type": "code",
   "execution_count": 34,
   "id": "de343a51",
   "metadata": {},
   "outputs": [
    {
     "data": {
      "text/plain": [
       "\n",
       "Parameter tuning of 'svm':\n",
       "\n",
       "- sampling method: 10-fold cross validation \n",
       "\n",
       "- best parameters:\n",
       " cost\n",
       "  100\n",
       "\n",
       "- best performance: 0.3316026 \n",
       "\n",
       "- Detailed performance results:\n",
       "   cost     error dispersion\n",
       "1 1e-03 0.5560897 0.03676859\n",
       "2 1e-02 0.5560897 0.03676859\n",
       "3 1e-01 0.5560897 0.03676859\n",
       "4 1e+00 0.5560897 0.03676859\n",
       "5 1e+01 0.5560897 0.03676859\n",
       "6 1e+02 0.3316026 0.14135097\n"
      ]
     },
     "metadata": {},
     "output_type": "display_data"
    }
   ],
   "source": [
    "tunes2 = tune(svm,new_var~., data=Auto, kernel= \"radial\", ranges= list(cost=c(0.001,0.01,0.1,1,10,100)) )\n",
    "summary(tunes)"
   ]
  },
  {
   "cell_type": "code",
   "execution_count": 35,
   "id": "fb56ebe8",
   "metadata": {},
   "outputs": [
    {
     "data": {
      "text/plain": [
       "\n",
       "Parameter tuning of 'svm':\n",
       "\n",
       "- sampling method: 10-fold cross validation \n",
       "\n",
       "- best parameters:\n",
       " cost\n",
       "  100\n",
       "\n",
       "- best performance: 0.3316026 \n",
       "\n",
       "- Detailed performance results:\n",
       "   cost     error dispersion\n",
       "1 1e-03 0.5560897 0.03676859\n",
       "2 1e-02 0.5560897 0.03676859\n",
       "3 1e-01 0.5560897 0.03676859\n",
       "4 1e+00 0.5560897 0.03676859\n",
       "5 1e+01 0.5560897 0.03676859\n",
       "6 1e+02 0.3316026 0.14135097\n"
      ]
     },
     "metadata": {},
     "output_type": "display_data"
    }
   ],
   "source": [
    "tunes3 = tune(svm,new_var~., data=Auto, kernel= \"polynomial\", ranges= list(cost=c(0.001,0.01,0.1,1,10,100)) )\n",
    "summary(tunes)"
   ]
  },
  {
   "cell_type": "code",
   "execution_count": 38,
   "id": "58372040",
   "metadata": {},
   "outputs": [
    {
     "ename": "ERROR",
     "evalue": "Error in parse(text = x, srcfile = src): <text>:5:17: unexpected ')'\n4: svm3 = svm(new_var~., data=Auto, kernel= \"polynomial\", cost=100)\n5: plot(svm1,Auto,~)\n                   ^\n",
     "output_type": "error",
     "traceback": [
      "Error in parse(text = x, srcfile = src): <text>:5:17: unexpected ')'\n4: svm3 = svm(new_var~., data=Auto, kernel= \"polynomial\", cost=100)\n5: plot(svm1,Auto,~)\n                   ^\nTraceback:\n"
     ]
    }
   ],
   "source": [
    "# d) Make some plots to back up your assertions in (b) and (c).\n",
    "svm1 = svm(new_var~., data=Auto, kernel= \"linear\", cost=1)\n",
    "svm2 = svm(new_var~., data=Auto, kernel= \"radial\", cost=100)\n",
    "svm3 = svm(new_var~., data=Auto, kernel= \"polynomial\", cost=100)\n",
    "plot(svm1,Auto,)"
   ]
  },
  {
   "cell_type": "code",
   "execution_count": null,
   "id": "4a02553f",
   "metadata": {},
   "outputs": [],
   "source": [
    "# 8. This problem involves the OJ data set which is part of the ISLR\n",
    "# package.\n",
    "# 372 9. Support Vector Machines\n",
    "# (a) Create a training set containing a random sample of 800\n",
    "# observations, and a test set containing the remaining\n",
    "# observations."
   ]
  },
  {
   "cell_type": "code",
   "execution_count": 40,
   "id": "118fc600",
   "metadata": {},
   "outputs": [],
   "source": [
    "sample = sample.split(OJ$Purchase, SplitRatio = 0.3)\n",
    "train = subset(OJ, sample==TRUE)\n",
    "test = subset(OJ, sample==FALSE)\n"
   ]
  },
  {
   "cell_type": "code",
   "execution_count": null,
   "id": "8c54ceb3",
   "metadata": {},
   "outputs": [],
   "source": [
    "# (b) Fit a support vector classifier to the training data using\n",
    "# cost=0.01, with Purchase as the response and the other variables\n",
    "# as predictors. Use the summary() function to produce summary\n",
    "# statistics, and describe the results obtained."
   ]
  },
  {
   "cell_type": "code",
   "execution_count": 41,
   "id": "fd492944",
   "metadata": {},
   "outputs": [
    {
     "data": {
      "text/plain": [
       "\n",
       "Call:\n",
       "svm(formula = Purchase ~ ., data = train, kernel = \"linear\", cost = 0.01)\n",
       "\n",
       "\n",
       "Parameters:\n",
       "   SVM-Type:  C-classification \n",
       " SVM-Kernel:  linear \n",
       "       cost:  0.01 \n",
       "\n",
       "Number of Support Vectors:  212\n",
       "\n",
       " ( 107 105 )\n",
       "\n",
       "\n",
       "Number of Classes:  2 \n",
       "\n",
       "Levels: \n",
       " CH MM\n",
       "\n",
       "\n"
      ]
     },
     "metadata": {},
     "output_type": "display_data"
    }
   ],
   "source": [
    "svm.model = svm(Purchase~., data = train, kernel = \"linear\", cost=0.01)\n",
    "summary(svm.model)"
   ]
  },
  {
   "cell_type": "code",
   "execution_count": null,
   "id": "2838e4ba",
   "metadata": {},
   "outputs": [],
   "source": [
    "# (c) What are the training and test error rates?"
   ]
  },
  {
   "cell_type": "code",
   "execution_count": 42,
   "id": "80a078a9",
   "metadata": {},
   "outputs": [
    {
     "data": {
      "text/plain": [
       "    train_pred\n",
       "      CH  MM\n",
       "  CH 177  19\n",
       "  MM  32  93"
      ]
     },
     "metadata": {},
     "output_type": "display_data"
    }
   ],
   "source": [
    "train_pred = predict(svm.model, train)\n",
    "table(train$Purchase, train_pred)"
   ]
  },
  {
   "cell_type": "code",
   "execution_count": 44,
   "id": "64211c28",
   "metadata": {},
   "outputs": [
    {
     "data": {
      "text/plain": [
       "    test_pred\n",
       "      CH  MM\n",
       "  CH 380  77\n",
       "  MM  58 234"
      ]
     },
     "metadata": {},
     "output_type": "display_data"
    }
   ],
   "source": [
    "test_pred = predict(svm.model, test)\n",
    "table(test$Purchase, test_pred)"
   ]
  },
  {
   "cell_type": "code",
   "execution_count": null,
   "id": "b8f9d76b",
   "metadata": {},
   "outputs": [],
   "source": [
    "# (d) Use the tune() function to select an optimal cost. Consider values\n",
    "# in the range 0.01 to 10."
   ]
  },
  {
   "cell_type": "code",
   "execution_count": 46,
   "id": "da1f7369",
   "metadata": {},
   "outputs": [
    {
     "data": {
      "text/plain": [
       "\n",
       "Parameter tuning of 'svm':\n",
       "\n",
       "- sampling method: 10-fold cross validation \n",
       "\n",
       "- best parameters:\n",
       " cost\n",
       " 0.01\n",
       "\n",
       "- best performance: 0.1710227 \n",
       "\n",
       "- Detailed performance results:\n",
       "   cost     error dispersion\n",
       "1 1e-03 0.3891098 0.10791065\n",
       "2 1e-02 0.1710227 0.06961097\n",
       "3 1e-01 0.1866477 0.06785287\n",
       "4 1e+00 0.1772727 0.07093050\n",
       "5 1e+01 0.1771780 0.07904087\n"
      ]
     },
     "metadata": {},
     "output_type": "display_data"
    }
   ],
   "source": [
    "tunes4 = tune(svm,Purchase ~., data=train, kernel= \"linear\", ranges= list(cost=c(0.001,0.01,0.1,1,10)) )\n",
    "summary(tunes4)"
   ]
  },
  {
   "cell_type": "code",
   "execution_count": null,
   "id": "6881e687",
   "metadata": {},
   "outputs": [],
   "source": [
    "# (e) Compute the training and test error rates using this new value\n",
    "# for cost."
   ]
  },
  {
   "cell_type": "code",
   "execution_count": 47,
   "id": "f82779d8",
   "metadata": {},
   "outputs": [
    {
     "data": {
      "text/plain": [
       "    test_pred\n",
       "      CH  MM\n",
       "  CH 380  77\n",
       "  MM  58 234"
      ]
     },
     "metadata": {},
     "output_type": "display_data"
    }
   ],
   "source": [
    "svm.model = svm(Purchase~., data = train, kernel = \"linear\", cost=0.01)\n",
    "test_pred = predict(svm.model, test)\n",
    "table(test$Purchase, test_pred)"
   ]
  },
  {
   "cell_type": "code",
   "execution_count": null,
   "id": "7a3ac001",
   "metadata": {},
   "outputs": [],
   "source": [
    "# (f) Repeat parts (b) through (e) using a support vector machine\n",
    "# with a radial kernel. Use the default value for gamma.\n"
   ]
  },
  {
   "cell_type": "code",
   "execution_count": null,
   "id": "76b7ea07",
   "metadata": {},
   "outputs": [],
   "source": []
  }
 ],
 "metadata": {
  "kernelspec": {
   "display_name": "R",
   "language": "R",
   "name": "ir"
  },
  "language_info": {
   "codemirror_mode": "r",
   "file_extension": ".r",
   "mimetype": "text/x-r-source",
   "name": "R",
   "pygments_lexer": "r",
   "version": "4.0.5"
  }
 },
 "nbformat": 4,
 "nbformat_minor": 5
}
