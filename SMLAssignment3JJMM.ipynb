{
 "cells": [
  {
   "cell_type": "markdown",
   "id": "aab98014",
   "metadata": {},
   "source": [
    "Assignment\n",
    "Juan Jose Medina"
   ]
  },
  {
   "cell_type": "code",
   "execution_count": null,
   "id": "95860e48",
   "metadata": {},
   "outputs": [],
   "source": [
    "#ex 3\n",
    "#(a) Explain how k-fold cross-validation is implemented.\n",
    "# the data is divided into K parts, one for testing and the rest to be fitted, after we can get the MSE of the partition that\n",
    "#was for evaluation, this process is reapeated k times changing the validation partition, afterwards we get the average of all the MSE\n",
    "\n",
    "#(b) What are the advantages and disadvantages of k-fold\n",
    "#advantage: can be applied to almost every statistical learning method\n",
    "            #less computing hungry\n",
    "#Disadvantage# dificult to determine the true test MSE\n",
    "                #overestimation  the test set MSE to gain more flexibility\n"
   ]
  },
  {
   "cell_type": "code",
   "execution_count": 102,
   "id": "9cbe7566",
   "metadata": {},
   "outputs": [],
   "source": [
    "#ex8\n",
    "set.seed (1)\n",
    "x=rnorm (100)\n",
    "y=x-2* x^2+ rnorm (100)\n",
    "#[n =100], [p=2]\n",
    "# y=x-2* x^2+ e"
   ]
  },
  {
   "cell_type": "code",
   "execution_count": 103,
   "id": "93e16c90",
   "metadata": {},
   "outputs": [
    {
     "data": {
      "image/png": "[encoded data removed]",
      "text/plain": [
       "plot without title"
      ]
     },
     "metadata": {
      "image/png": {
       "height": 420,
       "width": 420
      }
     },
     "output_type": "display_data"
    }
   ],
   "source": [
    "plot(x,y)\n",
    "#There is a cuadratir relation between x and Y"
   ]
  },
  {
   "cell_type": "code",
   "execution_count": 104,
   "id": "6b270ca3",
   "metadata": {},
   "outputs": [],
   "source": [
    "set.seed (123)\n",
    "library(boot)\n",
    "df= data.frame(x,y)\n"
   ]
  },
  {
   "cell_type": "code",
   "execution_count": 105,
   "id": "d32bdd24",
   "metadata": {},
   "outputs": [
    {
     "data": {
      "text/html": [
       "<style>\n",
       ".list-inline {list-style: none; margin:0; padding: 0}\n",
       ".list-inline>li {display: inline-block}\n",
       ".list-inline>li:not(:last-child)::after {content: \"\\00b7\"; padding: 0 .5ex}\n",
       "</style>\n",
       "<ol class=list-inline><li>7.28816160667281</li><li>7.28474411546929</li></ol>\n"
      ],
      "text/latex": [
       "\\begin{enumerate*}\n",
       "\\item 7.28816160667281\n",
       "\\item 7.28474411546929\n",
       "\\end{enumerate*}\n"
      ],
      "text/markdown": [
       "1. 7.28816160667281\n",
       "2. 7.28474411546929\n",
       "\n",
       "\n"
      ],
      "text/plain": [
       "[1] 7.288162 7.284744"
      ]
     },
     "metadata": {},
     "output_type": "display_data"
    }
   ],
   "source": [
    "#i. Y = β0 + β1X + ǫ\n",
    "\n",
    "glm.fit = glm(y ~ x)\n",
    "cv.error= cv.glm(df, glm.fit)\n",
    "cv.error$delta"
   ]
  },
  {
   "cell_type": "code",
   "execution_count": 107,
   "id": "b38699fa",
   "metadata": {},
   "outputs": [
    {
     "data": {
      "text/html": [
       "<style>\n",
       ".list-inline {list-style: none; margin:0; padding: 0}\n",
       ".list-inline>li {display: inline-block}\n",
       ".list-inline>li:not(:last-child)::after {content: \"\\00b7\"; padding: 0 .5ex}\n",
       "</style>\n",
       "<ol class=list-inline><li>0.937423637615552</li><li>0.937178917181123</li></ol>\n"
      ],
      "text/latex": [
       "\\begin{enumerate*}\n",
       "\\item 0.937423637615552\n",
       "\\item 0.937178917181123\n",
       "\\end{enumerate*}\n"
      ],
      "text/markdown": [
       "1. 0.937423637615552\n",
       "2. 0.937178917181123\n",
       "\n",
       "\n"
      ],
      "text/plain": [
       "[1] 0.9374236 0.9371789"
      ]
     },
     "metadata": {},
     "output_type": "display_data"
    }
   ],
   "source": [
    "#ii. Y = β0 + β1X + β2X2 + ǫ\n",
    "\n",
    "glm.fit = glm(y ~ poly(x,2))\n",
    "cv.error= cv.glm(df, glm.fit)\n",
    "cv.error$delta"
   ]
  },
  {
   "cell_type": "code",
   "execution_count": 108,
   "id": "12d36a25",
   "metadata": {},
   "outputs": [
    {
     "data": {
      "text/html": [
       "<style>\n",
       ".list-inline {list-style: none; margin:0; padding: 0}\n",
       ".list-inline>li {display: inline-block}\n",
       ".list-inline>li:not(:last-child)::after {content: \"\\00b7\"; padding: 0 .5ex}\n",
       "</style>\n",
       "<ol class=list-inline><li>0.95662183010894</li><li>0.956253813731321</li></ol>\n"
      ],
      "text/latex": [
       "\\begin{enumerate*}\n",
       "\\item 0.95662183010894\n",
       "\\item 0.956253813731321\n",
       "\\end{enumerate*}\n"
      ],
      "text/markdown": [
       "1. 0.95662183010894\n",
       "2. 0.956253813731321\n",
       "\n",
       "\n"
      ],
      "text/plain": [
       "[1] 0.9566218 0.9562538"
      ]
     },
     "metadata": {},
     "output_type": "display_data"
    }
   ],
   "source": [
    "#iii. Y = β0 + β1X + β2X2 + β3X3 + ǫ\n",
    "\n",
    "glm.fit = glm(y ~ poly(x,3))\n",
    "cv.error= cv.glm(df, glm.fit)\n",
    "cv.error$delta"
   ]
  },
  {
   "cell_type": "code",
   "execution_count": 109,
   "id": "30aac0fc",
   "metadata": {},
   "outputs": [
    {
     "data": {
      "text/html": [
       "<style>\n",
       ".list-inline {list-style: none; margin:0; padding: 0}\n",
       ".list-inline>li {display: inline-block}\n",
       ".list-inline>li:not(:last-child)::after {content: \"\\00b7\"; padding: 0 .5ex}\n",
       "</style>\n",
       "<ol class=list-inline><li>0.953904892744804</li><li>0.9534452831566</li></ol>\n"
      ],
      "text/latex": [
       "\\begin{enumerate*}\n",
       "\\item 0.953904892744804\n",
       "\\item 0.9534452831566\n",
       "\\end{enumerate*}\n"
      ],
      "text/markdown": [
       "1. 0.953904892744804\n",
       "2. 0.9534452831566\n",
       "\n",
       "\n"
      ],
      "text/plain": [
       "[1] 0.9539049 0.9534453"
      ]
     },
     "metadata": {},
     "output_type": "display_data"
    }
   ],
   "source": [
    "#Y = β0 + β1X + β2X2 + β3X3 + β4X4 + ǫ.\n",
    "\n",
    "glm.fit = glm(y ~ poly(x,4))\n",
    "cv.error= cv.glm(df, glm.fit)\n",
    "cv.error$delta"
   ]
  },
  {
   "cell_type": "code",
   "execution_count": 110,
   "id": "9d717a45",
   "metadata": {},
   "outputs": [
    {
     "data": {
      "text/html": [
       "<style>\n",
       ".list-inline {list-style: none; margin:0; padding: 0}\n",
       ".list-inline>li {display: inline-block}\n",
       ".list-inline>li:not(:last-child)::after {content: \"\\00b7\"; padding: 0 .5ex}\n",
       "</style>\n",
       "<ol class=list-inline><li>7.28816160667281</li><li>7.28474411546929</li></ol>\n"
      ],
      "text/latex": [
       "\\begin{enumerate*}\n",
       "\\item 7.28816160667281\n",
       "\\item 7.28474411546929\n",
       "\\end{enumerate*}\n"
      ],
      "text/markdown": [
       "1. 7.28816160667281\n",
       "2. 7.28474411546929\n",
       "\n",
       "\n"
      ],
      "text/plain": [
       "[1] 7.288162 7.284744"
      ]
     },
     "metadata": {},
     "output_type": "display_data"
    },
    {
     "data": {
      "text/html": [
       "<style>\n",
       ".list-inline {list-style: none; margin:0; padding: 0}\n",
       ".list-inline>li {display: inline-block}\n",
       ".list-inline>li:not(:last-child)::after {content: \"\\00b7\"; padding: 0 .5ex}\n",
       "</style>\n",
       "<ol class=list-inline><li>0.937423637615552</li><li>0.937178917181123</li></ol>\n"
      ],
      "text/latex": [
       "\\begin{enumerate*}\n",
       "\\item 0.937423637615552\n",
       "\\item 0.937178917181123\n",
       "\\end{enumerate*}\n"
      ],
      "text/markdown": [
       "1. 0.937423637615552\n",
       "2. 0.937178917181123\n",
       "\n",
       "\n"
      ],
      "text/plain": [
       "[1] 0.9374236 0.9371789"
      ]
     },
     "metadata": {},
     "output_type": "display_data"
    },
    {
     "data": {
      "text/html": [
       "<style>\n",
       ".list-inline {list-style: none; margin:0; padding: 0}\n",
       ".list-inline>li {display: inline-block}\n",
       ".list-inline>li:not(:last-child)::after {content: \"\\00b7\"; padding: 0 .5ex}\n",
       "</style>\n",
       "<ol class=list-inline><li>0.95662183010894</li><li>0.956253813731321</li></ol>\n"
      ],
      "text/latex": [
       "\\begin{enumerate*}\n",
       "\\item 0.95662183010894\n",
       "\\item 0.956253813731321\n",
       "\\end{enumerate*}\n"
      ],
      "text/markdown": [
       "1. 0.95662183010894\n",
       "2. 0.956253813731321\n",
       "\n",
       "\n"
      ],
      "text/plain": [
       "[1] 0.9566218 0.9562538"
      ]
     },
     "metadata": {},
     "output_type": "display_data"
    },
    {
     "data": {
      "text/html": [
       "<style>\n",
       ".list-inline {list-style: none; margin:0; padding: 0}\n",
       ".list-inline>li {display: inline-block}\n",
       ".list-inline>li:not(:last-child)::after {content: \"\\00b7\"; padding: 0 .5ex}\n",
       "</style>\n",
       "<ol class=list-inline><li>0.953904892744804</li><li>0.953445283156601</li></ol>\n"
      ],
      "text/latex": [
       "\\begin{enumerate*}\n",
       "\\item 0.953904892744804\n",
       "\\item 0.953445283156601\n",
       "\\end{enumerate*}\n"
      ],
      "text/markdown": [
       "1. 0.953904892744804\n",
       "2. 0.953445283156601\n",
       "\n",
       "\n"
      ],
      "text/plain": [
       "[1] 0.9539049 0.9534453"
      ]
     },
     "metadata": {},
     "output_type": "display_data"
    }
   ],
   "source": [
    "#d)\n",
    "# the results are the same, it is beacause LOOCV calculates the error per every single observation,\n",
    "\n",
    "glm.fit = glm(y ~ x)\n",
    "cv.error= cv.glm(df, glm.fit)\n",
    "cv.error$delta\n",
    "\n",
    "\n",
    "glm.fit = glm(y ~ poly(x,2))\n",
    "cv.error= cv.glm(df, glm.fit)\n",
    "cv.error$delta\n",
    "\n",
    "\n",
    "glm.fit = glm(y ~ poly(x,3))\n",
    "cv.error= cv.glm(df, glm.fit)\n",
    "cv.error$delta\n",
    "\n",
    "\n",
    "glm.fit = glm(y ~ poly(x,4))\n",
    "cv.error= cv.glm(df, glm.fit)\n",
    "cv.error$delta"
   ]
  },
  {
   "cell_type": "code",
   "execution_count": null,
   "id": "a6d306a3",
   "metadata": {},
   "outputs": [],
   "source": [
    "#e)\n",
    "#the second model has the lowest error rate since the form of the data matches a quadratic formula"
   ]
  },
  {
   "cell_type": "code",
   "execution_count": 18,
   "id": "20baebfd",
   "metadata": {},
   "outputs": [
    {
     "data": {
      "text/plain": [
       "\n",
       "Call:\n",
       "glm(formula = y ~ poly(x, 4))\n",
       "\n",
       "Deviance Residuals: \n",
       "    Min       1Q   Median       3Q      Max  \n",
       "-2.0550  -0.6212  -0.1567   0.5952   2.2267  \n",
       "\n",
       "Coefficients:\n",
       "             Estimate Std. Error t value Pr(>|t|)    \n",
       "(Intercept)  -1.55002    0.09591 -16.162  < 2e-16 ***\n",
       "poly(x, 4)1   6.18883    0.95905   6.453 4.59e-09 ***\n",
       "poly(x, 4)2 -23.94830    0.95905 -24.971  < 2e-16 ***\n",
       "poly(x, 4)3   0.26411    0.95905   0.275    0.784    \n",
       "poly(x, 4)4   1.25710    0.95905   1.311    0.193    \n",
       "---\n",
       "Signif. codes:  0 '***' 0.001 '**' 0.01 '*' 0.05 '.' 0.1 ' ' 1\n",
       "\n",
       "(Dispersion parameter for gaussian family taken to be 0.9197797)\n",
       "\n",
       "    Null deviance: 700.852  on 99  degrees of freedom\n",
       "Residual deviance:  87.379  on 95  degrees of freedom\n",
       "AIC: 282.3\n",
       "\n",
       "Number of Fisher Scoring iterations: 2\n"
      ]
     },
     "metadata": {},
     "output_type": "display_data"
    }
   ],
   "source": [
    "#F)\n",
    "summary(glm.fit)\n",
    "#p values show statistical significance for linear and quadratic betas"
   ]
  },
  {
   "cell_type": "code",
   "execution_count": null,
   "id": "d8627610",
   "metadata": {},
   "outputs": [],
   "source": [
    "#EX6.1\n",
    "#a) the best subset has the smallest training RSS, while the other need a path and goes through iterations\n",
    "#b) \n",
    "#c) TRUE - TRUE - TRUE - FALSE - FALSE"
   ]
  },
  {
   "cell_type": "code",
   "execution_count": 23,
   "id": "ce2e7ac6",
   "metadata": {},
   "outputs": [],
   "source": [
    "#ex 6.9\n",
    "library(ISLR)\n",
    "library(caTools)\n",
    "#a\n",
    "set.seed(101)\n",
    "sample = sample.split(College, SplitRatio = .75)\n",
    "train = subset(College, sample == TRUE)\n",
    "test = subset(College, sample == FALSE)"
   ]
  },
  {
   "cell_type": "code",
   "execution_count": 29,
   "id": "5bb0a2db",
   "metadata": {},
   "outputs": [
    {
     "data": {
      "text/html": [
       "1203985.2934752"
      ],
      "text/latex": [
       "1203985.2934752"
      ],
      "text/markdown": [
       "1203985.2934752"
      ],
      "text/plain": [
       "[1] 1203985"
      ]
     },
     "metadata": {},
     "output_type": "display_data"
    }
   ],
   "source": [
    "#b\n",
    "lm.fit = lm(Apps~.,data= train)\n",
    "lm.predict = predict(lm.fit,test) \n",
    "TE = mean((test$Apps - lm.predict)^2)\n",
    "TE"
   ]
  },
  {
   "cell_type": "code",
   "execution_count": 61,
   "id": "d5a736ca",
   "metadata": {},
   "outputs": [
    {
     "data": {
      "text/html": [
       "1203826.94395185"
      ],
      "text/latex": [
       "1203826.94395185"
      ],
      "text/markdown": [
       "1203826.94395185"
      ],
      "text/plain": [
       "[1] 1203827"
      ]
     },
     "metadata": {},
     "output_type": "display_data"
    }
   ],
   "source": [
    "#C\n",
    "library(glmnet)\n",
    "x = model.matrix(Apps~.,train)[,-1]\n",
    "y = train$Apps\n",
    "grid=10^seq(10,-2, length =100)\n",
    "ridge.mod = cv.glmnet(x,y,alpha=0, lambda=grid)\n",
    "lambda = min(ridge.mod$lambda)\n",
    "x2 = model.matrix(Apps~.,test)[,-1]\n",
    "ridge.pred=predict(ridge.mod, x2,s=lambda)\n",
    "TE = mean((test$Apps - ridge.pred)^2)\n",
    "TE"
   ]
  },
  {
   "cell_type": "code",
   "execution_count": 62,
   "id": "514c483c",
   "metadata": {},
   "outputs": [
    {
     "data": {
      "text/html": [
       "1203767.89571758"
      ],
      "text/latex": [
       "1203767.89571758"
      ],
      "text/markdown": [
       "1203767.89571758"
      ],
      "text/plain": [
       "[1] 1203768"
      ]
     },
     "metadata": {},
     "output_type": "display_data"
    }
   ],
   "source": [
    "#d)\n",
    "lasso.mod = cv.glmnet(x,y,alpha=1, lambda=grid)\n",
    "lambda = min(ridge.mod$lambda)\n",
    "x2 = model.matrix(Apps~.,test)[,-1]\n",
    "lasso.pred=predict(lasso.mod, x2,s=lambda)\n",
    "TE = mean((test$Apps - lasso.pred)^2)\n",
    "TE"
   ]
  },
  {
   "cell_type": "code",
   "execution_count": 70,
   "id": "48414638",
   "metadata": {},
   "outputs": [
    {
     "data": {
      "text/html": [
       "1203985.2934752"
      ],
      "text/latex": [
       "1203985.2934752"
      ],
      "text/markdown": [
       "1203985.2934752"
      ],
      "text/plain": [
       "[1] 1203985"
      ]
     },
     "metadata": {},
     "output_type": "display_data"
    },
    {
     "data": {
      "image/png": "[encoded data removed]",
      "text/plain": [
       "Plot with title \"Apps\""
      ]
     },
     "metadata": {
      "image/png": {
       "height": 420,
       "width": 420
      }
     },
     "output_type": "display_data"
    }
   ],
   "source": [
    "#e)\n",
    "library(pls)\n",
    "pcr.fit= pcr(Apps~., data= train, scale=T, validation= \"CV\")\n",
    "validationplot(pcr.fit, val.type=\"MSEP\")\n",
    "pcr.predict= predict(pcr.fit, test, ncomp=17)\n",
    "TE = mean((test$Apps - pcr.predict)^2)\n",
    "TE"
   ]
  },
  {
   "cell_type": "code",
   "execution_count": null,
   "id": "1646b167",
   "metadata": {},
   "outputs": [],
   "source": [
    "#g)\n",
    "#the linnear model had the lowest terst error, neverthe less there is not much difference bteween the models"
   ]
  },
  {
   "cell_type": "code",
   "execution_count": 78,
   "id": "13dfb47d",
   "metadata": {},
   "outputs": [
    {
     "data": {
      "text/plain": [
       "\n",
       "Call:\n",
       "lm(formula = nox ~ poly(dis, 3), data = Boston)\n",
       "\n",
       "Residuals:\n",
       "      Min        1Q    Median        3Q       Max \n",
       "-0.121130 -0.040619 -0.009738  0.023385  0.194904 \n",
       "\n",
       "Coefficients:\n",
       "               Estimate Std. Error t value Pr(>|t|)    \n",
       "(Intercept)    0.554695   0.002759 201.021  < 2e-16 ***\n",
       "poly(dis, 3)1 -2.003096   0.062071 -32.271  < 2e-16 ***\n",
       "poly(dis, 3)2  0.856330   0.062071  13.796  < 2e-16 ***\n",
       "poly(dis, 3)3 -0.318049   0.062071  -5.124 4.27e-07 ***\n",
       "---\n",
       "Signif. codes:  0 '***' 0.001 '**' 0.01 '*' 0.05 '.' 0.1 ' ' 1\n",
       "\n",
       "Residual standard error: 0.06207 on 502 degrees of freedom\n",
       "Multiple R-squared:  0.7148,\tAdjusted R-squared:  0.7131 \n",
       "F-statistic: 419.3 on 3 and 502 DF,  p-value: < 2.2e-16\n"
      ]
     },
     "metadata": {},
     "output_type": "display_data"
    }
   ],
   "source": [
    "#ex7.9\n",
    "#a) \n",
    "library(MASS)\n",
    "lm.fit = lm(nox~ poly(dis,3),data= Boston)\n",
    "summary(lm.fit)\n",
    "\n"
   ]
  },
  {
   "cell_type": "code",
   "execution_count": 83,
   "id": "847954c5",
   "metadata": {},
   "outputs": [
    {
     "data": {
      "image/png": "[encoded data removed]",
      "text/plain": [
       "plot without title"
      ]
     },
     "metadata": {
      "image/png": {
       "height": 420,
       "width": 420
      }
     },
     "output_type": "display_data"
    }
   ],
   "source": [
    "dis.grid = seq(from=min(Boston$dis), to=max(Boston$dis),0.2)\n",
    "lm.predict = predict(lm.fit, list(dis=dis.grid))\n",
    "plot(nox~dis, data= Boston)\n",
    "lines(dis.grid, lm.predict, lwd=3)"
   ]
  },
  {
   "cell_type": "code",
   "execution_count": 93,
   "id": "f5125d81",
   "metadata": {},
   "outputs": [
    {
     "data": {
      "text/html": [
       "<style>\n",
       ".list-inline {list-style: none; margin:0; padding: 0}\n",
       ".list-inline>li {display: inline-block}\n",
       ".list-inline>li:not(:last-child)::after {content: \"\\00b7\"; padding: 0 .5ex}\n",
       "</style>\n",
       "<ol class=list-inline><li>2.76856285896928</li><li>0</li><li>0</li><li>0</li><li>0</li><li>0</li><li>0</li><li>0</li><li>0</li><li>1.83217112393134</li></ol>\n"
      ],
      "text/latex": [
       "\\begin{enumerate*}\n",
       "\\item 2.76856285896928\n",
       "\\item 0\n",
       "\\item 0\n",
       "\\item 0\n",
       "\\item 0\n",
       "\\item 0\n",
       "\\item 0\n",
       "\\item 0\n",
       "\\item 0\n",
       "\\item 1.83217112393134\n",
       "\\end{enumerate*}\n"
      ],
      "text/markdown": [
       "1. 2.76856285896928\n",
       "2. 0\n",
       "3. 0\n",
       "4. 0\n",
       "5. 0\n",
       "6. 0\n",
       "7. 0\n",
       "8. 0\n",
       "9. 0\n",
       "10. 1.83217112393134\n",
       "\n",
       "\n"
      ],
      "text/plain": [
       " [1] 2.768563 0.000000 0.000000 0.000000 0.000000 0.000000 0.000000 0.000000\n",
       " [9] 0.000000 1.832171"
      ]
     },
     "metadata": {},
     "output_type": "display_data"
    }
   ],
   "source": [
    "#b\n",
    "rss = rep(0, 10)\n",
    "for (i in range(1:10)) {\n",
    "    lm.fit = lm(nox ~ poly(dis, i), data = Boston)\n",
    "    rss[i] = sum(lm.fit$residuals^2)\n",
    "}\n",
    "rss"
   ]
  },
  {
   "cell_type": "code",
   "execution_count": 113,
   "id": "a4b788f8",
   "metadata": {},
   "outputs": [
    {
     "data": {
      "text/html": [
       "<style>\n",
       ".list-inline {list-style: none; margin:0; padding: 0}\n",
       ".list-inline>li {display: inline-block}\n",
       ".list-inline>li:not(:last-child)::after {content: \"\\00b7\"; padding: 0 .5ex}\n",
       "</style>\n",
       "<ol class=list-inline><li>0.00551711819636324</li><li>0.00551471989196306</li></ol>\n"
      ],
      "text/latex": [
       "\\begin{enumerate*}\n",
       "\\item 0.00551711819636324\n",
       "\\item 0.00551471989196306\n",
       "\\end{enumerate*}\n"
      ],
      "text/markdown": [
       "1. 0.00551711819636324\n",
       "2. 0.00551471989196306\n",
       "\n",
       "\n"
      ],
      "text/plain": [
       "[1] 0.005517118 0.005514720"
      ]
     },
     "metadata": {},
     "output_type": "display_data"
    },
    {
     "data": {
      "text/html": [
       "<style>\n",
       ".list-inline {list-style: none; margin:0; padding: 0}\n",
       ".list-inline>li {display: inline-block}\n",
       ".list-inline>li:not(:last-child)::after {content: \"\\00b7\"; padding: 0 .5ex}\n",
       "</style>\n",
       "<ol class=list-inline><li>0.00406548037897323</li><li>0.00406314303770364</li></ol>\n"
      ],
      "text/latex": [
       "\\begin{enumerate*}\n",
       "\\item 0.00406548037897323\n",
       "\\item 0.00406314303770364\n",
       "\\end{enumerate*}\n"
      ],
      "text/markdown": [
       "1. 0.00406548037897323\n",
       "2. 0.00406314303770364\n",
       "\n",
       "\n"
      ],
      "text/plain": [
       "[1] 0.004065480 0.004063143"
      ]
     },
     "metadata": {},
     "output_type": "display_data"
    },
    {
     "data": {
      "text/html": [
       "<style>\n",
       ".list-inline {list-style: none; margin:0; padding: 0}\n",
       ".list-inline>li {display: inline-block}\n",
       ".list-inline>li:not(:last-child)::after {content: \"\\00b7\"; padding: 0 .5ex}\n",
       "</style>\n",
       "<ol class=list-inline><li>0.00387708989284502</li><li>0.00387399472149891</li></ol>\n"
      ],
      "text/latex": [
       "\\begin{enumerate*}\n",
       "\\item 0.00387708989284502\n",
       "\\item 0.00387399472149891\n",
       "\\end{enumerate*}\n"
      ],
      "text/markdown": [
       "1. 0.00387708989284502\n",
       "2. 0.00387399472149891\n",
       "\n",
       "\n"
      ],
      "text/plain": [
       "[1] 0.003877090 0.003873995"
      ]
     },
     "metadata": {},
     "output_type": "display_data"
    },
    {
     "data": {
      "text/html": [
       "<style>\n",
       ".list-inline {list-style: none; margin:0; padding: 0}\n",
       ".list-inline>li {display: inline-block}\n",
       ".list-inline>li:not(:last-child)::after {content: \"\\00b7\"; padding: 0 .5ex}\n",
       "</style>\n",
       "<ol class=list-inline><li>0.00386756106108056</li><li>0.00386468548654617</li></ol>\n"
      ],
      "text/latex": [
       "\\begin{enumerate*}\n",
       "\\item 0.00386756106108056\n",
       "\\item 0.00386468548654617\n",
       "\\end{enumerate*}\n"
      ],
      "text/markdown": [
       "1. 0.00386756106108056\n",
       "2. 0.00386468548654617\n",
       "\n",
       "\n"
      ],
      "text/plain": [
       "[1] 0.003867561 0.003864685"
      ]
     },
     "metadata": {},
     "output_type": "display_data"
    },
    {
     "data": {
      "text/html": [
       "<style>\n",
       ".list-inline {list-style: none; margin:0; padding: 0}\n",
       ".list-inline>li {display: inline-block}\n",
       ".list-inline>li:not(:last-child)::after {content: \"\\00b7\"; padding: 0 .5ex}\n",
       "</style>\n",
       "<ol class=list-inline><li>0.00404719911291361</li><li>0.00402538670648798</li></ol>\n"
      ],
      "text/latex": [
       "\\begin{enumerate*}\n",
       "\\item 0.00404719911291361\n",
       "\\item 0.00402538670648798\n",
       "\\end{enumerate*}\n"
      ],
      "text/markdown": [
       "1. 0.00404719911291361\n",
       "2. 0.00402538670648798\n",
       "\n",
       "\n"
      ],
      "text/plain": [
       "[1] 0.004047199 0.004025387"
      ]
     },
     "metadata": {},
     "output_type": "display_data"
    },
    {
     "data": {
      "text/html": [
       "<style>\n",
       ".list-inline {list-style: none; margin:0; padding: 0}\n",
       ".list-inline>li {display: inline-block}\n",
       ".list-inline>li:not(:last-child)::after {content: \"\\00b7\"; padding: 0 .5ex}\n",
       "</style>\n",
       "<ol class=list-inline><li>0.00539963816782996</li><li>0.00523490083153864</li></ol>\n"
      ],
      "text/latex": [
       "\\begin{enumerate*}\n",
       "\\item 0.00539963816782996\n",
       "\\item 0.00523490083153864\n",
       "\\end{enumerate*}\n"
      ],
      "text/markdown": [
       "1. 0.00539963816782996\n",
       "2. 0.00523490083153864\n",
       "\n",
       "\n"
      ],
      "text/plain": [
       "[1] 0.005399638 0.005234901"
      ]
     },
     "metadata": {},
     "output_type": "display_data"
    },
    {
     "data": {
      "text/html": [
       "<style>\n",
       ".list-inline {list-style: none; margin:0; padding: 0}\n",
       ".list-inline>li {display: inline-block}\n",
       ".list-inline>li:not(:last-child)::after {content: \"\\00b7\"; padding: 0 .5ex}\n",
       "</style>\n",
       "<ol class=list-inline><li>0.0111293967617585</li><li>0.0103806567132711</li></ol>\n"
      ],
      "text/latex": [
       "\\begin{enumerate*}\n",
       "\\item 0.0111293967617585\n",
       "\\item 0.0103806567132711\n",
       "\\end{enumerate*}\n"
      ],
      "text/markdown": [
       "1. 0.0111293967617585\n",
       "2. 0.0103806567132711\n",
       "\n",
       "\n"
      ],
      "text/plain": [
       "[1] 0.01112940 0.01038066"
      ]
     },
     "metadata": {},
     "output_type": "display_data"
    }
   ],
   "source": [
    "#c\n",
    "#we select 4\n",
    "glm.fit = glm(nox ~ dis,data=Boston)\n",
    "cv.error= cv.glm(Boston, glm.fit, K=10)\n",
    "cv.error$delta\n",
    "\n",
    "glm.fit = glm(nox ~ poly(dis,2),data=Boston)\n",
    "cv.error= cv.glm(Boston, glm.fit, K=10)\n",
    "cv.error$delta\n",
    "\n",
    "\n",
    "glm.fit = glm(nox ~ poly(dis,3),data=Boston)\n",
    "cv.error= cv.glm(Boston, glm.fit, K=10)\n",
    "cv.error$delta\n",
    "\n",
    "\n",
    "glm.fit = glm(nox ~ poly(dis,4),data=Boston)\n",
    "cv.error= cv.glm(Boston, glm.fit, K=10)\n",
    "cv.error$delta\n",
    "\n",
    "glm.fit = glm(nox ~ poly(dis,5),data=Boston)\n",
    "cv.error= cv.glm(Boston, glm.fit, K=10)\n",
    "cv.error$delta\n",
    "\n",
    "glm.fit = glm(nox ~ poly(dis,6),data=Boston)\n",
    "cv.error= cv.glm(Boston, glm.fit, K=10)\n",
    "cv.error$delta\n",
    "\n",
    "glm.fit = glm(nox ~ poly(dis,7),data=Boston)\n",
    "cv.error= cv.glm(Boston, glm.fit, K=10)\n",
    "cv.error$delta"
   ]
  },
  {
   "cell_type": "code",
   "execution_count": 115,
   "id": "aba629e1",
   "metadata": {},
   "outputs": [
    {
     "data": {
      "text/plain": [
       "\n",
       "Call:\n",
       "lm(formula = nox ~ bs(dis, df = 4), data = Boston)\n",
       "\n",
       "Residuals:\n",
       "      Min        1Q    Median        3Q       Max \n",
       "-0.124622 -0.039259 -0.008514  0.020850  0.193891 \n",
       "\n",
       "Coefficients:\n",
       "                 Estimate Std. Error t value Pr(>|t|)    \n",
       "(Intercept)       0.73447    0.01460  50.306  < 2e-16 ***\n",
       "bs(dis, df = 4)1 -0.05810    0.02186  -2.658  0.00812 ** \n",
       "bs(dis, df = 4)2 -0.46356    0.02366 -19.596  < 2e-16 ***\n",
       "bs(dis, df = 4)3 -0.19979    0.04311  -4.634 4.58e-06 ***\n",
       "bs(dis, df = 4)4 -0.38881    0.04551  -8.544  < 2e-16 ***\n",
       "---\n",
       "Signif. codes:  0 '***' 0.001 '**' 0.01 '*' 0.05 '.' 0.1 ' ' 1\n",
       "\n",
       "Residual standard error: 0.06195 on 501 degrees of freedom\n",
       "Multiple R-squared:  0.7164,\tAdjusted R-squared:  0.7142 \n",
       "F-statistic: 316.5 on 4 and 501 DF,  p-value: < 2.2e-16\n"
      ]
     },
     "metadata": {},
     "output_type": "display_data"
    }
   ],
   "source": [
    "#d\n",
    "library(splines)\n",
    "spl.fit = lm(nox~bs(dis,df=4), data=Boston)\n",
    "summary(spl.fit)"
   ]
  },
  {
   "cell_type": "code",
   "execution_count": 116,
   "id": "5b8548db",
   "metadata": {},
   "outputs": [
    {
     "data": {
      "image/png": "[encoded data removed]",
      "text/plain": [
       "plot without title"
      ]
     },
     "metadata": {
      "image/png": {
       "height": 420,
       "width": 420
      }
     },
     "output_type": "display_data"
    }
   ],
   "source": [
    "spl.predict = predict(spl.fit, list(dis=dis.grid))\n",
    "plot(nox~dis, data= Boston)\n",
    "lines(dis.grid, spl.predict, lwd=3)\n",
    "#knots are choosen automaticaly when we use the df="
   ]
  },
  {
   "cell_type": "code",
   "execution_count": 117,
   "id": "0a588e43",
   "metadata": {},
   "outputs": [
    {
     "data": {
      "text/html": [
       "<style>\n",
       ".list-inline {list-style: none; margin:0; padding: 0}\n",
       ".list-inline>li {display: inline-block}\n",
       ".list-inline>li:not(:last-child)::after {content: \"\\00b7\"; padding: 0 .5ex}\n",
       "</style>\n",
       "<ol class=list-inline><li>0</li><li>0</li><li>1.93410670717907</li><li>0</li><li>0</li><li>0</li><li>0</li><li>0</li><li>0</li><li>0</li><li>0</li><li>0</li><li>0</li><li>0</li><li>0</li><li>1.78354576630177</li></ol>\n"
      ],
      "text/latex": [
       "\\begin{enumerate*}\n",
       "\\item 0\n",
       "\\item 0\n",
       "\\item 1.93410670717907\n",
       "\\item 0\n",
       "\\item 0\n",
       "\\item 0\n",
       "\\item 0\n",
       "\\item 0\n",
       "\\item 0\n",
       "\\item 0\n",
       "\\item 0\n",
       "\\item 0\n",
       "\\item 0\n",
       "\\item 0\n",
       "\\item 0\n",
       "\\item 1.78354576630177\n",
       "\\end{enumerate*}\n"
      ],
      "text/markdown": [
       "1. 0\n",
       "2. 0\n",
       "3. 1.93410670717907\n",
       "4. 0\n",
       "5. 0\n",
       "6. 0\n",
       "7. 0\n",
       "8. 0\n",
       "9. 0\n",
       "10. 0\n",
       "11. 0\n",
       "12. 0\n",
       "13. 0\n",
       "14. 0\n",
       "15. 0\n",
       "16. 1.78354576630177\n",
       "\n",
       "\n"
      ],
      "text/plain": [
       " [1] 0.000000 0.000000 1.934107 0.000000 0.000000 0.000000 0.000000 0.000000\n",
       " [9] 0.000000 0.000000 0.000000 0.000000 0.000000 0.000000 0.000000 1.783546"
      ]
     },
     "metadata": {},
     "output_type": "display_data"
    }
   ],
   "source": [
    "#e)\n",
    "rss = rep(0, 16)\n",
    "for (i in range(3:16)) {\n",
    "    lm.fit = lm(nox ~ bs(dis, df=i), data = Boston)\n",
    "    rss[i] = sum(lm.fit$residuals^2)\n",
    "}\n",
    "rss"
   ]
  },
  {
   "cell_type": "code",
   "execution_count": 121,
   "id": "79cbc5d1",
   "metadata": {},
   "outputs": [
    {
     "data": {
      "text/html": [
       "<style>\n",
       ".list-inline {list-style: none; margin:0; padding: 0}\n",
       ".list-inline>li {display: inline-block}\n",
       ".list-inline>li:not(:last-child)::after {content: \"\\00b7\"; padding: 0 .5ex}\n",
       "</style>\n",
       "<ol class=list-inline><li>&lt;NA&gt;</li><li>&lt;NA&gt;</li><li>1.93410670717907</li><li>&lt;NA&gt;</li><li>&lt;NA&gt;</li><li>&lt;NA&gt;</li><li>&lt;NA&gt;</li><li>&lt;NA&gt;</li><li>&lt;NA&gt;</li><li>&lt;NA&gt;</li><li>&lt;NA&gt;</li><li>&lt;NA&gt;</li><li>&lt;NA&gt;</li><li>&lt;NA&gt;</li><li>&lt;NA&gt;</li><li>1.78354576630177</li></ol>\n"
      ],
      "text/latex": [
       "\\begin{enumerate*}\n",
       "\\item <NA>\n",
       "\\item <NA>\n",
       "\\item 1.93410670717907\n",
       "\\item <NA>\n",
       "\\item <NA>\n",
       "\\item <NA>\n",
       "\\item <NA>\n",
       "\\item <NA>\n",
       "\\item <NA>\n",
       "\\item <NA>\n",
       "\\item <NA>\n",
       "\\item <NA>\n",
       "\\item <NA>\n",
       "\\item <NA>\n",
       "\\item <NA>\n",
       "\\item 1.78354576630177\n",
       "\\end{enumerate*}\n"
      ],
      "text/markdown": [
       "1. &lt;NA&gt;\n",
       "2. &lt;NA&gt;\n",
       "3. 1.93410670717907\n",
       "4. &lt;NA&gt;\n",
       "5. &lt;NA&gt;\n",
       "6. &lt;NA&gt;\n",
       "7. &lt;NA&gt;\n",
       "8. &lt;NA&gt;\n",
       "9. &lt;NA&gt;\n",
       "10. &lt;NA&gt;\n",
       "11. &lt;NA&gt;\n",
       "12. &lt;NA&gt;\n",
       "13. &lt;NA&gt;\n",
       "14. &lt;NA&gt;\n",
       "15. &lt;NA&gt;\n",
       "16. 1.78354576630177\n",
       "\n",
       "\n"
      ],
      "text/plain": [
       " [1]       NA       NA 1.934107       NA       NA       NA       NA       NA\n",
       " [9]       NA       NA       NA       NA       NA       NA       NA 1.783546"
      ]
     },
     "metadata": {},
     "output_type": "display_data"
    }
   ],
   "source": [
    "#f)\n",
    "rss = rep(NA, 16)\n",
    "for (i in range(3:16)) {\n",
    "    glm.fit = glm(nox ~ bs(dis, df=i), data = Boston)\n",
    "    rss[i] = sum(glm.fit$residuals^2)\n",
    "}\n",
    "rss\n"
   ]
  },
  {
   "cell_type": "code",
   "execution_count": 122,
   "id": "7eb58b98",
   "metadata": {},
   "outputs": [],
   "source": [
    "#ex7.10\n",
    "#a)\n",
    "set.seed(101)\n",
    "sample = sample.split(College, SplitRatio = .75)\n",
    "train = subset(College, sample == TRUE)\n",
    "test = subset(College, sample == FALSE)\n"
   ]
  },
  {
   "cell_type": "code",
   "execution_count": 133,
   "id": "32bd53d5",
   "metadata": {},
   "outputs": [
    {
     "data": {
      "text/plain": [
       "Subset selection object\n",
       "Call: regsubsets.formula(Outstate ~ ., data = train, nvmax = 17, method = \"forward\")\n",
       "17 Variables  (and intercept)\n",
       "            Forced in Forced out\n",
       "PrivateYes      FALSE      FALSE\n",
       "Apps            FALSE      FALSE\n",
       "Accept          FALSE      FALSE\n",
       "Enroll          FALSE      FALSE\n",
       "Top10perc       FALSE      FALSE\n",
       "Top25perc       FALSE      FALSE\n",
       "F.Undergrad     FALSE      FALSE\n",
       "P.Undergrad     FALSE      FALSE\n",
       "Room.Board      FALSE      FALSE\n",
       "Books           FALSE      FALSE\n",
       "Personal        FALSE      FALSE\n",
       "PhD             FALSE      FALSE\n",
       "Terminal        FALSE      FALSE\n",
       "S.F.Ratio       FALSE      FALSE\n",
       "perc.alumni     FALSE      FALSE\n",
       "Expend          FALSE      FALSE\n",
       "Grad.Rate       FALSE      FALSE\n",
       "1 subsets of each size up to 17\n",
       "Selection Algorithm: forward\n",
       "          PrivateYes Apps Accept Enroll Top10perc Top25perc F.Undergrad\n",
       "1  ( 1 )  \" \"        \" \"  \" \"    \" \"    \" \"       \" \"       \" \"        \n",
       "2  ( 1 )  \"*\"        \" \"  \" \"    \" \"    \" \"       \" \"       \" \"        \n",
       "3  ( 1 )  \"*\"        \" \"  \" \"    \" \"    \" \"       \" \"       \" \"        \n",
       "4  ( 1 )  \"*\"        \" \"  \" \"    \" \"    \" \"       \" \"       \" \"        \n",
       "5  ( 1 )  \"*\"        \" \"  \" \"    \" \"    \" \"       \" \"       \" \"        \n",
       "6  ( 1 )  \"*\"        \" \"  \" \"    \" \"    \" \"       \" \"       \" \"        \n",
       "7  ( 1 )  \"*\"        \" \"  \" \"    \" \"    \" \"       \" \"       \" \"        \n",
       "8  ( 1 )  \"*\"        \" \"  \" \"    \" \"    \" \"       \" \"       \" \"        \n",
       "9  ( 1 )  \"*\"        \" \"  \" \"    \" \"    \" \"       \" \"       \" \"        \n",
       "10  ( 1 ) \"*\"        \" \"  \"*\"    \" \"    \" \"       \" \"       \" \"        \n",
       "11  ( 1 ) \"*\"        \" \"  \"*\"    \" \"    \" \"       \" \"       \"*\"        \n",
       "12  ( 1 ) \"*\"        \"*\"  \"*\"    \" \"    \" \"       \" \"       \"*\"        \n",
       "13  ( 1 ) \"*\"        \"*\"  \"*\"    \" \"    \"*\"       \" \"       \"*\"        \n",
       "14  ( 1 ) \"*\"        \"*\"  \"*\"    \" \"    \"*\"       \" \"       \"*\"        \n",
       "15  ( 1 ) \"*\"        \"*\"  \"*\"    \"*\"    \"*\"       \" \"       \"*\"        \n",
       "16  ( 1 ) \"*\"        \"*\"  \"*\"    \"*\"    \"*\"       \"*\"       \"*\"        \n",
       "17  ( 1 ) \"*\"        \"*\"  \"*\"    \"*\"    \"*\"       \"*\"       \"*\"        \n",
       "          P.Undergrad Room.Board Books Personal PhD Terminal S.F.Ratio\n",
       "1  ( 1 )  \" \"         \" \"        \" \"   \" \"      \" \" \" \"      \" \"      \n",
       "2  ( 1 )  \" \"         \" \"        \" \"   \" \"      \" \" \" \"      \" \"      \n",
       "3  ( 1 )  \" \"         \"*\"        \" \"   \" \"      \" \" \" \"      \" \"      \n",
       "4  ( 1 )  \" \"         \"*\"        \" \"   \" \"      \" \" \"*\"      \" \"      \n",
       "5  ( 1 )  \" \"         \"*\"        \" \"   \" \"      \" \" \"*\"      \" \"      \n",
       "6  ( 1 )  \" \"         \"*\"        \" \"   \" \"      \" \" \"*\"      \" \"      \n",
       "7  ( 1 )  \" \"         \"*\"        \" \"   \" \"      \" \" \"*\"      \"*\"      \n",
       "8  ( 1 )  \" \"         \"*\"        \" \"   \"*\"      \" \" \"*\"      \"*\"      \n",
       "9  ( 1 )  \" \"         \"*\"        \" \"   \"*\"      \"*\" \"*\"      \"*\"      \n",
       "10  ( 1 ) \" \"         \"*\"        \" \"   \"*\"      \"*\" \"*\"      \"*\"      \n",
       "11  ( 1 ) \" \"         \"*\"        \" \"   \"*\"      \"*\" \"*\"      \"*\"      \n",
       "12  ( 1 ) \" \"         \"*\"        \" \"   \"*\"      \"*\" \"*\"      \"*\"      \n",
       "13  ( 1 ) \" \"         \"*\"        \" \"   \"*\"      \"*\" \"*\"      \"*\"      \n",
       "14  ( 1 ) \" \"         \"*\"        \"*\"   \"*\"      \"*\" \"*\"      \"*\"      \n",
       "15  ( 1 ) \" \"         \"*\"        \"*\"   \"*\"      \"*\" \"*\"      \"*\"      \n",
       "16  ( 1 ) \" \"         \"*\"        \"*\"   \"*\"      \"*\" \"*\"      \"*\"      \n",
       "17  ( 1 ) \"*\"         \"*\"        \"*\"   \"*\"      \"*\" \"*\"      \"*\"      \n",
       "          perc.alumni Expend Grad.Rate\n",
       "1  ( 1 )  \" \"         \"*\"    \" \"      \n",
       "2  ( 1 )  \" \"         \"*\"    \" \"      \n",
       "3  ( 1 )  \" \"         \"*\"    \" \"      \n",
       "4  ( 1 )  \" \"         \"*\"    \" \"      \n",
       "5  ( 1 )  \" \"         \"*\"    \"*\"      \n",
       "6  ( 1 )  \"*\"         \"*\"    \"*\"      \n",
       "7  ( 1 )  \"*\"         \"*\"    \"*\"      \n",
       "8  ( 1 )  \"*\"         \"*\"    \"*\"      \n",
       "9  ( 1 )  \"*\"         \"*\"    \"*\"      \n",
       "10  ( 1 ) \"*\"         \"*\"    \"*\"      \n",
       "11  ( 1 ) \"*\"         \"*\"    \"*\"      \n",
       "12  ( 1 ) \"*\"         \"*\"    \"*\"      \n",
       "13  ( 1 ) \"*\"         \"*\"    \"*\"      \n",
       "14  ( 1 ) \"*\"         \"*\"    \"*\"      \n",
       "15  ( 1 ) \"*\"         \"*\"    \"*\"      \n",
       "16  ( 1 ) \"*\"         \"*\"    \"*\"      \n",
       "17  ( 1 ) \"*\"         \"*\"    \"*\"      "
      ]
     },
     "metadata": {},
     "output_type": "display_data"
    },
    {
     "data": {
      "text/html": [
       "13"
      ],
      "text/latex": [
       "13"
      ],
      "text/markdown": [
       "13"
      ],
      "text/plain": [
       "[1] 13"
      ]
     },
     "metadata": {},
     "output_type": "display_data"
    },
    {
     "data": {
      "text/html": [
       "<style>\n",
       ".dl-inline {width: auto; margin:0; padding: 0}\n",
       ".dl-inline>dt, .dl-inline>dd {float: none; width: auto; display: inline-block}\n",
       ".dl-inline>dt::after {content: \":\\0020\"; padding-right: .5ex}\n",
       ".dl-inline>dt:not(:first-of-type) {padding-left: .5ex}\n",
       "</style><dl class=dl-inline><dt>(Intercept)</dt><dd>-1430.51394540802</dd><dt>PrivateYes</dt><dd>2264.23014420792</dd><dt>Apps</dt><dd>-0.336437125153978</dd><dt>Accept</dt><dd>0.838660191994836</dd><dt>Top10perc</dt><dd>26.4729109630191</dd><dt>F.Undergrad</dt><dd>-0.208490764103146</dd><dt>Room.Board</dt><dd>0.819128894866116</dd><dt>Personal</dt><dd>-0.245822396881935</dd><dt>PhD</dt><dd>13.7271524462323</dd><dt>Terminal</dt><dd>32.0966631044733</dd><dt>S.F.Ratio</dt><dd>-75.1416744541861</dd><dt>perc.alumni</dt><dd>32.9443390264178</dd><dt>Expend</dt><dd>0.183083499947669</dd><dt>Grad.Rate</dt><dd>20.3105275935828</dd></dl>\n"
      ],
      "text/latex": [
       "\\begin{description*}\n",
       "\\item[(Intercept)] -1430.51394540802\n",
       "\\item[PrivateYes] 2264.23014420792\n",
       "\\item[Apps] -0.336437125153978\n",
       "\\item[Accept] 0.838660191994836\n",
       "\\item[Top10perc] 26.4729109630191\n",
       "\\item[F.Undergrad] -0.208490764103146\n",
       "\\item[Room.Board] 0.819128894866116\n",
       "\\item[Personal] -0.245822396881935\n",
       "\\item[PhD] 13.7271524462323\n",
       "\\item[Terminal] 32.0966631044733\n",
       "\\item[S.F.Ratio] -75.1416744541861\n",
       "\\item[perc.alumni] 32.9443390264178\n",
       "\\item[Expend] 0.183083499947669\n",
       "\\item[Grad.Rate] 20.3105275935828\n",
       "\\end{description*}\n"
      ],
      "text/markdown": [
       "(Intercept)\n",
       ":   -1430.51394540802PrivateYes\n",
       ":   2264.23014420792Apps\n",
       ":   -0.336437125153978Accept\n",
       ":   0.838660191994836Top10perc\n",
       ":   26.4729109630191F.Undergrad\n",
       ":   -0.208490764103146Room.Board\n",
       ":   0.819128894866116Personal\n",
       ":   -0.245822396881935PhD\n",
       ":   13.7271524462323Terminal\n",
       ":   32.0966631044733S.F.Ratio\n",
       ":   -75.1416744541861perc.alumni\n",
       ":   32.9443390264178Expend\n",
       ":   0.183083499947669Grad.Rate\n",
       ":   20.3105275935828\n",
       "\n"
      ],
      "text/plain": [
       "  (Intercept)    PrivateYes          Apps        Accept     Top10perc \n",
       "-1430.5139454  2264.2301442    -0.3364371     0.8386602    26.4729110 \n",
       "  F.Undergrad    Room.Board      Personal           PhD      Terminal \n",
       "   -0.2084908     0.8191289    -0.2458224    13.7271524    32.0966631 \n",
       "    S.F.Ratio   perc.alumni        Expend     Grad.Rate \n",
       "  -75.1416745    32.9443390     0.1830835    20.3105276 "
      ]
     },
     "metadata": {},
     "output_type": "display_data"
    }
   ],
   "source": [
    "library(leaps)\n",
    "fsw.fit = regsubsets(Outstate~.,data= train, nvmax=17, method=\"forward\")\n",
    "summary(fsw.fit)\n",
    "which.max(summary(fsw.fit)$adjr2)\n",
    "coef(fsw.fit,13)"
   ]
  },
  {
   "cell_type": "code",
   "execution_count": 134,
   "id": "f9553f77",
   "metadata": {},
   "outputs": [
    {
     "data": {
      "text/html": [
       "<style>\n",
       ".list-inline {list-style: none; margin:0; padding: 0}\n",
       ".list-inline>li {display: inline-block}\n",
       ".list-inline>li:not(:last-child)::after {content: \"\\00b7\"; padding: 0 .5ex}\n",
       "</style>\n",
       "<ol class=list-inline><li>'(Intercept)'</li><li>'PrivateYes'</li><li>'Apps'</li><li>'Accept'</li><li>'Top10perc'</li><li>'F.Undergrad'</li><li>'Room.Board'</li><li>'Personal'</li><li>'PhD'</li><li>'Terminal'</li><li>'S.F.Ratio'</li><li>'perc.alumni'</li><li>'Expend'</li><li>'Grad.Rate'</li></ol>\n"
      ],
      "text/latex": [
       "\\begin{enumerate*}\n",
       "\\item '(Intercept)'\n",
       "\\item 'PrivateYes'\n",
       "\\item 'Apps'\n",
       "\\item 'Accept'\n",
       "\\item 'Top10perc'\n",
       "\\item 'F.Undergrad'\n",
       "\\item 'Room.Board'\n",
       "\\item 'Personal'\n",
       "\\item 'PhD'\n",
       "\\item 'Terminal'\n",
       "\\item 'S.F.Ratio'\n",
       "\\item 'perc.alumni'\n",
       "\\item 'Expend'\n",
       "\\item 'Grad.Rate'\n",
       "\\end{enumerate*}\n"
      ],
      "text/markdown": [
       "1. '(Intercept)'\n",
       "2. 'PrivateYes'\n",
       "3. 'Apps'\n",
       "4. 'Accept'\n",
       "5. 'Top10perc'\n",
       "6. 'F.Undergrad'\n",
       "7. 'Room.Board'\n",
       "8. 'Personal'\n",
       "9. 'PhD'\n",
       "10. 'Terminal'\n",
       "11. 'S.F.Ratio'\n",
       "12. 'perc.alumni'\n",
       "13. 'Expend'\n",
       "14. 'Grad.Rate'\n",
       "\n",
       "\n"
      ],
      "text/plain": [
       " [1] \"(Intercept)\" \"PrivateYes\"  \"Apps\"        \"Accept\"      \"Top10perc\"  \n",
       " [6] \"F.Undergrad\" \"Room.Board\"  \"Personal\"    \"PhD\"         \"Terminal\"   \n",
       "[11] \"S.F.Ratio\"   \"perc.alumni\" \"Expend\"      \"Grad.Rate\"  "
      ]
     },
     "metadata": {},
     "output_type": "display_data"
    }
   ],
   "source": [
    "names(coef(fsw.fit,13))"
   ]
  },
  {
   "cell_type": "code",
   "execution_count": 141,
   "id": "c3aa191f",
   "metadata": {},
   "outputs": [],
   "source": [
    "library(gam)\n",
    "gam.model = gam(Outstate ~ Private  +s(Apps,4)+s(Accept,4)+s(Top10perc,4)+s(F.Undergrad,2)+\n",
    "           s(Room.Board,4)+s(Personal,4)+ s(PhD,4)+s(Terminal,4)+s(S.F.Ratio,4)+s(perc.alumni)+s(Expend,4)+s(Grad.Rate,4),data= train   )"
   ]
  },
  {
   "cell_type": "code",
   "execution_count": 143,
   "id": "b5974c7f",
   "metadata": {},
   "outputs": [
    {
     "data": {
      "image/png": "[encoded data removed]",
      "text/plain": [
       "plot without title"
      ]
     },
     "metadata": {
      "image/png": {
       "height": 420,
       "width": 420
      }
     },
     "output_type": "display_data"
    },
    {
     "data": {
      "image/png": "[encoded data removed]",
      "text/plain": [
       "plot without title"
      ]
     },
     "metadata": {
      "image/png": {
       "height": 420,
       "width": 420
      }
     },
     "output_type": "display_data"
    },
    {
     "data": {
      "image/png": "[encoded data removed]",
      "text/plain": [
       "plot without title"
      ]
     },
     "metadata": {
      "image/png": {
       "height": 420,
       "width": 420
      }
     },
     "output_type": "display_data"
    },
    {
     "data": {
      "image/png": "[encoded data removed]",
      "text/plain": [
       "plot without title"
      ]
     },
     "metadata": {
      "image/png": {
       "height": 420,
       "width": 420
      }
     },
     "output_type": "display_data"
    },
    {
     "data": {
      "image/png": "[encoded data removed]",
      "text/plain": [
       "plot without title"
      ]
     },
     "metadata": {
      "image/png": {
       "height": 420,
       "width": 420
      }
     },
     "output_type": "display_data"
    },
    {
     "data": {
      "image/png": "[encoded data removed]",
      "text/plain": [
       "plot without title"
      ]
     },
     "metadata": {
      "image/png": {
       "height": 420,
       "width": 420
      }
     },
     "output_type": "display_data"
    },
    {
     "data": {
      "image/png": "[encoded data removed]",
      "text/plain": [
       "plot without title"
      ]
     },
     "metadata": {
      "image/png": {
       "height": 420,
       "width": 420
      }
     },
     "output_type": "display_data"
    },
    {
     "data": {
      "image/png": "[encoded data removed]",
      "text/plain": [
       "plot without title"
      ]
     },
     "metadata": {
      "image/png": {
       "height": 420,
       "width": 420
      }
     },
     "output_type": "display_data"
    },
    {
     "data": {
      "image/png": "[encoded data removed]",
      "text/plain": [
       "plot without title"
      ]
     },
     "metadata": {
      "image/png": {
       "height": 420,
       "width": 420
      }
     },
     "output_type": "display_data"
    },
    {
     "data": {
      "image/png": "[encoded data removed]",
      "text/plain": [
       "plot without title"
      ]
     },
     "metadata": {
      "image/png": {
       "height": 420,
       "width": 420
      }
     },
     "output_type": "display_data"
    },
    {
     "data": {
      "image/png": "[encoded data removed]",
      "text/plain": [
       "plot without title"
      ]
     },
     "metadata": {
      "image/png": {
       "height": 420,
       "width": 420
      }
     },
     "output_type": "display_data"
    },
    {
     "data": {
      "image/png": "[encoded data removed]",
      "text/plain": [
       "plot without title"
      ]
     },
     "metadata": {
      "image/png": {
       "height": 420,
       "width": 420
      }
     },
     "output_type": "display_data"
    },
    {
     "data": {
      "image/png": "[encoded data removed]",
      "text/plain": [
       "plot without title"
      ]
     },
     "metadata": {
      "image/png": {
       "height": 420,
       "width": 420
      }
     },
     "output_type": "display_data"
    }
   ],
   "source": [
    "plot(gam.model,se = T)"
   ]
  },
  {
   "cell_type": "code",
   "execution_count": 144,
   "id": "e044055c",
   "metadata": {},
   "outputs": [
    {
     "data": {
      "text/plain": [
       "\n",
       "Call: gam(formula = Outstate ~ Private + s(Apps, 4) + s(Accept, 4) + \n",
       "    s(Top10perc, 4) + s(F.Undergrad, 2) + s(Room.Board, 4) + \n",
       "    s(Personal, 4) + s(PhD, 4) + s(Terminal, 4) + s(S.F.Ratio, \n",
       "    4) + s(perc.alumni) + s(Expend, 4) + s(Grad.Rate, 4), data = train)\n",
       "Deviance Residuals:\n",
       "    Min      1Q  Median      3Q     Max \n",
       "-6234.4  -976.7   105.6  1050.8  7324.2 \n",
       "\n",
       "(Dispersion Parameter for gaussian family taken to be 3049833)\n",
       "\n",
       "    Null Deviance: 9627902319 on 560 degrees of freedom\n",
       "Residual Deviance: 1564564803 on 513.0002 degrees of freedom\n",
       "AIC: 10015.94 \n",
       "\n",
       "Number of Local Scoring Iterations: NA \n",
       "\n",
       "Anova for Parametric Effects\n",
       "                   Df     Sum Sq    Mean Sq F value    Pr(>F)    \n",
       "Private             1 2871152892 2871152892 941.413 < 2.2e-16 ***\n",
       "s(Apps, 4)          1  881408211  881408211 289.002 < 2.2e-16 ***\n",
       "s(Accept, 4)        1  128198333  128198333  42.035 2.110e-10 ***\n",
       "s(Top10perc, 4)     1  807711739  807711739 264.838 < 2.2e-16 ***\n",
       "s(F.Undergrad, 2)   1  406277695  406277695 133.213 < 2.2e-16 ***\n",
       "s(Room.Board, 4)    1  567103922  567103922 185.946 < 2.2e-16 ***\n",
       "s(Personal, 4)      1   17533616   17533616   5.749 0.0168541 *  \n",
       "s(PhD, 4)           1  112928529  112928529  37.028 2.281e-09 ***\n",
       "s(Terminal, 4)      1   42178898   42178898  13.830 0.0002222 ***\n",
       "s(S.F.Ratio, 4)     1  154092845  154092845  50.525 3.963e-12 ***\n",
       "s(perc.alumni)      1   77140503   77140503  25.293 6.819e-07 ***\n",
       "s(Expend, 4)        1  407987911  407987911 133.774 < 2.2e-16 ***\n",
       "s(Grad.Rate, 4)     1   45351295   45351295  14.870 0.0001298 ***\n",
       "Residuals         513 1564564803    3049833                      \n",
       "---\n",
       "Signif. codes:  0 '***' 0.001 '**' 0.01 '*' 0.05 '.' 0.1 ' ' 1\n",
       "\n",
       "Anova for Nonparametric Effects\n",
       "                  Npar Df  Npar F     Pr(F)    \n",
       "(Intercept)                                    \n",
       "Private                                        \n",
       "s(Apps, 4)              3  4.3211 0.0050552 ** \n",
       "s(Accept, 4)            3  2.2227 0.0846147 .  \n",
       "s(Top10perc, 4)         3  0.5259 0.6646456    \n",
       "s(F.Undergrad, 2)       1  2.9146 0.0883869 .  \n",
       "s(Room.Board, 4)        3  0.8076 0.4900292    \n",
       "s(Personal, 4)          3  5.7610 0.0007017 ***\n",
       "s(PhD, 4)               3  2.5548 0.0546732 .  \n",
       "s(Terminal, 4)          3  1.3265 0.2649401    \n",
       "s(S.F.Ratio, 4)         3  7.3378 7.992e-05 ***\n",
       "s(perc.alumni)          3  1.4076 0.2396979    \n",
       "s(Expend, 4)            3 27.5091 2.220e-16 ***\n",
       "s(Grad.Rate, 4)         3  2.7564 0.0418441 *  \n",
       "---\n",
       "Signif. codes:  0 '***' 0.001 '**' 0.01 '*' 0.05 '.' 0.1 ' ' 1"
      ]
     },
     "metadata": {},
     "output_type": "display_data"
    }
   ],
   "source": [
    "#d)\n",
    "summary(gam.model)\n",
    "#there seems to be a strong non linear relationship between personal, ratio and expese with the response"
   ]
  }
 ],
 "metadata": {
  "kernelspec": {
   "display_name": "R",
   "language": "R",
   "name": "ir"
  },
  "language_info": {
   "codemirror_mode": "r",
   "file_extension": ".r",
   "mimetype": "text/x-r-source",
   "name": "R",
   "pygments_lexer": "r",
   "version": "4.0.5"
  }
 },
 "nbformat": 4,
 "nbformat_minor": 5
}
