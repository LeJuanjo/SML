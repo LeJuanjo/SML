{
 "cells": [
  {
   "cell_type": "code",
   "execution_count": null,
   "id": "8d23b731",
   "metadata": {},
   "outputs": [],
   "source": [
    "#Excersise 3 Chapter 8\n",
    "# Consider the Gini index, classification error, and entropy in a\n",
    "# simple classification setting with two classes. Create a single plot\n",
    "# that displays each of these quantities as a function of ˆpm1. The xaxis\n",
    "# should display ˆpm1, ranging from 0 to 1, and the y-axis should\n",
    "# display the value of the Gini index, classification error, and entropy.\n",
    "# Hint: In a setting with two classes, ˆpm1 = 1− ˆpm2. You could make\n",
    "# this plot by hand, but it will be much easier to make in R."
   ]
  },
  {
   "cell_type": "code",
   "execution_count": null,
   "id": "aa203e39",
   "metadata": {},
   "outputs": [],
   "source": [
    "#dont know how to do it :("
   ]
  },
  {
   "cell_type": "code",
   "execution_count": null,
   "id": "b29acf3a",
   "metadata": {},
   "outputs": [],
   "source": [
    "# Suppose we produce ten bootstrapped samples from a data set\n",
    "# containing red and green classes. We then apply a classification tree\n",
    "# to each bootstrapped sample and, for a specific value of X, produce\n",
    "# 10 estimates of P(Class is Red|X):\n",
    "# 0.1, 0.15, 0.2, 0.2, 0.55, 0.6, 0.6, 0.65, 0.7, and 0.75.\n",
    "# There are two common ways to combine these results together into a\n",
    "# single class prediction. One is the majority vote approach discussed in\n",
    "# this chapter. The second approach is to classify based on the average\n",
    "# probability. In this example, what is the final classification under each\n",
    "# of these two approaches?"
   ]
  },
  {
   "cell_type": "code",
   "execution_count": null,
   "id": "48d93877",
   "metadata": {},
   "outputs": [],
   "source": [
    "#Majority vote: \n",
    "p= c(0.1, 0.15, 0.2, 0.2, 0.55, 0.6, 0.6, 0.65, 0.7, 0.75)\n",
    "p<= 0.5\n",
    "p>= 0.5\n",
    "#the number of Trues on p<0.5 is 4 and p>0.5 is 6, therefore X is classified as RED\n"
   ]
  },
  {
   "cell_type": "code",
   "execution_count": null,
   "id": "846497d0",
   "metadata": {},
   "outputs": [],
   "source": [
    "#Average probability\n",
    "mean(p)\n",
    "#he mean of the probabilities is 0.45, therefore X is Clasified as GREEN"
   ]
  },
  {
   "cell_type": "code",
   "execution_count": null,
   "id": "61bfe3f9",
   "metadata": {},
   "outputs": [],
   "source": [
    "#Ex 7\n",
    "# In the lab, we applied random forests to the Boston data using mtry=6\n",
    "# and using ntree=25 and ntree=500. Create a plot displaying the test\n",
    "# error resulting from random forests on this data set for a more comprehensive\n",
    "# range of values for mtry and ntree. You can model your\n",
    "# plot after Figure 8.10. Describe the results obtained."
   ]
  },
  {
   "cell_type": "code",
   "execution_count": 1,
   "id": "8b5e184b",
   "metadata": {},
   "outputs": [
    {
     "name": "stderr",
     "output_type": "stream",
     "text": [
      "randomForest 4.6-14\n",
      "\n",
      "Type rfNews() to see new features/changes/bug fixes.\n",
      "\n"
     ]
    }
   ],
   "source": [
    "library(MASS)\n",
    "library(randomForest)\n",
    "data(Boston)\n",
    "\n",
    "smp_size <- floor(0.70 * nrow(Boston))\n",
    "set.seed(123)\n",
    "train_ind <- sample(seq_len(nrow(Boston)), size = smp_size)\n",
    "X.train <- Boston[train_ind,-14 ]\n",
    "X.test <- Boston[-train_ind,-14 ]\n",
    "Y.train <- Boston[train_ind,14 ]\n",
    "Y.test <- Boston[-train_ind,14 ] \n",
    "\n",
    "#https://stackoverflow.com/questions/17200114/how-to-split-data-into-training-testing-sets-using-sample-function"
   ]
  },
  {
   "cell_type": "code",
   "execution_count": 4,
   "id": "085fcb02",
   "metadata": {},
   "outputs": [],
   "source": [
    "rf1 = randomForest(X.train, Y.train, X.test, Y.test, mtry = 3, ntree = 750)\n",
    "rf2 = randomForest(X.train, Y.train, X.test, Y.test, mtry = 5, ntree = 750)\n",
    "rf3 = randomForest(X.train, Y.train, X.test, Y.test, mtry = 10, ntree = 750)\n",
    "\n"
   ]
  },
  {
   "cell_type": "code",
   "execution_count": 14,
   "id": "26c7e773",
   "metadata": {},
   "outputs": [
    {
     "ename": "ERROR",
     "evalue": "Error in legend(legend = c(\"3\", \"5\", \"10\")): argument \"x\" is missing, with no default\n",
     "output_type": "error",
     "traceback": [
      "Error in legend(legend = c(\"3\", \"5\", \"10\")): argument \"x\" is missing, with no default\nTraceback:\n",
      "1. legend(legend = c(\"3\", \"5\", \"10\"))"
     ]
    },
    {
     "data": {
      "image/png": "[encoded data removed]",
      "text/plain": [
       "plot without title"
      ]
     },
     "metadata": {
      "image/png": {
       "height": 420,
       "width": 420
      }
     },
     "output_type": "display_data"
    }
   ],
   "source": [
    "plot(1:750, rf1$test$mse, col = \"yellow\", type = \"l\", xlab = \"N Trees\", \n",
    "    ylab = \"MSE\", ylim = c(10, 20))\n",
    "lines(1:750, rf2$test$mse, col = \"blue\", type = \"l\")\n",
    "lines(1:750, rf3$test$mse, col = \"red\", type = \"l\")\n",
    "legend(legend=c(\"3\",\"5\",\"10\"))\n",
    "#the MSE is high while using few trees, and it suddenly drops after using more or less 80 trees\n",
    "# with a mtry value of 3 and 5 we got a lower MSE"
   ]
  },
  {
   "cell_type": "code",
   "execution_count": null,
   "id": "33468cb4",
   "metadata": {},
   "outputs": [],
   "source": [
    "#EX 9 \n",
    "# This problem involves the OJ data set which is part of the ISLR\n",
    "# package.\n",
    "# (a) Create a training set containing a random sample of 800 observations,\n",
    "# and a test set containing the remaining observations."
   ]
  },
  {
   "cell_type": "code",
   "execution_count": 17,
   "id": "3c7ad997",
   "metadata": {},
   "outputs": [
    {
     "name": "stderr",
     "output_type": "stream",
     "text": [
      "The following objects are masked from OJ (pos = 3):\n",
      "\n",
      "    DiscCH, DiscMM, ListPriceDiff, LoyalCH, PctDiscCH, PctDiscMM,\n",
      "    PriceCH, PriceDiff, PriceMM, Purchase, SalePriceCH, SalePriceMM,\n",
      "    SpecialCH, SpecialMM, STORE, Store7, StoreID, WeekofPurchase\n",
      "\n",
      "\n",
      "The following objects are masked from OJ (pos = 4):\n",
      "\n",
      "    DiscCH, DiscMM, ListPriceDiff, LoyalCH, PctDiscCH, PctDiscMM,\n",
      "    PriceCH, PriceDiff, PriceMM, Purchase, SalePriceCH, SalePriceMM,\n",
      "    SpecialCH, SpecialMM, STORE, Store7, StoreID, WeekofPurchase\n",
      "\n",
      "\n"
     ]
    }
   ],
   "source": [
    "library(ISLR)\n",
    "attach(OJ)\n",
    "set.seed(1013)\n",
    "train_ind <- sample(seq_len(nrow(OJ)), size = 800)\n",
    "X.train <- OJ[train_ind,]\n",
    "X.test <- OJ[-train_ind,]"
   ]
  },
  {
   "cell_type": "code",
   "execution_count": 19,
   "id": "ac506e2d",
   "metadata": {},
   "outputs": [
    {
     "data": {
      "text/plain": [
       "\n",
       "Classification tree:\n",
       "tree(formula = Purchase ~ ., data = X.train)\n",
       "Variables actually used in tree construction:\n",
       "[1] \"LoyalCH\"       \"PriceDiff\"     \"ListPriceDiff\" \"SalePriceMM\"  \n",
       "Number of terminal nodes:  7 \n",
       "Residual mean deviance:  0.7564 = 599.8 / 793 \n",
       "Misclassification error rate: 0.1612 = 129 / 800 "
      ]
     },
     "metadata": {},
     "output_type": "display_data"
    }
   ],
   "source": [
    "# (b) Fit a tree to the training data, with Purchase as the response\n",
    "# and the other variables as predictors. Use the summary() function\n",
    "# to produce summary statistics about the tree, and describe the\n",
    "# results obtained. What is the trainin\n",
    "library(tree)\n",
    "OJ_tree = tree(Purchase ~ ., data = X.train)\n",
    "summary(OJ_tree)\n",
    "# the tree uses 4 variablesm and has a error rate of 0.1612, and has 7 terminal nodes"
   ]
  },
  {
   "cell_type": "code",
   "execution_count": 20,
   "id": "e2f98801",
   "metadata": {},
   "outputs": [
    {
     "data": {
      "text/plain": [
       "node), split, n, deviance, yval, (yprob)\n",
       "      * denotes terminal node\n",
       "\n",
       " 1) root 800 1069.00 CH ( 0.61125 0.38875 )  \n",
       "   2) LoyalCH < 0.5036 344  407.30 MM ( 0.27907 0.72093 )  \n",
       "     4) LoyalCH < 0.276142 163  121.40 MM ( 0.12270 0.87730 ) *\n",
       "     5) LoyalCH > 0.276142 181  246.30 MM ( 0.41989 0.58011 )  \n",
       "      10) PriceDiff < 0.065 75   75.06 MM ( 0.20000 0.80000 ) *\n",
       "      11) PriceDiff > 0.065 106  144.50 CH ( 0.57547 0.42453 ) *\n",
       "   3) LoyalCH > 0.5036 456  366.30 CH ( 0.86184 0.13816 )  \n",
       "     6) LoyalCH < 0.753545 189  224.30 CH ( 0.71958 0.28042 )  \n",
       "      12) ListPriceDiff < 0.235 79  109.40 MM ( 0.48101 0.51899 )  \n",
       "        24) SalePriceMM < 1.64 22   20.86 MM ( 0.18182 0.81818 ) *\n",
       "        25) SalePriceMM > 1.64 57   76.88 CH ( 0.59649 0.40351 ) *\n",
       "      13) ListPriceDiff > 0.235 110   75.81 CH ( 0.89091 0.10909 ) *\n",
       "     7) LoyalCH > 0.753545 267   85.31 CH ( 0.96255 0.03745 ) *"
      ]
     },
     "metadata": {},
     "output_type": "display_data"
    }
   ],
   "source": [
    "# (c) Type in the name of the tree object in order to get a detailed\n",
    "# text output. Pick one of the terminal nodes, and interpret the\n",
    "# information displayed.\n",
    "OJ_tree\n",
    "#n25 ends in a branch, with a thereshold of salePrioceMM > 1.64 we have 57 \n",
    "#observations on this split, and the final prefiction is CH"
   ]
  },
  {
   "cell_type": "code",
   "execution_count": 21,
   "id": "70895a2d",
   "metadata": {},
   "outputs": [
    {
     "data": {
      "image/png": "[encoded data removed]",
      "text/plain": [
       "plot without title"
      ]
     },
     "metadata": {
      "image/png": {
       "height": 420,
       "width": 420
      }
     },
     "output_type": "display_data"
    }
   ],
   "source": [
    "# (d) Create a plot of the tree, and interpret the results.\n",
    "plot(OJ_tree)\n",
    "text(OJ_tree, pretty = 0)\n",
    "#LoyalCH is the most important feature, ig loyalCH <0.75 then the prediction is CH\n"
   ]
  },
  {
   "cell_type": "code",
   "execution_count": 23,
   "id": "856d0c1c",
   "metadata": {},
   "outputs": [
    {
     "data": {
      "text/plain": [
       "        \n",
       "predtree  CH  MM\n",
       "      CH 149  30\n",
       "      MM  15  76"
      ]
     },
     "metadata": {},
     "output_type": "display_data"
    }
   ],
   "source": [
    "# (e) Predict the response on the test data, and produce a confusion\n",
    "# matrix comparing the test labels to the predicted test labels.\n",
    "# What is the test error rate?\n",
    "predtree = predict(OJ_tree, newdata = X.test, type = \"class\")\n",
    "table(predtree,X.test$Purchase)\n",
    "#the error rate is 0.166666"
   ]
  },
  {
   "cell_type": "code",
   "execution_count": 25,
   "id": "651738c7",
   "metadata": {},
   "outputs": [
    {
     "data": {
      "text/plain": [
       "$size\n",
       "[1] 7 6 5 4 3 2 1\n",
       "\n",
       "$dev\n",
       "[1]  725.0241  715.2991  694.8085  759.0416  759.0416  762.3931 1072.7381\n",
       "\n",
       "$k\n",
       "[1]      -Inf  11.65858  26.66957  39.06970  39.73346  56.66284 295.48700\n",
       "\n",
       "$method\n",
       "[1] \"deviance\"\n",
       "\n",
       "attr(,\"class\")\n",
       "[1] \"prune\"         \"tree.sequence\""
      ]
     },
     "metadata": {},
     "output_type": "display_data"
    }
   ],
   "source": [
    "# (f) Apply the cv.tree() function to the training set in order to\n",
    "# determine the optimal tree size.\n",
    "cvtree = cv.tree(OJ_tree, FUN = prune.tree)\n",
    "cvtree"
   ]
  },
  {
   "cell_type": "code",
   "execution_count": 26,
   "id": "8ef90129",
   "metadata": {},
   "outputs": [
    {
     "data": {
      "image/png": "[encoded data removed]",
      "text/plain": [
       "plot without title"
      ]
     },
     "metadata": {
      "image/png": {
       "height": 420,
       "width": 420
      }
     },
     "output_type": "display_data"
    }
   ],
   "source": [
    "# (g) Produce a plot with tree size on the x-axis and cross-validated\n",
    "# classification error rate on the y-axis.\n",
    "plot(cvtree$size, cvtree$dev, xlab = \"size\", ylab = \"CV Error\", type = \"b\")"
   ]
  },
  {
   "cell_type": "code",
   "execution_count": null,
   "id": "1a4a2538",
   "metadata": {},
   "outputs": [],
   "source": [
    "# (h) Which tree size corresponds to the lowest cross-validated classification\n",
    "# error rate?\n",
    "The size of 5 has the lowerst error rate"
   ]
  },
  {
   "cell_type": "code",
   "execution_count": 28,
   "id": "36cf63fd",
   "metadata": {},
   "outputs": [
    {
     "data": {
      "text/plain": [
       "node), split, n, deviance, yval, (yprob)\n",
       "      * denotes terminal node\n",
       "\n",
       " 1) root 800 1069.00 CH ( 0.61125 0.38875 )  \n",
       "   2) LoyalCH < 0.5036 344  407.30 MM ( 0.27907 0.72093 )  \n",
       "     4) LoyalCH < 0.276142 163  121.40 MM ( 0.12270 0.87730 ) *\n",
       "     5) LoyalCH > 0.276142 181  246.30 MM ( 0.41989 0.58011 ) *\n",
       "   3) LoyalCH > 0.5036 456  366.30 CH ( 0.86184 0.13816 )  \n",
       "     6) LoyalCH < 0.753545 189  224.30 CH ( 0.71958 0.28042 )  \n",
       "      12) ListPriceDiff < 0.235 79  109.40 MM ( 0.48101 0.51899 ) *\n",
       "      13) ListPriceDiff > 0.235 110   75.81 CH ( 0.89091 0.10909 ) *\n",
       "     7) LoyalCH > 0.753545 267   85.31 CH ( 0.96255 0.03745 ) *"
      ]
     },
     "metadata": {},
     "output_type": "display_data"
    }
   ],
   "source": [
    "# (i) Produce a pruned tree corresponding to the optimal tree size\n",
    "# obtained using cross-validation. If cross-validation does not lead\n",
    "# to selection of a pruned tree, then create a pruned tree with five\n",
    "# terminal nodes.\n",
    "pruned = prune.tree(OJ_tree, best = 5)\n",
    "pruned"
   ]
  },
  {
   "cell_type": "code",
   "execution_count": 29,
   "id": "b3c56964",
   "metadata": {},
   "outputs": [
    {
     "data": {
      "text/plain": [
       "\n",
       "Classification tree:\n",
       "snip.tree(tree = OJ_tree, nodes = c(12L, 5L))\n",
       "Variables actually used in tree construction:\n",
       "[1] \"LoyalCH\"       \"ListPriceDiff\"\n",
       "Number of terminal nodes:  5 \n",
       "Residual mean deviance:  0.8027 = 638.1 / 795 \n",
       "Misclassification error rate: 0.195 = 156 / 800 "
      ]
     },
     "metadata": {},
     "output_type": "display_data"
    }
   ],
   "source": [
    "# (j) Compare the training error rates between the pruned and unpruned\n",
    "# trees. Which is higher?\n",
    "summary(pruned)\n",
    "#error is 0.195, which is higher"
   ]
  },
  {
   "cell_type": "code",
   "execution_count": 35,
   "id": "03290916",
   "metadata": {},
   "outputs": [
    {
     "data": {
      "text/plain": [
       "    \n",
       "prun  CH  MM\n",
       "  CH 149  30\n",
       "  MM  15  76"
      ]
     },
     "metadata": {},
     "output_type": "display_data"
    },
    {
     "data": {
      "text/plain": [
       "      \n",
       "unprun  CH  MM\n",
       "    CH 115  12\n",
       "    MM  49  94"
      ]
     },
     "metadata": {},
     "output_type": "display_data"
    }
   ],
   "source": [
    "# Compare the test error rates between the pruned and unpruned\n",
    "# trees. Which is higher?\n",
    "prun = predict(OJ_tree, newdata = X.test, type = \"class\")\n",
    "unprun = predict(pruned, newdata = X.test, type = \"class\")\n",
    "table(prun,X.test$Purchase)\n",
    "table(unprun,X.test$Purchase)\n",
    "#unpruned has a higher error rate"
   ]
  },
  {
   "cell_type": "code",
   "execution_count": 6,
   "id": "09a73daf",
   "metadata": {},
   "outputs": [
    {
     "data": {
      "text/html": [
       "0"
      ],
      "text/latex": [
       "0"
      ],
      "text/markdown": [
       "0"
      ],
      "text/plain": [
       "[1] 0"
      ]
     },
     "metadata": {},
     "output_type": "display_data"
    }
   ],
   "source": [
    "#ex10\n",
    "# 10. We now use boosting to predict Salary in the Hitters data set.\n",
    "# (a) Remove the observations for whom the salary information is\n",
    "# unknown, and then log-transform the salaries.\n",
    "library(ISLR)\n",
    "library(tidyr)\n",
    "Hitters = Hitters %>% drop_na(Salary)\n",
    "sum(is.na(Hitters$Salary))\n",
    "Hitters$Salary = log(Hitters$Salary) "
   ]
  },
  {
   "cell_type": "code",
   "execution_count": 7,
   "id": "3f7ddd36",
   "metadata": {},
   "outputs": [],
   "source": [
    "# (b) Create a training set consisting of the first 200 observations, and\n",
    "# a test set consisting of the remaining observations.\n",
    "sample = 1:200\n",
    "train = Hitters[sample, ]\n",
    "test = Hitters[-sample, ]"
   ]
  },
  {
   "cell_type": "code",
   "execution_count": 76,
   "id": "9a44aaac",
   "metadata": {},
   "outputs": [],
   "source": [
    "# (c) Perform boosting on the training set with 1,000 trees for a range\n",
    "# of values of the shrinkage parameter . Produce a plot with\n",
    "# different shrinkage values on the x-axis and the corresponding\n",
    "# training set MSE on the y-axis.\n",
    "library(gbm)\n",
    "lambdax = seq(0.00,0.5,0.01)\n",
    "train_mse = rep(NA,length(lambdax))\n",
    "test_mse = rep(NA,length(lambdax))\n",
    "set.seed(123)\n",
    "for (i in 1:length(lambdax)){\n",
    "    boost = gbm(Salary~., data=train,distribution = \"gaussian\", n.trees = 1000, shrinkage = lambdax[i])\n",
    "    train.pred = predict(boost,newdata=train, n.trees = 1000)\n",
    "    test.pred = predict(boost,newdata=test, n.trees = 1000)\n",
    "    train_mse[i] = mean((train$Salary - train.pred)^2)\n",
    "    test_mse[i] = mean((test$Salary - test.pred)^2)\n",
    "    }\n",
    "                       \n"
   ]
  },
  {
   "cell_type": "code",
   "execution_count": 80,
   "id": "4f552927",
   "metadata": {},
   "outputs": [
    {
     "data": {
      "image/png": "[encoded data removed]",
      "text/plain": [
       "plot without title"
      ]
     },
     "metadata": {
      "image/png": {
       "height": 420,
       "width": 420
      }
     },
     "output_type": "display_data"
    }
   ],
   "source": [
    "\n",
    "plot(lambdax,train_mse,type=\"l\",xlab=expression(lambda), ylab=\"Train MSE\")\n",
    "\n"
   ]
  },
  {
   "cell_type": "code",
   "execution_count": 82,
   "id": "9c4b8e19",
   "metadata": {},
   "outputs": [
    {
     "data": {
      "image/png": "[encoded data removed]",
      "text/plain": [
       "plot without title"
      ]
     },
     "metadata": {
      "image/png": {
       "height": 420,
       "width": 420
      }
     },
     "output_type": "display_data"
    }
   ],
   "source": [
    "# (d) Produce a plot with different shrinkage values on the x-axis and\n",
    "# the corresponding test set MSE on the y-axis.\n",
    "plot(lambdax,test_mse,type=\"l\",xlab=expression(lambda), ylab=\"Test MSE\")"
   ]
  },
  {
   "cell_type": "code",
   "execution_count": 86,
   "id": "72d7aa24",
   "metadata": {},
   "outputs": [
    {
     "name": "stdout",
     "output_type": "stream",
     "text": [
      "[1] 0.4917959\n"
     ]
    }
   ],
   "source": [
    "# (e) Compare the test MSE of boosting to the test MSE that results\n",
    "# from applying two of the regression approaches seen in\n",
    "# Chapters 3 and 6.\n",
    "library(glmnet)\n",
    "lm.fit = lm(Salary ~ ., data = train)\n",
    "lm.pred = predict(lm.fit, test)\n",
    "print(mean((test$Salary - lm.pred)^2))\n"
   ]
  },
  {
   "cell_type": "code",
   "execution_count": 91,
   "id": "9d1aa629",
   "metadata": {},
   "outputs": [
    {
     "data": {
      "text/html": [
       "0.08"
      ],
      "text/latex": [
       "0.08"
      ],
      "text/markdown": [
       "0.08"
      ],
      "text/plain": [
       "[1] 0.08"
      ]
     },
     "metadata": {},
     "output_type": "display_data"
    }
   ],
   "source": [
    "lambdax[which.min(test_mse)]\n"
   ]
  },
  {
   "cell_type": "code",
   "execution_count": 94,
   "id": "8449feab",
   "metadata": {},
   "outputs": [
    {
     "data": {
      "text/html": [
       "<table class=\"dataframe\">\n",
       "<caption>A data.frame: 19 × 2</caption>\n",
       "<thead>\n",
       "\t<tr><th></th><th scope=col>var</th><th scope=col>rel.inf</th></tr>\n",
       "\t<tr><th></th><th scope=col>&lt;chr&gt;</th><th scope=col>&lt;dbl&gt;</th></tr>\n",
       "</thead>\n",
       "<tbody>\n",
       "\t<tr><th scope=row>CAtBat</th><td>CAtBat   </td><td>23.3901467</td></tr>\n",
       "\t<tr><th scope=row>CRuns</th><td>CRuns    </td><td> 9.3917942</td></tr>\n",
       "\t<tr><th scope=row>PutOuts</th><td>PutOuts  </td><td> 7.4514393</td></tr>\n",
       "\t<tr><th scope=row>Walks</th><td>Walks    </td><td> 6.9554526</td></tr>\n",
       "\t<tr><th scope=row>CHits</th><td>CHits    </td><td> 6.2247155</td></tr>\n",
       "\t<tr><th scope=row>CHmRun</th><td>CHmRun   </td><td> 5.9591513</td></tr>\n",
       "\t<tr><th scope=row>Years</th><td>Years    </td><td> 5.5999805</td></tr>\n",
       "\t<tr><th scope=row>CRBI</th><td>CRBI     </td><td> 5.2429122</td></tr>\n",
       "\t<tr><th scope=row>Assists</th><td>Assists  </td><td> 4.4427258</td></tr>\n",
       "\t<tr><th scope=row>AtBat</th><td>AtBat    </td><td> 4.1958253</td></tr>\n",
       "\t<tr><th scope=row>CWalks</th><td>CWalks   </td><td> 3.9265698</td></tr>\n",
       "\t<tr><th scope=row>Hits</th><td>Hits     </td><td> 3.8459454</td></tr>\n",
       "\t<tr><th scope=row>RBI</th><td>RBI      </td><td> 3.4395871</td></tr>\n",
       "\t<tr><th scope=row>HmRun</th><td>HmRun    </td><td> 3.1961647</td></tr>\n",
       "\t<tr><th scope=row>Errors</th><td>Errors   </td><td> 2.7852353</td></tr>\n",
       "\t<tr><th scope=row>Runs</th><td>Runs     </td><td> 2.3379702</td></tr>\n",
       "\t<tr><th scope=row>Division</th><td>Division </td><td> 0.8087345</td></tr>\n",
       "\t<tr><th scope=row>NewLeague</th><td>NewLeague</td><td> 0.7145786</td></tr>\n",
       "\t<tr><th scope=row>League</th><td>League   </td><td> 0.0910708</td></tr>\n",
       "</tbody>\n",
       "</table>\n"
      ],
      "text/latex": [
       "A data.frame: 19 × 2\n",
       "\\begin{tabular}{r|ll}\n",
       "  & var & rel.inf\\\\\n",
       "  & <chr> & <dbl>\\\\\n",
       "\\hline\n",
       "\tCAtBat & CAtBat    & 23.3901467\\\\\n",
       "\tCRuns & CRuns     &  9.3917942\\\\\n",
       "\tPutOuts & PutOuts   &  7.4514393\\\\\n",
       "\tWalks & Walks     &  6.9554526\\\\\n",
       "\tCHits & CHits     &  6.2247155\\\\\n",
       "\tCHmRun & CHmRun    &  5.9591513\\\\\n",
       "\tYears & Years     &  5.5999805\\\\\n",
       "\tCRBI & CRBI      &  5.2429122\\\\\n",
       "\tAssists & Assists   &  4.4427258\\\\\n",
       "\tAtBat & AtBat     &  4.1958253\\\\\n",
       "\tCWalks & CWalks    &  3.9265698\\\\\n",
       "\tHits & Hits      &  3.8459454\\\\\n",
       "\tRBI & RBI       &  3.4395871\\\\\n",
       "\tHmRun & HmRun     &  3.1961647\\\\\n",
       "\tErrors & Errors    &  2.7852353\\\\\n",
       "\tRuns & Runs      &  2.3379702\\\\\n",
       "\tDivision & Division  &  0.8087345\\\\\n",
       "\tNewLeague & NewLeague &  0.7145786\\\\\n",
       "\tLeague & League    &  0.0910708\\\\\n",
       "\\end{tabular}\n"
      ],
      "text/markdown": [
       "\n",
       "A data.frame: 19 × 2\n",
       "\n",
       "| <!--/--> | var &lt;chr&gt; | rel.inf &lt;dbl&gt; |\n",
       "|---|---|---|\n",
       "| CAtBat | CAtBat    | 23.3901467 |\n",
       "| CRuns | CRuns     |  9.3917942 |\n",
       "| PutOuts | PutOuts   |  7.4514393 |\n",
       "| Walks | Walks     |  6.9554526 |\n",
       "| CHits | CHits     |  6.2247155 |\n",
       "| CHmRun | CHmRun    |  5.9591513 |\n",
       "| Years | Years     |  5.5999805 |\n",
       "| CRBI | CRBI      |  5.2429122 |\n",
       "| Assists | Assists   |  4.4427258 |\n",
       "| AtBat | AtBat     |  4.1958253 |\n",
       "| CWalks | CWalks    |  3.9265698 |\n",
       "| Hits | Hits      |  3.8459454 |\n",
       "| RBI | RBI       |  3.4395871 |\n",
       "| HmRun | HmRun     |  3.1961647 |\n",
       "| Errors | Errors    |  2.7852353 |\n",
       "| Runs | Runs      |  2.3379702 |\n",
       "| Division | Division  |  0.8087345 |\n",
       "| NewLeague | NewLeague |  0.7145786 |\n",
       "| League | League    |  0.0910708 |\n",
       "\n"
      ],
      "text/plain": [
       "          var       rel.inf   \n",
       "CAtBat    CAtBat    23.3901467\n",
       "CRuns     CRuns      9.3917942\n",
       "PutOuts   PutOuts    7.4514393\n",
       "Walks     Walks      6.9554526\n",
       "CHits     CHits      6.2247155\n",
       "CHmRun    CHmRun     5.9591513\n",
       "Years     Years      5.5999805\n",
       "CRBI      CRBI       5.2429122\n",
       "Assists   Assists    4.4427258\n",
       "AtBat     AtBat      4.1958253\n",
       "CWalks    CWalks     3.9265698\n",
       "Hits      Hits       3.8459454\n",
       "RBI       RBI        3.4395871\n",
       "HmRun     HmRun      3.1961647\n",
       "Errors    Errors     2.7852353\n",
       "Runs      Runs       2.3379702\n",
       "Division  Division   0.8087345\n",
       "NewLeague NewLeague  0.7145786\n",
       "League    League     0.0910708"
      ]
     },
     "metadata": {},
     "output_type": "display_data"
    },
    {
     "data": {
      "image/png": "[encoded data removed]",
      "text/plain": [
       "plot without title"
      ]
     },
     "metadata": {
      "image/png": {
       "height": 420,
       "width": 420
      }
     },
     "output_type": "display_data"
    }
   ],
   "source": [
    "# (f) Which variables appear to be the most important predictors in\n",
    "# the boosted model?\n",
    "#CATBAT, CRUNS CWALK are the most important predictors\n",
    "\n",
    "boost= gbm(Salary~., data=train, distribution = \"gaussian\", n.trees = 1000,  shrinkage = 0.08)\n",
    "summary(boost)\n"
   ]
  },
  {
   "cell_type": "code",
   "execution_count": 101,
   "id": "19dc7158",
   "metadata": {},
   "outputs": [
    {
     "data": {
      "text/html": [
       "0.227412580645096"
      ],
      "text/latex": [
       "0.227412580645096"
      ],
      "text/markdown": [
       "0.227412580645096"
      ],
      "text/plain": [
       "[1] 0.2274126"
      ]
     },
     "metadata": {},
     "output_type": "display_data"
    }
   ],
   "source": [
    "# (g) Now apply bagging to the training set. What is the test set MSE\n",
    "# for this approach?\n",
    "#the MSE is lower than the  boosting\n",
    "library(randomForest)\n",
    "baggins = randomForest(Salary~.,train,mtry=19,importance=T)\n",
    "baggins.pred = predict(baggins,newdata = test)\n",
    "mean((test$Salary-baggins.pred)^2)"
   ]
  },
  {
   "cell_type": "code",
   "execution_count": 102,
   "id": "b3c9aff4",
   "metadata": {},
   "outputs": [
    {
     "data": {
      "text/html": [
       "0.248051442908055"
      ],
      "text/latex": [
       "0.248051442908055"
      ],
      "text/markdown": [
       "0.248051442908055"
      ],
      "text/plain": [
       "[1] 0.2480514"
      ]
     },
     "metadata": {},
     "output_type": "display_data"
    }
   ],
   "source": [
    "min(test_mse)"
   ]
  }
 ],
 "metadata": {
  "kernelspec": {
   "display_name": "R",
   "language": "R",
   "name": "ir"
  },
  "language_info": {
   "codemirror_mode": "r",
   "file_extension": ".r",
   "mimetype": "text/x-r-source",
   "name": "R",
   "pygments_lexer": "r",
   "version": "4.0.5"
  }
 },
 "nbformat": 4,
 "nbformat_minor": 5
}
